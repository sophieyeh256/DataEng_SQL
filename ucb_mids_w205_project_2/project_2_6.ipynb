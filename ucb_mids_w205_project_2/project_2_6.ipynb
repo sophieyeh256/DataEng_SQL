{
 "cells": [
  {
   "cell_type": "markdown",
   "id": "3f465500",
   "metadata": {},
   "source": [
    "# Project 2, Part 6, Preliminary analytics\n",
    "\n",
    "University of California, Berkeley\n",
    "\n",
    "Master of Information and Data Science (MIDS) program\n",
    "\n",
    "w205 - Fundamentals of Data Engineering\n",
    "\n",
    "Student: Sophie Yeh\n",
    "\n",
    "Year: 2022\n",
    "\n",
    "Semester: Spring\n",
    "\n",
    "Section: 8\n"
   ]
  },
  {
   "cell_type": "markdown",
   "id": "33c6e20e",
   "metadata": {},
   "source": [
    "# Included Modules and Packages\n",
    "\n",
    "Code cell containing your includes for modules and packages"
   ]
  },
  {
   "cell_type": "code",
   "execution_count": 1,
   "id": "63839f89",
   "metadata": {},
   "outputs": [],
   "source": [
    "import csv\n",
    "import numpy as np\n",
    "import pandas as pd\n",
    "import psycopg2\n",
    "import math"
   ]
  },
  {
   "cell_type": "markdown",
   "id": "c91c8869",
   "metadata": {},
   "source": [
    "# Supporting code\n",
    "\n",
    "Code cells containing any supporting code, such as connecting to the database, any functions, etc.  \n",
    "\n",
    "Remember you can freely use any code from the labs. You do not need to cite code from the labs."
   ]
  },
  {
   "cell_type": "code",
   "execution_count": 3,
   "id": "5d21fb19",
   "metadata": {},
   "outputs": [],
   "source": [
    "#\n",
    "# function to run a select query and return rows in a pandas dataframe\n",
    "# pandas puts all numeric values from postgres to float\n",
    "# if it will fit in an integer, change it to integer\n",
    "#\n",
    "def my_select_query_pandas(query, rollback_before_flag, rollback_after_flag):\n",
    "    \"function to run a select query and return rows in a pandas dataframe\"\n",
    "    \n",
    "    if rollback_before_flag:\n",
    "        connection.rollback()\n",
    "    \n",
    "    df = pd.read_sql_query(query, connection)\n",
    "    \n",
    "    if rollback_after_flag:\n",
    "        connection.rollback()\n",
    "    \n",
    "    # fix the float columns that really should be integers\n",
    "    \n",
    "    for column in df:\n",
    "    \n",
    "        if df[column].dtype == \"float64\":\n",
    "\n",
    "            fraction_flag = False\n",
    "\n",
    "            for value in df[column].values:\n",
    "                \n",
    "                if not np.isnan(value):\n",
    "                    if value - math.floor(value) != 0:\n",
    "                        fraction_flag = True\n",
    "\n",
    "            if not fraction_flag:\n",
    "                df[column] = df[column].astype('Int64')\n",
    "    \n",
    "    return(df)\n",
    "\n",
    "\n",
    "#connect to postgres database\n",
    "connection = psycopg2.connect(\n",
    "    user = \"postgres\",\n",
    "    password = \"ucb\",\n",
    "    host = \"postgres\",\n",
    "    port = \"5432\",\n",
    "    database = \"postgres\"\n",
    ")\n",
    "# create cursor for connections\n",
    "cursor = connection.cursor()"
   ]
  },
  {
   "cell_type": "markdown",
   "id": "d2e6beed",
   "metadata": {},
   "source": [
    "# 2.6.1 Total dollar amount of sales\n",
    "\n",
    "Write a query to sum the total_amount in the stage_1_peak_sales table and present the sum in a Pandas dataframe with appropriate column header name.\n",
    "\n",
    "It is fine to leave the sum as is.  You do not have to format it or put in dollar signs.\n",
    "\n",
    "Remember that you need to convert varchars to numeric using column::numeric before doing any math on them.\n",
    "\n",
    "Pattern your code after the examples in the labs.  You may use as many code cells as you need."
   ]
  },
  {
   "cell_type": "code",
   "execution_count": 6,
   "id": "c5d749bc",
   "metadata": {},
   "outputs": [
    {
     "data": {
      "text/html": [
       "<style  type=\"text/css\" >\n",
       "</style><table id=\"T_73235_\" ><caption>Total Dollar Amount of Sales</caption><thead>    <tr>        <th class=\"blank level0\" ></th>        <th class=\"col_heading level0 col0\" >sum_total_dollars</th>    </tr></thead><tbody>\n",
       "                <tr>\n",
       "                        <th id=\"T_73235_level0_row0\" class=\"row_heading level0 row0\" >0</th>\n",
       "                        <td id=\"T_73235_row0_col0\" class=\"data row0 col0\" >6480</td>\n",
       "            </tr>\n",
       "    </tbody></table>"
      ],
      "text/plain": [
       "<pandas.io.formats.style.Styler at 0x7fdf65799670>"
      ]
     },
     "execution_count": 6,
     "metadata": {},
     "output_type": "execute_result"
    }
   ],
   "source": [
    "def dollar_sales():\n",
    "    query = \"\"\"\n",
    "        SELECT sum(total_amount::numeric) as sum_total_dollars\n",
    "        FROM stage_1_peak_sales\n",
    "        \"\"\"\n",
    "    return my_select_query_pandas(query, True, True).style.set_caption(\"Total Dollar Amount of Sales\")\n",
    "dollar_sales()"
   ]
  },
  {
   "cell_type": "markdown",
   "id": "4ae8ab94",
   "metadata": {},
   "source": [
    "# 2.6.2 Total number of sales\n",
    "\n",
    "Write a query to count the total number of sales in the stage_1_peak_sales table and present the sum in a Pandas dataframe with appropriate column header name.  Each record in the stage_1_peak_sales table is a sale.\n",
    "\n",
    "It is fine to leave the count as is.  You do not have to format it.\n",
    "\n",
    "Pattern your code after the examples in the labs.  You may use as many code cells as you need."
   ]
  },
  {
   "cell_type": "code",
   "execution_count": 7,
   "id": "0c1c067f",
   "metadata": {},
   "outputs": [
    {
     "data": {
      "text/html": [
       "<style  type=\"text/css\" >\n",
       "</style><table id=\"T_f4202_\" ><caption>Total Number of Sales</caption><thead>    <tr>        <th class=\"blank level0\" ></th>        <th class=\"col_heading level0 col0\" >sum_num_sales</th>    </tr></thead><tbody>\n",
       "                <tr>\n",
       "                        <th id=\"T_f4202_level0_row0\" class=\"row_heading level0 row0\" >0</th>\n",
       "                        <td id=\"T_f4202_row0_col0\" class=\"data row0 col0\" >97</td>\n",
       "            </tr>\n",
       "    </tbody></table>"
      ],
      "text/plain": [
       "<pandas.io.formats.style.Styler at 0x7fdf661d5af0>"
      ]
     },
     "execution_count": 7,
     "metadata": {},
     "output_type": "execute_result"
    }
   ],
   "source": [
    "def num_sales():\n",
    "    query = \"\"\"\n",
    "        SELECT count(sale_id) as sum_num_sales\n",
    "        FROM stage_1_peak_sales\n",
    "        \"\"\"\n",
    "    return my_select_query_pandas(query, True, True).style.set_caption(\"Total Number of Sales\")\n",
    "num_sales()"
   ]
  },
  {
   "cell_type": "markdown",
   "id": "da981c22",
   "metadata": {},
   "source": [
    "# 2.6.3 Total dollar amount of sales, total cut paid to Peak, net to AGM\n",
    "\n",
    "AGM is paying Peak an 18% cut to deliver the meals.\n",
    "\n",
    "Write a query to calculate the total dollar amount of sales, the total cut paid to Peak, and the net to AGM.  \n",
    "\n",
    "You may want to round to 2 decimal places for the total cut paid to Peak and the net to AGM, as they will be decimal.  \n",
    "\n",
    "You do not need to format the numers with commas, dollar signs, etc.\n",
    "\n",
    "Remember that you need to convert varchars to numeric using column::numeric before doing any math on them.\n",
    "\n",
    "Pattern your code after the examples in the labs.  You may use as many code cells as you need."
   ]
  },
  {
   "cell_type": "code",
   "execution_count": 8,
   "id": "2ff10263",
   "metadata": {},
   "outputs": [
    {
     "data": {
      "text/html": [
       "<style  type=\"text/css\" >\n",
       "</style><table id=\"T_a8195_\" ><caption>Total Dollar Amount of Sales and Cuts</caption><thead>    <tr>        <th class=\"blank level0\" ></th>        <th class=\"col_heading level0 col0\" >sum_total_dollars</th>        <th class=\"col_heading level0 col1\" >peak_cut</th>        <th class=\"col_heading level0 col2\" >agm_cut</th>    </tr></thead><tbody>\n",
       "                <tr>\n",
       "                        <th id=\"T_a8195_level0_row0\" class=\"row_heading level0 row0\" >0</th>\n",
       "                        <td id=\"T_a8195_row0_col0\" class=\"data row0 col0\" >6480</td>\n",
       "                        <td id=\"T_a8195_row0_col1\" class=\"data row0 col1\" >1166.40</td>\n",
       "                        <td id=\"T_a8195_row0_col2\" class=\"data row0 col2\" >5313.60</td>\n",
       "            </tr>\n",
       "    </tbody></table>"
      ],
      "text/plain": [
       "<pandas.io.formats.style.Styler at 0x7fdf661d5a30>"
      ]
     },
     "execution_count": 8,
     "metadata": {},
     "output_type": "execute_result"
    }
   ],
   "source": [
    "def sales_cut():\n",
    "    query = \"\"\"\n",
    "        SELECT sum(total_amount::numeric) as sum_total_dollars, cast(0.18*sum(total_amount::numeric) as varchar) as peak_cut, cast(sum(total_amount::numeric)*(1-0.18) as varchar) as agm_cut\n",
    "        FROM stage_1_peak_sales\n",
    "        \"\"\"\n",
    "    return my_select_query_pandas(query, True, True).style.set_caption(\"Total Dollar Amount of Sales and Cuts\")\n",
    "sales_cut()"
   ]
  },
  {
   "cell_type": "markdown",
   "id": "115bf249",
   "metadata": {},
   "source": [
    "# 2.6.4 Total number of meals sold\n",
    "\n",
    "Write a query to sum the quantity in the stage_1_peak_line_items table and present the sum in a Pandas dataframe with appropriate column header name\n",
    "\n",
    "It is fine to leave the number as is.  You do not have to format it.\n",
    "\n",
    "Remember that you need to convert varchars to numeric using column::numeric before doing any math on them.\n",
    "\n",
    "Pattern your code after the examples in the labs.  You may use as many code cells as you need."
   ]
  },
  {
   "cell_type": "code",
   "execution_count": 9,
   "id": "a099b456",
   "metadata": {},
   "outputs": [
    {
     "data": {
      "text/html": [
       "<style  type=\"text/css\" >\n",
       "</style><table id=\"T_4a87c_\" ><caption>Total Number of Meals Sold</caption><thead>    <tr>        <th class=\"blank level0\" ></th>        <th class=\"col_heading level0 col0\" >sum_quantity</th>    </tr></thead><tbody>\n",
       "                <tr>\n",
       "                        <th id=\"T_4a87c_level0_row0\" class=\"row_heading level0 row0\" >0</th>\n",
       "                        <td id=\"T_4a87c_row0_col0\" class=\"data row0 col0\" >540</td>\n",
       "            </tr>\n",
       "    </tbody></table>"
      ],
      "text/plain": [
       "<pandas.io.formats.style.Styler at 0x7fdf661d5310>"
      ]
     },
     "execution_count": 9,
     "metadata": {},
     "output_type": "execute_result"
    }
   ],
   "source": [
    "def total_meals():\n",
    "    query = \"\"\"\n",
    "        SELECT sum(quantity::numeric) as sum_quantity\n",
    "        FROM stage_1_peak_line_items\n",
    "        \"\"\"\n",
    "    return my_select_query_pandas(query, True, True).style.set_caption(\"Total Number of Meals Sold\")\n",
    "total_meals()"
   ]
  },
  {
   "cell_type": "markdown",
   "id": "1040af7a",
   "metadata": {},
   "source": [
    "# 2.6.5 Total number of meals sold by meal\n",
    "\n",
    "Expanding on the last query, group the sum of quantity by meal.  Display the meal followed by the number of meals sold. \n",
    "\n",
    "Sort by highest number sold first.\n",
    "\n",
    "Note that you will need to use the peak_product_mapping table and the products table in addition to the stage_1_peak_line_items table.\n",
    "\n",
    "It is fine to leave the numbers as is.  You do not have to format them.\n",
    "\n",
    "Remember that you need to convert varchars to numeric using column::numeric before doing any math on them.\n",
    "\n",
    "Pattern your code after the examples in the labs.  You may use as many code cells as you need."
   ]
  },
  {
   "cell_type": "code",
   "execution_count": 10,
   "id": "9497750b",
   "metadata": {},
   "outputs": [
    {
     "data": {
      "text/html": [
       "<style  type=\"text/css\" >\n",
       "</style><table id=\"T_d0b76_\" ><caption>Total Number of Meals Sold By Meal</caption><thead>    <tr>        <th class=\"blank level0\" ></th>        <th class=\"col_heading level0 col0\" >meal</th>        <th class=\"col_heading level0 col1\" >quantity</th>    </tr></thead><tbody>\n",
       "                <tr>\n",
       "                        <th id=\"T_d0b76_level0_row0\" class=\"row_heading level0 row0\" >0</th>\n",
       "                        <td id=\"T_d0b76_row0_col0\" class=\"data row0 col0\" >Pistachio Salmon</td>\n",
       "                        <td id=\"T_d0b76_row0_col1\" class=\"data row0 col1\" >113</td>\n",
       "            </tr>\n",
       "            <tr>\n",
       "                        <th id=\"T_d0b76_level0_row1\" class=\"row_heading level0 row1\" >1</th>\n",
       "                        <td id=\"T_d0b76_row1_col0\" class=\"data row1 col0\" >Eggplant Lasagna</td>\n",
       "                        <td id=\"T_d0b76_row1_col1\" class=\"data row1 col1\" >107</td>\n",
       "            </tr>\n",
       "            <tr>\n",
       "                        <th id=\"T_d0b76_level0_row2\" class=\"row_heading level0 row2\" >2</th>\n",
       "                        <td id=\"T_d0b76_row2_col0\" class=\"data row2 col0\" >Curry Chicken</td>\n",
       "                        <td id=\"T_d0b76_row2_col1\" class=\"data row2 col1\" >101</td>\n",
       "            </tr>\n",
       "            <tr>\n",
       "                        <th id=\"T_d0b76_level0_row3\" class=\"row_heading level0 row3\" >3</th>\n",
       "                        <td id=\"T_d0b76_row3_col0\" class=\"data row3 col0\" >Teriyaki Chicken</td>\n",
       "                        <td id=\"T_d0b76_row3_col1\" class=\"data row3 col1\" >80</td>\n",
       "            </tr>\n",
       "            <tr>\n",
       "                        <th id=\"T_d0b76_level0_row4\" class=\"row_heading level0 row4\" >4</th>\n",
       "                        <td id=\"T_d0b76_row4_col0\" class=\"data row4 col0\" >Brocolli Stir Fry</td>\n",
       "                        <td id=\"T_d0b76_row4_col1\" class=\"data row4 col1\" >60</td>\n",
       "            </tr>\n",
       "            <tr>\n",
       "                        <th id=\"T_d0b76_level0_row5\" class=\"row_heading level0 row5\" >5</th>\n",
       "                        <td id=\"T_d0b76_row5_col0\" class=\"data row5 col0\" >Tilapia Piccata</td>\n",
       "                        <td id=\"T_d0b76_row5_col1\" class=\"data row5 col1\" >44</td>\n",
       "            </tr>\n",
       "            <tr>\n",
       "                        <th id=\"T_d0b76_level0_row6\" class=\"row_heading level0 row6\" >6</th>\n",
       "                        <td id=\"T_d0b76_row6_col0\" class=\"data row6 col0\" >Spinach Orzo</td>\n",
       "                        <td id=\"T_d0b76_row6_col1\" class=\"data row6 col1\" >27</td>\n",
       "            </tr>\n",
       "            <tr>\n",
       "                        <th id=\"T_d0b76_level0_row7\" class=\"row_heading level0 row7\" >7</th>\n",
       "                        <td id=\"T_d0b76_row7_col0\" class=\"data row7 col0\" >Chicken Salad</td>\n",
       "                        <td id=\"T_d0b76_row7_col1\" class=\"data row7 col1\" >8</td>\n",
       "            </tr>\n",
       "    </tbody></table>"
      ],
      "text/plain": [
       "<pandas.io.formats.style.Styler at 0x7fdf418b1040>"
      ]
     },
     "execution_count": 10,
     "metadata": {},
     "output_type": "execute_result"
    }
   ],
   "source": [
    "def meal_ranks():\n",
    "    query = \"\"\"\n",
    "        SELECT p2.description as meal, sum(quantity::numeric) as quantity\n",
    "        FROM stage_1_peak_line_items as l\n",
    "            join peak_product_mapping as p1\n",
    "            on p1.peak_product_id = l.product_id::numeric\n",
    "            join products as p2\n",
    "            on p2.product_id = p1.product_id\n",
    "        group by p2.description\n",
    "        order by quantity DESC\n",
    "\n",
    "        \"\"\"\n",
    "    return my_select_query_pandas(query, True, True).style.set_caption(\"Total Number of Meals Sold By Meal\")\n",
    "meal_ranks()"
   ]
  },
  {
   "cell_type": "markdown",
   "id": "caa060da",
   "metadata": {},
   "source": [
    "# 2.6.6 Average number of meals per sale\n",
    "\n",
    "Write a query to find the average number of meals per sale, which should be equal to the total number of meals sold divided by the total number of sales, both of which we have calculated before.\n",
    "\n",
    "You may want to round to 1 decimal place.\n",
    "\n",
    "Remember that you need to convert varchars to numeric using column::numeric before doing any math on them.\n",
    "\n",
    "Pattern your code after the examples in the labs.  You may use as many code cells as you need."
   ]
  },
  {
   "cell_type": "code",
   "execution_count": 11,
   "id": "e60b0a29",
   "metadata": {},
   "outputs": [
    {
     "data": {
      "text/html": [
       "<style  type=\"text/css\" >\n",
       "</style><table id=\"T_b4e9f_\" ><caption>Average Number of Meals per Sale</caption><thead>    <tr>        <th class=\"blank level0\" ></th>        <th class=\"col_heading level0 col0\" >quantity</th>    </tr></thead><tbody>\n",
       "                <tr>\n",
       "                        <th id=\"T_b4e9f_level0_row0\" class=\"row_heading level0 row0\" >0</th>\n",
       "                        <td id=\"T_b4e9f_row0_col0\" class=\"data row0 col0\" >5.6</td>\n",
       "            </tr>\n",
       "    </tbody></table>"
      ],
      "text/plain": [
       "<pandas.io.formats.style.Styler at 0x7fdf41913310>"
      ]
     },
     "execution_count": 11,
     "metadata": {},
     "output_type": "execute_result"
    }
   ],
   "source": [
    "def avg_meals():\n",
    "    query = \"\"\"\n",
    "        SELECT cast(round(sum(l.quantity::numeric)/count(distinct s.sale_id), 1) as varchar) as quantity\n",
    "        FROM stage_1_peak_sales as s\n",
    "            JOIN stage_1_peak_line_items as l\n",
    "            ON s.sale_id = l.sale_id\n",
    "        \"\"\"\n",
    "    return my_select_query_pandas(query, True, True).style.set_caption(\"Average Number of Meals per Sale\")\n",
    "avg_meals()"
   ]
  },
  {
   "cell_type": "code",
   "execution_count": null,
   "id": "5290bab1",
   "metadata": {},
   "outputs": [],
   "source": []
  }
 ],
 "metadata": {
  "kernelspec": {
   "display_name": "Python 3",
   "language": "python",
   "name": "python3"
  },
  "language_info": {
   "codemirror_mode": {
    "name": "ipython",
    "version": 3
   },
   "file_extension": ".py",
   "mimetype": "text/x-python",
   "name": "python",
   "nbconvert_exporter": "python",
   "pygments_lexer": "ipython3",
   "version": "3.8.8"
  }
 },
 "nbformat": 4,
 "nbformat_minor": 5
}
