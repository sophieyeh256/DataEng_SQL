{
 "cells": [
  {
   "cell_type": "markdown",
   "id": "5ef2321d",
   "metadata": {},
   "source": [
    "# Project 1, Part 3, Executive Questions: Product Specific Questions\n",
    "\n",
    "University of California, Berkeley\n",
    "Master of Information and Data Science (MIDS) program\n",
    "w205 - Fundamentals of Data Engineering\n",
    "\n",
    "Student: Sophie Yeh\n",
    "\n",
    "Year: 2022\n",
    "\n",
    "Semester: Spring\n",
    "\n",
    "Section: 8\n"
   ]
  },
  {
   "cell_type": "markdown",
   "id": "7272bf9d",
   "metadata": {},
   "source": [
    "# Included Modules and Packages\n",
    "\n",
    "Code cell containing your includes for modules and packages"
   ]
  },
  {
   "cell_type": "code",
   "execution_count": 35,
   "id": "51b70d97",
   "metadata": {},
   "outputs": [
    {
     "name": "stdout",
     "output_type": "stream",
     "text": [
      "Requirement already satisfied: plotly in /opt/conda/lib/python3.8/site-packages (5.5.0)\r\n",
      "Requirement already satisfied: six in /opt/conda/lib/python3.8/site-packages (from plotly) (1.15.0)\r\n",
      "Requirement already satisfied: tenacity>=6.2.0 in /opt/conda/lib/python3.8/site-packages (from plotly) (8.0.1)\r\n"
     ]
    }
   ],
   "source": [
    "!pip install plotly\n",
    "import math\n",
    "import numpy as np\n",
    "import pandas as pd\n",
    "import psycopg2\n",
    "import plotly.express as px"
   ]
  },
  {
   "cell_type": "markdown",
   "id": "8cdc6092",
   "metadata": {},
   "source": [
    "# Supporting code\n",
    "\n",
    "Code cells containing any supporting code, such as connecting to the database, any functions, etc.  Remember you can use any code from the labs."
   ]
  },
  {
   "cell_type": "code",
   "execution_count": 36,
   "id": "18cd2cc1",
   "metadata": {},
   "outputs": [],
   "source": [
    "#\n",
    "# function to run a select query and return rows in a pandas dataframe\n",
    "# pandas puts all numeric values from postgres to float\n",
    "# if it will fit in an integer, change it to integer\n",
    "#\n",
    "def my_select_query_pandas(query, rollback_before_flag, rollback_after_flag):\n",
    "    \"function to run a select query and return rows in a pandas dataframe\"\n",
    "    \n",
    "    if rollback_before_flag:\n",
    "        connection.rollback()\n",
    "    \n",
    "    df = pd.read_sql_query(query, connection)\n",
    "    \n",
    "    if rollback_after_flag:\n",
    "        connection.rollback()\n",
    "    \n",
    "    # fix the float columns that really should be integers\n",
    "    \n",
    "    for column in df:\n",
    "    \n",
    "        if df[column].dtype == \"float64\":\n",
    "\n",
    "            fraction_flag = False\n",
    "\n",
    "            for value in df[column].values:\n",
    "                \n",
    "                if not np.isnan(value):\n",
    "                    if value - math.floor(value) != 0:\n",
    "                        fraction_flag = True\n",
    "\n",
    "            if not fraction_flag:\n",
    "                df[column] = df[column].astype('Int64')\n",
    "    \n",
    "    return(df)\n",
    "#connect to postgres database\n",
    "connection = psycopg2.connect(\n",
    "    user = \"postgres\",\n",
    "    password = \"ucb\",\n",
    "    host = \"postgres\",\n",
    "    port = \"5432\",\n",
    "    database = \"postgres\"\n",
    ")\n",
    "# create cursor for connections\n",
    "cursor = connection.cursor()"
   ]
  },
  {
   "cell_type": "markdown",
   "id": "041fd6f9",
   "metadata": {},
   "source": [
    "# Instructions for Specific Questions\n",
    "\n",
    "For each specific quesion, you must write 1 and only 1 query that answers that specific question.  The results of your query must be displayed in a Pandas dataframe as demonstrated in the labs\n",
    "\n",
    "All output should be sorted.\n",
    "\n",
    "For store name, use the city name the store is located in.\n",
    "\n",
    "When sorting by store name, sort in alphabetical order.\n",
    "\n",
    "For meal name, use the product description.\n",
    "\n",
    "When sorting by meal name, sort in alphabetical order.\n",
    "\n",
    "For month, use the full month name: January, February, March, etc.\n",
    "\n",
    "When sorting by month, sort in calendar order: January, February, March, etc.  You may find it useful to include a month number to help with the sort.  It's ok to leave it in the output.\n",
    "\n",
    "For day of week, use the full day of week name: Sunday, Monday, Tuesday, etc.\n",
    "\n",
    "When sorting by day of week, sort in day of week order: Sunday, Monday, Tuesday, etc. You may find it usefule to include a day of week number to help with the sort.  It's ok to leave it in the output.\n"
   ]
  },
  {
   "cell_type": "markdown",
   "id": "56b17701",
   "metadata": {},
   "source": [
    "# 1.3.1 How many meals were purchased for all of AGM?"
   ]
  },
  {
   "cell_type": "code",
   "execution_count": 37,
   "id": "46e68503",
   "metadata": {},
   "outputs": [
    {
     "data": {
      "text/html": [
       "<style  type=\"text/css\" >\n",
       "</style><table id=\"T_32958_\" ><caption>Meals purchased for all of AGM</caption><thead>    <tr>        <th class=\"blank level0\" ></th>        <th class=\"col_heading level0 col0\" >quantity</th>    </tr></thead><tbody>\n",
       "                <tr>\n",
       "                        <th id=\"T_32958_level0_row0\" class=\"row_heading level0 row0\" >0</th>\n",
       "                        <td id=\"T_32958_row0_col0\" class=\"data row0 col0\" >8228284</td>\n",
       "            </tr>\n",
       "    </tbody></table>"
      ],
      "text/plain": [
       "<pandas.io.formats.style.Styler at 0x7fbecca23070>"
      ]
     },
     "execution_count": 37,
     "metadata": {},
     "output_type": "execute_result"
    }
   ],
   "source": [
    "def ct_meals_agm():\n",
    "    # Meals purchased for all of AGM\n",
    "    rollback_before_flag = True\n",
    "    rollback_after_flag = True\n",
    "\n",
    "    query = \"\"\"\n",
    "\n",
    "    SELECT SUM(quantity) as quantity\n",
    "    FROM line_items\n",
    "\n",
    "    \"\"\"\n",
    "    return my_select_query_pandas(query, rollback_before_flag, rollback_after_flag)\n",
    "ct_meals_agm().style.set_caption('Meals purchased for all of AGM')"
   ]
  },
  {
   "cell_type": "markdown",
   "id": "89a014cb",
   "metadata": {},
   "source": [
    "# 1.3.2 How many meals were purchased for all of AGM by meal?\n",
    "\n",
    "Sort by meal name in alphabetical order"
   ]
  },
  {
   "cell_type": "code",
   "execution_count": 38,
   "id": "71d0fa12",
   "metadata": {},
   "outputs": [
    {
     "data": {
      "text/html": [
       "<style  type=\"text/css\" >\n",
       "</style><table id=\"T_f90eb_\" ><caption>Meals purchased for all of AGM by meal</caption><thead>    <tr>        <th class=\"blank level0\" ></th>        <th class=\"col_heading level0 col0\" >meal_name</th>        <th class=\"col_heading level0 col1\" >quantity</th>    </tr></thead><tbody>\n",
       "                <tr>\n",
       "                        <th id=\"T_f90eb_level0_row0\" class=\"row_heading level0 row0\" >0</th>\n",
       "                        <td id=\"T_f90eb_row0_col0\" class=\"data row0 col0\" >Brocolli Stir Fry</td>\n",
       "                        <td id=\"T_f90eb_row0_col1\" class=\"data row0 col1\" >913984</td>\n",
       "            </tr>\n",
       "            <tr>\n",
       "                        <th id=\"T_f90eb_level0_row1\" class=\"row_heading level0 row1\" >1</th>\n",
       "                        <td id=\"T_f90eb_row1_col0\" class=\"data row1 col0\" >Chicken Salad</td>\n",
       "                        <td id=\"T_f90eb_row1_col1\" class=\"data row1 col1\" >228561</td>\n",
       "            </tr>\n",
       "            <tr>\n",
       "                        <th id=\"T_f90eb_level0_row2\" class=\"row_heading level0 row2\" >2</th>\n",
       "                        <td id=\"T_f90eb_row2_col0\" class=\"data row2 col0\" >Curry Chicken</td>\n",
       "                        <td id=\"T_f90eb_row2_col1\" class=\"data row2 col1\" >1368884</td>\n",
       "            </tr>\n",
       "            <tr>\n",
       "                        <th id=\"T_f90eb_level0_row3\" class=\"row_heading level0 row3\" >3</th>\n",
       "                        <td id=\"T_f90eb_row3_col0\" class=\"data row3 col0\" >Eggplant Lasagna</td>\n",
       "                        <td id=\"T_f90eb_row3_col1\" class=\"data row3 col1\" >1599058</td>\n",
       "            </tr>\n",
       "            <tr>\n",
       "                        <th id=\"T_f90eb_level0_row4\" class=\"row_heading level0 row4\" >4</th>\n",
       "                        <td id=\"T_f90eb_row4_col0\" class=\"data row4 col0\" >Pistachio Salmon</td>\n",
       "                        <td id=\"T_f90eb_row4_col1\" class=\"data row4 col1\" >1828778</td>\n",
       "            </tr>\n",
       "            <tr>\n",
       "                        <th id=\"T_f90eb_level0_row5\" class=\"row_heading level0 row5\" >5</th>\n",
       "                        <td id=\"T_f90eb_row5_col0\" class=\"data row5 col0\" >Spinach Orzo</td>\n",
       "                        <td id=\"T_f90eb_row5_col1\" class=\"data row5 col1\" >456769</td>\n",
       "            </tr>\n",
       "            <tr>\n",
       "                        <th id=\"T_f90eb_level0_row6\" class=\"row_heading level0 row6\" >6</th>\n",
       "                        <td id=\"T_f90eb_row6_col0\" class=\"data row6 col0\" >Teriyaki Chicken</td>\n",
       "                        <td id=\"T_f90eb_row6_col1\" class=\"data row6 col1\" >1145013</td>\n",
       "            </tr>\n",
       "            <tr>\n",
       "                        <th id=\"T_f90eb_level0_row7\" class=\"row_heading level0 row7\" >7</th>\n",
       "                        <td id=\"T_f90eb_row7_col0\" class=\"data row7 col0\" >Tilapia Piccata</td>\n",
       "                        <td id=\"T_f90eb_row7_col1\" class=\"data row7 col1\" >687237</td>\n",
       "            </tr>\n",
       "    </tbody></table>"
      ],
      "text/plain": [
       "<pandas.io.formats.style.Styler at 0x7fbecfdaa6a0>"
      ]
     },
     "execution_count": 38,
     "metadata": {},
     "output_type": "execute_result"
    }
   ],
   "source": [
    "def ct_meals_by_meal():\n",
    "    # Meals purchased for all of AGM by meal\n",
    "    rollback_before_flag = True\n",
    "    rollback_after_flag = True\n",
    "\n",
    "    query = \"\"\"\n",
    "\n",
    "    SELECT prod.description as meal_name, SUM(li.quantity) as quantity\n",
    "    FROM line_items as li\n",
    "        JOIN products as prod\n",
    "        ON li.product_id = prod.product_id\n",
    "    GROUP BY meal_name\n",
    "    ORDER BY meal_name\n",
    "\n",
    "    \"\"\"\n",
    "    return my_select_query_pandas(query, rollback_before_flag, rollback_after_flag)\n",
    "ct_meals_by_meal().style.set_caption('Meals purchased for all of AGM by meal')"
   ]
  },
  {
   "cell_type": "markdown",
   "id": "e9b50d77",
   "metadata": {},
   "source": [
    "# 1.3.3 How many meals were purchased by store and by meal?\n",
    "\n",
    "Sort by store name in alphabetical order, then by meal name in alphabetical order"
   ]
  },
  {
   "cell_type": "code",
   "execution_count": 39,
   "id": "e83b9c3e",
   "metadata": {},
   "outputs": [
    {
     "data": {
      "text/html": [
       "<style  type=\"text/css\" >\n",
       "</style><table id=\"T_27dd5_\" ><caption>Meals purchased by store and meal</caption><thead>    <tr>        <th class=\"blank level0\" ></th>        <th class=\"col_heading level0 col0\" >store</th>        <th class=\"col_heading level0 col1\" >meal_name</th>        <th class=\"col_heading level0 col2\" >quantity</th>    </tr></thead><tbody>\n",
       "                <tr>\n",
       "                        <th id=\"T_27dd5_level0_row0\" class=\"row_heading level0 row0\" >0</th>\n",
       "                        <td id=\"T_27dd5_row0_col0\" class=\"data row0 col0\" >Berkeley</td>\n",
       "                        <td id=\"T_27dd5_row0_col1\" class=\"data row0 col1\" >Brocolli Stir Fry</td>\n",
       "                        <td id=\"T_27dd5_row0_col2\" class=\"data row0 col2\" >232038</td>\n",
       "            </tr>\n",
       "            <tr>\n",
       "                        <th id=\"T_27dd5_level0_row1\" class=\"row_heading level0 row1\" >1</th>\n",
       "                        <td id=\"T_27dd5_row1_col0\" class=\"data row1 col0\" >Berkeley</td>\n",
       "                        <td id=\"T_27dd5_row1_col1\" class=\"data row1 col1\" >Chicken Salad</td>\n",
       "                        <td id=\"T_27dd5_row1_col2\" class=\"data row1 col2\" >57719</td>\n",
       "            </tr>\n",
       "            <tr>\n",
       "                        <th id=\"T_27dd5_level0_row2\" class=\"row_heading level0 row2\" >2</th>\n",
       "                        <td id=\"T_27dd5_row2_col0\" class=\"data row2 col0\" >Berkeley</td>\n",
       "                        <td id=\"T_27dd5_row2_col1\" class=\"data row2 col1\" >Curry Chicken</td>\n",
       "                        <td id=\"T_27dd5_row2_col2\" class=\"data row2 col2\" >346508</td>\n",
       "            </tr>\n",
       "            <tr>\n",
       "                        <th id=\"T_27dd5_level0_row3\" class=\"row_heading level0 row3\" >3</th>\n",
       "                        <td id=\"T_27dd5_row3_col0\" class=\"data row3 col0\" >Berkeley</td>\n",
       "                        <td id=\"T_27dd5_row3_col1\" class=\"data row3 col1\" >Eggplant Lasagna</td>\n",
       "                        <td id=\"T_27dd5_row3_col2\" class=\"data row3 col2\" >405637</td>\n",
       "            </tr>\n",
       "            <tr>\n",
       "                        <th id=\"T_27dd5_level0_row4\" class=\"row_heading level0 row4\" >4</th>\n",
       "                        <td id=\"T_27dd5_row4_col0\" class=\"data row4 col0\" >Berkeley</td>\n",
       "                        <td id=\"T_27dd5_row4_col1\" class=\"data row4 col1\" >Pistachio Salmon</td>\n",
       "                        <td id=\"T_27dd5_row4_col2\" class=\"data row4 col2\" >464274</td>\n",
       "            </tr>\n",
       "            <tr>\n",
       "                        <th id=\"T_27dd5_level0_row5\" class=\"row_heading level0 row5\" >5</th>\n",
       "                        <td id=\"T_27dd5_row5_col0\" class=\"data row5 col0\" >Berkeley</td>\n",
       "                        <td id=\"T_27dd5_row5_col1\" class=\"data row5 col1\" >Spinach Orzo</td>\n",
       "                        <td id=\"T_27dd5_row5_col2\" class=\"data row5 col2\" >115469</td>\n",
       "            </tr>\n",
       "            <tr>\n",
       "                        <th id=\"T_27dd5_level0_row6\" class=\"row_heading level0 row6\" >6</th>\n",
       "                        <td id=\"T_27dd5_row6_col0\" class=\"data row6 col0\" >Berkeley</td>\n",
       "                        <td id=\"T_27dd5_row6_col1\" class=\"data row6 col1\" >Teriyaki Chicken</td>\n",
       "                        <td id=\"T_27dd5_row6_col2\" class=\"data row6 col2\" >290858</td>\n",
       "            </tr>\n",
       "            <tr>\n",
       "                        <th id=\"T_27dd5_level0_row7\" class=\"row_heading level0 row7\" >7</th>\n",
       "                        <td id=\"T_27dd5_row7_col0\" class=\"data row7 col0\" >Berkeley</td>\n",
       "                        <td id=\"T_27dd5_row7_col1\" class=\"data row7 col1\" >Tilapia Piccata</td>\n",
       "                        <td id=\"T_27dd5_row7_col2\" class=\"data row7 col2\" >174252</td>\n",
       "            </tr>\n",
       "            <tr>\n",
       "                        <th id=\"T_27dd5_level0_row8\" class=\"row_heading level0 row8\" >8</th>\n",
       "                        <td id=\"T_27dd5_row8_col0\" class=\"data row8 col0\" >Dallas</td>\n",
       "                        <td id=\"T_27dd5_row8_col1\" class=\"data row8 col1\" >Brocolli Stir Fry</td>\n",
       "                        <td id=\"T_27dd5_row8_col2\" class=\"data row8 col2\" >179885</td>\n",
       "            </tr>\n",
       "            <tr>\n",
       "                        <th id=\"T_27dd5_level0_row9\" class=\"row_heading level0 row9\" >9</th>\n",
       "                        <td id=\"T_27dd5_row9_col0\" class=\"data row9 col0\" >Dallas</td>\n",
       "                        <td id=\"T_27dd5_row9_col1\" class=\"data row9 col1\" >Chicken Salad</td>\n",
       "                        <td id=\"T_27dd5_row9_col2\" class=\"data row9 col2\" >44756</td>\n",
       "            </tr>\n",
       "            <tr>\n",
       "                        <th id=\"T_27dd5_level0_row10\" class=\"row_heading level0 row10\" >10</th>\n",
       "                        <td id=\"T_27dd5_row10_col0\" class=\"data row10 col0\" >Dallas</td>\n",
       "                        <td id=\"T_27dd5_row10_col1\" class=\"data row10 col1\" >Curry Chicken</td>\n",
       "                        <td id=\"T_27dd5_row10_col2\" class=\"data row10 col2\" >269689</td>\n",
       "            </tr>\n",
       "            <tr>\n",
       "                        <th id=\"T_27dd5_level0_row11\" class=\"row_heading level0 row11\" >11</th>\n",
       "                        <td id=\"T_27dd5_row11_col0\" class=\"data row11 col0\" >Dallas</td>\n",
       "                        <td id=\"T_27dd5_row11_col1\" class=\"data row11 col1\" >Eggplant Lasagna</td>\n",
       "                        <td id=\"T_27dd5_row11_col2\" class=\"data row11 col2\" >314383</td>\n",
       "            </tr>\n",
       "            <tr>\n",
       "                        <th id=\"T_27dd5_level0_row12\" class=\"row_heading level0 row12\" >12</th>\n",
       "                        <td id=\"T_27dd5_row12_col0\" class=\"data row12 col0\" >Dallas</td>\n",
       "                        <td id=\"T_27dd5_row12_col1\" class=\"data row12 col1\" >Pistachio Salmon</td>\n",
       "                        <td id=\"T_27dd5_row12_col2\" class=\"data row12 col2\" >359615</td>\n",
       "            </tr>\n",
       "            <tr>\n",
       "                        <th id=\"T_27dd5_level0_row13\" class=\"row_heading level0 row13\" >13</th>\n",
       "                        <td id=\"T_27dd5_row13_col0\" class=\"data row13 col0\" >Dallas</td>\n",
       "                        <td id=\"T_27dd5_row13_col1\" class=\"data row13 col1\" >Spinach Orzo</td>\n",
       "                        <td id=\"T_27dd5_row13_col2\" class=\"data row13 col2\" >89644</td>\n",
       "            </tr>\n",
       "            <tr>\n",
       "                        <th id=\"T_27dd5_level0_row14\" class=\"row_heading level0 row14\" >14</th>\n",
       "                        <td id=\"T_27dd5_row14_col0\" class=\"data row14 col0\" >Dallas</td>\n",
       "                        <td id=\"T_27dd5_row14_col1\" class=\"data row14 col1\" >Teriyaki Chicken</td>\n",
       "                        <td id=\"T_27dd5_row14_col2\" class=\"data row14 col2\" >224932</td>\n",
       "            </tr>\n",
       "            <tr>\n",
       "                        <th id=\"T_27dd5_level0_row15\" class=\"row_heading level0 row15\" >15</th>\n",
       "                        <td id=\"T_27dd5_row15_col0\" class=\"data row15 col0\" >Dallas</td>\n",
       "                        <td id=\"T_27dd5_row15_col1\" class=\"data row15 col1\" >Tilapia Piccata</td>\n",
       "                        <td id=\"T_27dd5_row15_col2\" class=\"data row15 col2\" >134451</td>\n",
       "            </tr>\n",
       "            <tr>\n",
       "                        <th id=\"T_27dd5_level0_row16\" class=\"row_heading level0 row16\" >16</th>\n",
       "                        <td id=\"T_27dd5_row16_col0\" class=\"data row16 col0\" >Miami</td>\n",
       "                        <td id=\"T_27dd5_row16_col1\" class=\"data row16 col1\" >Brocolli Stir Fry</td>\n",
       "                        <td id=\"T_27dd5_row16_col2\" class=\"data row16 col2\" >164027</td>\n",
       "            </tr>\n",
       "            <tr>\n",
       "                        <th id=\"T_27dd5_level0_row17\" class=\"row_heading level0 row17\" >17</th>\n",
       "                        <td id=\"T_27dd5_row17_col0\" class=\"data row17 col0\" >Miami</td>\n",
       "                        <td id=\"T_27dd5_row17_col1\" class=\"data row17 col1\" >Chicken Salad</td>\n",
       "                        <td id=\"T_27dd5_row17_col2\" class=\"data row17 col2\" >41005</td>\n",
       "            </tr>\n",
       "            <tr>\n",
       "                        <th id=\"T_27dd5_level0_row18\" class=\"row_heading level0 row18\" >18</th>\n",
       "                        <td id=\"T_27dd5_row18_col0\" class=\"data row18 col0\" >Miami</td>\n",
       "                        <td id=\"T_27dd5_row18_col1\" class=\"data row18 col1\" >Curry Chicken</td>\n",
       "                        <td id=\"T_27dd5_row18_col2\" class=\"data row18 col2\" >244719</td>\n",
       "            </tr>\n",
       "            <tr>\n",
       "                        <th id=\"T_27dd5_level0_row19\" class=\"row_heading level0 row19\" >19</th>\n",
       "                        <td id=\"T_27dd5_row19_col0\" class=\"data row19 col0\" >Miami</td>\n",
       "                        <td id=\"T_27dd5_row19_col1\" class=\"data row19 col1\" >Eggplant Lasagna</td>\n",
       "                        <td id=\"T_27dd5_row19_col2\" class=\"data row19 col2\" >286676</td>\n",
       "            </tr>\n",
       "            <tr>\n",
       "                        <th id=\"T_27dd5_level0_row20\" class=\"row_heading level0 row20\" >20</th>\n",
       "                        <td id=\"T_27dd5_row20_col0\" class=\"data row20 col0\" >Miami</td>\n",
       "                        <td id=\"T_27dd5_row20_col1\" class=\"data row20 col1\" >Pistachio Salmon</td>\n",
       "                        <td id=\"T_27dd5_row20_col2\" class=\"data row20 col2\" >327613</td>\n",
       "            </tr>\n",
       "            <tr>\n",
       "                        <th id=\"T_27dd5_level0_row21\" class=\"row_heading level0 row21\" >21</th>\n",
       "                        <td id=\"T_27dd5_row21_col0\" class=\"data row21 col0\" >Miami</td>\n",
       "                        <td id=\"T_27dd5_row21_col1\" class=\"data row21 col1\" >Spinach Orzo</td>\n",
       "                        <td id=\"T_27dd5_row21_col2\" class=\"data row21 col2\" >82047</td>\n",
       "            </tr>\n",
       "            <tr>\n",
       "                        <th id=\"T_27dd5_level0_row22\" class=\"row_heading level0 row22\" >22</th>\n",
       "                        <td id=\"T_27dd5_row22_col0\" class=\"data row22 col0\" >Miami</td>\n",
       "                        <td id=\"T_27dd5_row22_col1\" class=\"data row22 col1\" >Teriyaki Chicken</td>\n",
       "                        <td id=\"T_27dd5_row22_col2\" class=\"data row22 col2\" >204953</td>\n",
       "            </tr>\n",
       "            <tr>\n",
       "                        <th id=\"T_27dd5_level0_row23\" class=\"row_heading level0 row23\" >23</th>\n",
       "                        <td id=\"T_27dd5_row23_col0\" class=\"data row23 col0\" >Miami</td>\n",
       "                        <td id=\"T_27dd5_row23_col1\" class=\"data row23 col1\" >Tilapia Piccata</td>\n",
       "                        <td id=\"T_27dd5_row23_col2\" class=\"data row23 col2\" >123327</td>\n",
       "            </tr>\n",
       "            <tr>\n",
       "                        <th id=\"T_27dd5_level0_row24\" class=\"row_heading level0 row24\" >24</th>\n",
       "                        <td id=\"T_27dd5_row24_col0\" class=\"data row24 col0\" >Nashville</td>\n",
       "                        <td id=\"T_27dd5_row24_col1\" class=\"data row24 col1\" >Brocolli Stir Fry</td>\n",
       "                        <td id=\"T_27dd5_row24_col2\" class=\"data row24 col2\" >134805</td>\n",
       "            </tr>\n",
       "            <tr>\n",
       "                        <th id=\"T_27dd5_level0_row25\" class=\"row_heading level0 row25\" >25</th>\n",
       "                        <td id=\"T_27dd5_row25_col0\" class=\"data row25 col0\" >Nashville</td>\n",
       "                        <td id=\"T_27dd5_row25_col1\" class=\"data row25 col1\" >Chicken Salad</td>\n",
       "                        <td id=\"T_27dd5_row25_col2\" class=\"data row25 col2\" >33939</td>\n",
       "            </tr>\n",
       "            <tr>\n",
       "                        <th id=\"T_27dd5_level0_row26\" class=\"row_heading level0 row26\" >26</th>\n",
       "                        <td id=\"T_27dd5_row26_col0\" class=\"data row26 col0\" >Nashville</td>\n",
       "                        <td id=\"T_27dd5_row26_col1\" class=\"data row26 col1\" >Curry Chicken</td>\n",
       "                        <td id=\"T_27dd5_row26_col2\" class=\"data row26 col2\" >202178</td>\n",
       "            </tr>\n",
       "            <tr>\n",
       "                        <th id=\"T_27dd5_level0_row27\" class=\"row_heading level0 row27\" >27</th>\n",
       "                        <td id=\"T_27dd5_row27_col0\" class=\"data row27 col0\" >Nashville</td>\n",
       "                        <td id=\"T_27dd5_row27_col1\" class=\"data row27 col1\" >Eggplant Lasagna</td>\n",
       "                        <td id=\"T_27dd5_row27_col2\" class=\"data row27 col2\" >235703</td>\n",
       "            </tr>\n",
       "            <tr>\n",
       "                        <th id=\"T_27dd5_level0_row28\" class=\"row_heading level0 row28\" >28</th>\n",
       "                        <td id=\"T_27dd5_row28_col0\" class=\"data row28 col0\" >Nashville</td>\n",
       "                        <td id=\"T_27dd5_row28_col1\" class=\"data row28 col1\" >Pistachio Salmon</td>\n",
       "                        <td id=\"T_27dd5_row28_col2\" class=\"data row28 col2\" >269694</td>\n",
       "            </tr>\n",
       "            <tr>\n",
       "                        <th id=\"T_27dd5_level0_row29\" class=\"row_heading level0 row29\" >29</th>\n",
       "                        <td id=\"T_27dd5_row29_col0\" class=\"data row29 col0\" >Nashville</td>\n",
       "                        <td id=\"T_27dd5_row29_col1\" class=\"data row29 col1\" >Spinach Orzo</td>\n",
       "                        <td id=\"T_27dd5_row29_col2\" class=\"data row29 col2\" >67689</td>\n",
       "            </tr>\n",
       "            <tr>\n",
       "                        <th id=\"T_27dd5_level0_row30\" class=\"row_heading level0 row30\" >30</th>\n",
       "                        <td id=\"T_27dd5_row30_col0\" class=\"data row30 col0\" >Nashville</td>\n",
       "                        <td id=\"T_27dd5_row30_col1\" class=\"data row30 col1\" >Teriyaki Chicken</td>\n",
       "                        <td id=\"T_27dd5_row30_col2\" class=\"data row30 col2\" >168664</td>\n",
       "            </tr>\n",
       "            <tr>\n",
       "                        <th id=\"T_27dd5_level0_row31\" class=\"row_heading level0 row31\" >31</th>\n",
       "                        <td id=\"T_27dd5_row31_col0\" class=\"data row31 col0\" >Nashville</td>\n",
       "                        <td id=\"T_27dd5_row31_col1\" class=\"data row31 col1\" >Tilapia Piccata</td>\n",
       "                        <td id=\"T_27dd5_row31_col2\" class=\"data row31 col2\" >101759</td>\n",
       "            </tr>\n",
       "            <tr>\n",
       "                        <th id=\"T_27dd5_level0_row32\" class=\"row_heading level0 row32\" >32</th>\n",
       "                        <td id=\"T_27dd5_row32_col0\" class=\"data row32 col0\" >Seattle</td>\n",
       "                        <td id=\"T_27dd5_row32_col1\" class=\"data row32 col1\" >Brocolli Stir Fry</td>\n",
       "                        <td id=\"T_27dd5_row32_col2\" class=\"data row32 col2\" >203229</td>\n",
       "            </tr>\n",
       "            <tr>\n",
       "                        <th id=\"T_27dd5_level0_row33\" class=\"row_heading level0 row33\" >33</th>\n",
       "                        <td id=\"T_27dd5_row33_col0\" class=\"data row33 col0\" >Seattle</td>\n",
       "                        <td id=\"T_27dd5_row33_col1\" class=\"data row33 col1\" >Chicken Salad</td>\n",
       "                        <td id=\"T_27dd5_row33_col2\" class=\"data row33 col2\" >51142</td>\n",
       "            </tr>\n",
       "            <tr>\n",
       "                        <th id=\"T_27dd5_level0_row34\" class=\"row_heading level0 row34\" >34</th>\n",
       "                        <td id=\"T_27dd5_row34_col0\" class=\"data row34 col0\" >Seattle</td>\n",
       "                        <td id=\"T_27dd5_row34_col1\" class=\"data row34 col1\" >Curry Chicken</td>\n",
       "                        <td id=\"T_27dd5_row34_col2\" class=\"data row34 col2\" >305790</td>\n",
       "            </tr>\n",
       "            <tr>\n",
       "                        <th id=\"T_27dd5_level0_row35\" class=\"row_heading level0 row35\" >35</th>\n",
       "                        <td id=\"T_27dd5_row35_col0\" class=\"data row35 col0\" >Seattle</td>\n",
       "                        <td id=\"T_27dd5_row35_col1\" class=\"data row35 col1\" >Eggplant Lasagna</td>\n",
       "                        <td id=\"T_27dd5_row35_col2\" class=\"data row35 col2\" >356659</td>\n",
       "            </tr>\n",
       "            <tr>\n",
       "                        <th id=\"T_27dd5_level0_row36\" class=\"row_heading level0 row36\" >36</th>\n",
       "                        <td id=\"T_27dd5_row36_col0\" class=\"data row36 col0\" >Seattle</td>\n",
       "                        <td id=\"T_27dd5_row36_col1\" class=\"data row36 col1\" >Pistachio Salmon</td>\n",
       "                        <td id=\"T_27dd5_row36_col2\" class=\"data row36 col2\" >407582</td>\n",
       "            </tr>\n",
       "            <tr>\n",
       "                        <th id=\"T_27dd5_level0_row37\" class=\"row_heading level0 row37\" >37</th>\n",
       "                        <td id=\"T_27dd5_row37_col0\" class=\"data row37 col0\" >Seattle</td>\n",
       "                        <td id=\"T_27dd5_row37_col1\" class=\"data row37 col1\" >Spinach Orzo</td>\n",
       "                        <td id=\"T_27dd5_row37_col2\" class=\"data row37 col2\" >101920</td>\n",
       "            </tr>\n",
       "            <tr>\n",
       "                        <th id=\"T_27dd5_level0_row38\" class=\"row_heading level0 row38\" >38</th>\n",
       "                        <td id=\"T_27dd5_row38_col0\" class=\"data row38 col0\" >Seattle</td>\n",
       "                        <td id=\"T_27dd5_row38_col1\" class=\"data row38 col1\" >Teriyaki Chicken</td>\n",
       "                        <td id=\"T_27dd5_row38_col2\" class=\"data row38 col2\" >255606</td>\n",
       "            </tr>\n",
       "            <tr>\n",
       "                        <th id=\"T_27dd5_level0_row39\" class=\"row_heading level0 row39\" >39</th>\n",
       "                        <td id=\"T_27dd5_row39_col0\" class=\"data row39 col0\" >Seattle</td>\n",
       "                        <td id=\"T_27dd5_row39_col1\" class=\"data row39 col1\" >Tilapia Piccata</td>\n",
       "                        <td id=\"T_27dd5_row39_col2\" class=\"data row39 col2\" >153448</td>\n",
       "            </tr>\n",
       "    </tbody></table>"
      ],
      "text/plain": [
       "<pandas.io.formats.style.Styler at 0x7fbecc5992b0>"
      ]
     },
     "execution_count": 39,
     "metadata": {},
     "output_type": "execute_result"
    }
   ],
   "source": [
    "def ct_meals_by_store_meal():\n",
    "    # Meals purchased by store and meal\n",
    "    rollback_before_flag = True\n",
    "    rollback_after_flag = True\n",
    "\n",
    "    query = \"\"\"\n",
    "\n",
    "    SELECT s.city as store, prod.description as meal_name, SUM(li.quantity) as quantity\n",
    "    FROM line_items as li\n",
    "        JOIN products as prod\n",
    "        ON li.product_id = prod.product_id\n",
    "        JOIN stores as s\n",
    "        ON li.store_id = s.store_id\n",
    "    GROUP BY store, meal_name\n",
    "    ORDER BY store, meal_name\n",
    "\n",
    "    \"\"\"\n",
    "    return my_select_query_pandas(query, rollback_before_flag, rollback_after_flag)\n",
    "\n",
    "ct_meals_by_store_meal().style.set_caption('Meals purchased by store and meal')"
   ]
  },
  {
   "cell_type": "markdown",
   "id": "04b5beb8",
   "metadata": {},
   "source": [
    "# 1.3.4 How many meals were purchased by month?\n",
    "\n",
    "Sort by month in calendar order"
   ]
  },
  {
   "cell_type": "code",
   "execution_count": 40,
   "id": "f40e04fc",
   "metadata": {},
   "outputs": [
    {
     "data": {
      "text/html": [
       "<style  type=\"text/css\" >\n",
       "</style><table id=\"T_09357_\" ><caption>Meals purchased by month</caption><thead>    <tr>        <th class=\"blank level0\" ></th>        <th class=\"col_heading level0 col0\" >month_num</th>        <th class=\"col_heading level0 col1\" >month_name</th>        <th class=\"col_heading level0 col2\" >quantity</th>    </tr></thead><tbody>\n",
       "                <tr>\n",
       "                        <th id=\"T_09357_level0_row0\" class=\"row_heading level0 row0\" >0</th>\n",
       "                        <td id=\"T_09357_row0_col0\" class=\"data row0 col0\" >1</td>\n",
       "                        <td id=\"T_09357_row0_col1\" class=\"data row0 col1\" >January  </td>\n",
       "                        <td id=\"T_09357_row0_col2\" class=\"data row0 col2\" >650319</td>\n",
       "            </tr>\n",
       "            <tr>\n",
       "                        <th id=\"T_09357_level0_row1\" class=\"row_heading level0 row1\" >1</th>\n",
       "                        <td id=\"T_09357_row1_col0\" class=\"data row1 col0\" >2</td>\n",
       "                        <td id=\"T_09357_row1_col1\" class=\"data row1 col1\" >February </td>\n",
       "                        <td id=\"T_09357_row1_col2\" class=\"data row1 col2\" >631190</td>\n",
       "            </tr>\n",
       "            <tr>\n",
       "                        <th id=\"T_09357_level0_row2\" class=\"row_heading level0 row2\" >2</th>\n",
       "                        <td id=\"T_09357_row2_col0\" class=\"data row2 col0\" >3</td>\n",
       "                        <td id=\"T_09357_row2_col1\" class=\"data row2 col1\" >March    </td>\n",
       "                        <td id=\"T_09357_row2_col2\" class=\"data row2 col2\" >731635</td>\n",
       "            </tr>\n",
       "            <tr>\n",
       "                        <th id=\"T_09357_level0_row3\" class=\"row_heading level0 row3\" >3</th>\n",
       "                        <td id=\"T_09357_row3_col0\" class=\"data row3 col0\" >4</td>\n",
       "                        <td id=\"T_09357_row3_col1\" class=\"data row3 col1\" >April    </td>\n",
       "                        <td id=\"T_09357_row3_col2\" class=\"data row3 col2\" >687607</td>\n",
       "            </tr>\n",
       "            <tr>\n",
       "                        <th id=\"T_09357_level0_row4\" class=\"row_heading level0 row4\" >4</th>\n",
       "                        <td id=\"T_09357_row4_col0\" class=\"data row4 col0\" >5</td>\n",
       "                        <td id=\"T_09357_row4_col1\" class=\"data row4 col1\" >May      </td>\n",
       "                        <td id=\"T_09357_row4_col2\" class=\"data row4 col2\" >664820</td>\n",
       "            </tr>\n",
       "            <tr>\n",
       "                        <th id=\"T_09357_level0_row5\" class=\"row_heading level0 row5\" >5</th>\n",
       "                        <td id=\"T_09357_row5_col0\" class=\"data row5 col0\" >6</td>\n",
       "                        <td id=\"T_09357_row5_col1\" class=\"data row5 col1\" >June     </td>\n",
       "                        <td id=\"T_09357_row5_col2\" class=\"data row5 col2\" >677009</td>\n",
       "            </tr>\n",
       "            <tr>\n",
       "                        <th id=\"T_09357_level0_row6\" class=\"row_heading level0 row6\" >6</th>\n",
       "                        <td id=\"T_09357_row6_col0\" class=\"data row6 col0\" >7</td>\n",
       "                        <td id=\"T_09357_row6_col1\" class=\"data row6 col1\" >July     </td>\n",
       "                        <td id=\"T_09357_row6_col2\" class=\"data row6 col2\" >666087</td>\n",
       "            </tr>\n",
       "            <tr>\n",
       "                        <th id=\"T_09357_level0_row7\" class=\"row_heading level0 row7\" >7</th>\n",
       "                        <td id=\"T_09357_row7_col0\" class=\"data row7 col0\" >8</td>\n",
       "                        <td id=\"T_09357_row7_col1\" class=\"data row7 col1\" >August   </td>\n",
       "                        <td id=\"T_09357_row7_col2\" class=\"data row7 col2\" >752484</td>\n",
       "            </tr>\n",
       "            <tr>\n",
       "                        <th id=\"T_09357_level0_row8\" class=\"row_heading level0 row8\" >8</th>\n",
       "                        <td id=\"T_09357_row8_col0\" class=\"data row8 col0\" >9</td>\n",
       "                        <td id=\"T_09357_row8_col1\" class=\"data row8 col1\" >September</td>\n",
       "                        <td id=\"T_09357_row8_col2\" class=\"data row8 col2\" >631580</td>\n",
       "            </tr>\n",
       "            <tr>\n",
       "                        <th id=\"T_09357_level0_row9\" class=\"row_heading level0 row9\" >9</th>\n",
       "                        <td id=\"T_09357_row9_col0\" class=\"data row9 col0\" >10</td>\n",
       "                        <td id=\"T_09357_row9_col1\" class=\"data row9 col1\" >October  </td>\n",
       "                        <td id=\"T_09357_row9_col2\" class=\"data row9 col2\" >741259</td>\n",
       "            </tr>\n",
       "            <tr>\n",
       "                        <th id=\"T_09357_level0_row10\" class=\"row_heading level0 row10\" >10</th>\n",
       "                        <td id=\"T_09357_row10_col0\" class=\"data row10 col0\" >11</td>\n",
       "                        <td id=\"T_09357_row10_col1\" class=\"data row10 col1\" >November </td>\n",
       "                        <td id=\"T_09357_row10_col2\" class=\"data row10 col2\" >699259</td>\n",
       "            </tr>\n",
       "            <tr>\n",
       "                        <th id=\"T_09357_level0_row11\" class=\"row_heading level0 row11\" >11</th>\n",
       "                        <td id=\"T_09357_row11_col0\" class=\"data row11 col0\" >12</td>\n",
       "                        <td id=\"T_09357_row11_col1\" class=\"data row11 col1\" >December </td>\n",
       "                        <td id=\"T_09357_row11_col2\" class=\"data row11 col2\" >695035</td>\n",
       "            </tr>\n",
       "    </tbody></table>"
      ],
      "text/plain": [
       "<pandas.io.formats.style.Styler at 0x7fbecc5997c0>"
      ]
     },
     "execution_count": 40,
     "metadata": {},
     "output_type": "execute_result"
    }
   ],
   "source": [
    "def ct_meals_by_month():\n",
    "    # Meals purchased by month\n",
    "    rollback_before_flag = True\n",
    "    rollback_after_flag = True\n",
    "\n",
    "    query = \"\"\"\n",
    "\n",
    "    SELECT EXTRACT(MONTH FROM sa.sale_date) as month_num,\n",
    "           TO_CHAR(sa.sale_date, 'Month') as month_name, \n",
    "           SUM(li.quantity) as quantity\n",
    "    FROM line_items as li\n",
    "        JOIN sales as sa\n",
    "        ON li.sale_id = sa.sale_id\n",
    "        AND li.store_id = sa.store_id\n",
    "    GROUP BY month_num, month_name\n",
    "    ORDER BY month_num, month_name\n",
    "\n",
    "    \"\"\"\n",
    "    return my_select_query_pandas(query, rollback_before_flag, rollback_after_flag)\n",
    "ct_meals_by_month().style.set_caption('Meals purchased by month')"
   ]
  },
  {
   "cell_type": "markdown",
   "id": "1c6e6715",
   "metadata": {},
   "source": [
    "# 1.3.5 How many meals were purchased by month and meal?\n",
    "\n",
    "Sort by month in calendar order, then by meal name in alphabetical order"
   ]
  },
  {
   "cell_type": "code",
   "execution_count": 41,
   "id": "0973d182",
   "metadata": {},
   "outputs": [
    {
     "data": {
      "text/html": [
       "<style  type=\"text/css\" >\n",
       "</style><table id=\"T_8cd20_\" ><caption>Meals purchased by month and meal</caption><thead>    <tr>        <th class=\"blank level0\" ></th>        <th class=\"col_heading level0 col0\" >month_num</th>        <th class=\"col_heading level0 col1\" >month_name</th>        <th class=\"col_heading level0 col2\" >meal_name</th>        <th class=\"col_heading level0 col3\" >quantity</th>    </tr></thead><tbody>\n",
       "                <tr>\n",
       "                        <th id=\"T_8cd20_level0_row0\" class=\"row_heading level0 row0\" >0</th>\n",
       "                        <td id=\"T_8cd20_row0_col0\" class=\"data row0 col0\" >1</td>\n",
       "                        <td id=\"T_8cd20_row0_col1\" class=\"data row0 col1\" >January  </td>\n",
       "                        <td id=\"T_8cd20_row0_col2\" class=\"data row0 col2\" >Brocolli Stir Fry</td>\n",
       "                        <td id=\"T_8cd20_row0_col3\" class=\"data row0 col3\" >72161</td>\n",
       "            </tr>\n",
       "            <tr>\n",
       "                        <th id=\"T_8cd20_level0_row1\" class=\"row_heading level0 row1\" >1</th>\n",
       "                        <td id=\"T_8cd20_row1_col0\" class=\"data row1 col0\" >1</td>\n",
       "                        <td id=\"T_8cd20_row1_col1\" class=\"data row1 col1\" >January  </td>\n",
       "                        <td id=\"T_8cd20_row1_col2\" class=\"data row1 col2\" >Chicken Salad</td>\n",
       "                        <td id=\"T_8cd20_row1_col3\" class=\"data row1 col3\" >18003</td>\n",
       "            </tr>\n",
       "            <tr>\n",
       "                        <th id=\"T_8cd20_level0_row2\" class=\"row_heading level0 row2\" >2</th>\n",
       "                        <td id=\"T_8cd20_row2_col0\" class=\"data row2 col0\" >1</td>\n",
       "                        <td id=\"T_8cd20_row2_col1\" class=\"data row2 col1\" >January  </td>\n",
       "                        <td id=\"T_8cd20_row2_col2\" class=\"data row2 col2\" >Curry Chicken</td>\n",
       "                        <td id=\"T_8cd20_row2_col3\" class=\"data row2 col3\" >108134</td>\n",
       "            </tr>\n",
       "            <tr>\n",
       "                        <th id=\"T_8cd20_level0_row3\" class=\"row_heading level0 row3\" >3</th>\n",
       "                        <td id=\"T_8cd20_row3_col0\" class=\"data row3 col0\" >1</td>\n",
       "                        <td id=\"T_8cd20_row3_col1\" class=\"data row3 col1\" >January  </td>\n",
       "                        <td id=\"T_8cd20_row3_col2\" class=\"data row3 col2\" >Eggplant Lasagna</td>\n",
       "                        <td id=\"T_8cd20_row3_col3\" class=\"data row3 col3\" >126605</td>\n",
       "            </tr>\n",
       "            <tr>\n",
       "                        <th id=\"T_8cd20_level0_row4\" class=\"row_heading level0 row4\" >4</th>\n",
       "                        <td id=\"T_8cd20_row4_col0\" class=\"data row4 col0\" >1</td>\n",
       "                        <td id=\"T_8cd20_row4_col1\" class=\"data row4 col1\" >January  </td>\n",
       "                        <td id=\"T_8cd20_row4_col2\" class=\"data row4 col2\" >Pistachio Salmon</td>\n",
       "                        <td id=\"T_8cd20_row4_col3\" class=\"data row4 col3\" >144053</td>\n",
       "            </tr>\n",
       "            <tr>\n",
       "                        <th id=\"T_8cd20_level0_row5\" class=\"row_heading level0 row5\" >5</th>\n",
       "                        <td id=\"T_8cd20_row5_col0\" class=\"data row5 col0\" >1</td>\n",
       "                        <td id=\"T_8cd20_row5_col1\" class=\"data row5 col1\" >January  </td>\n",
       "                        <td id=\"T_8cd20_row5_col2\" class=\"data row5 col2\" >Spinach Orzo</td>\n",
       "                        <td id=\"T_8cd20_row5_col3\" class=\"data row5 col3\" >36262</td>\n",
       "            </tr>\n",
       "            <tr>\n",
       "                        <th id=\"T_8cd20_level0_row6\" class=\"row_heading level0 row6\" >6</th>\n",
       "                        <td id=\"T_8cd20_row6_col0\" class=\"data row6 col0\" >1</td>\n",
       "                        <td id=\"T_8cd20_row6_col1\" class=\"data row6 col1\" >January  </td>\n",
       "                        <td id=\"T_8cd20_row6_col2\" class=\"data row6 col2\" >Teriyaki Chicken</td>\n",
       "                        <td id=\"T_8cd20_row6_col3\" class=\"data row6 col3\" >90618</td>\n",
       "            </tr>\n",
       "            <tr>\n",
       "                        <th id=\"T_8cd20_level0_row7\" class=\"row_heading level0 row7\" >7</th>\n",
       "                        <td id=\"T_8cd20_row7_col0\" class=\"data row7 col0\" >1</td>\n",
       "                        <td id=\"T_8cd20_row7_col1\" class=\"data row7 col1\" >January  </td>\n",
       "                        <td id=\"T_8cd20_row7_col2\" class=\"data row7 col2\" >Tilapia Piccata</td>\n",
       "                        <td id=\"T_8cd20_row7_col3\" class=\"data row7 col3\" >54483</td>\n",
       "            </tr>\n",
       "            <tr>\n",
       "                        <th id=\"T_8cd20_level0_row8\" class=\"row_heading level0 row8\" >8</th>\n",
       "                        <td id=\"T_8cd20_row8_col0\" class=\"data row8 col0\" >2</td>\n",
       "                        <td id=\"T_8cd20_row8_col1\" class=\"data row8 col1\" >February </td>\n",
       "                        <td id=\"T_8cd20_row8_col2\" class=\"data row8 col2\" >Brocolli Stir Fry</td>\n",
       "                        <td id=\"T_8cd20_row8_col3\" class=\"data row8 col3\" >70164</td>\n",
       "            </tr>\n",
       "            <tr>\n",
       "                        <th id=\"T_8cd20_level0_row9\" class=\"row_heading level0 row9\" >9</th>\n",
       "                        <td id=\"T_8cd20_row9_col0\" class=\"data row9 col0\" >2</td>\n",
       "                        <td id=\"T_8cd20_row9_col1\" class=\"data row9 col1\" >February </td>\n",
       "                        <td id=\"T_8cd20_row9_col2\" class=\"data row9 col2\" >Chicken Salad</td>\n",
       "                        <td id=\"T_8cd20_row9_col3\" class=\"data row9 col3\" >17597</td>\n",
       "            </tr>\n",
       "            <tr>\n",
       "                        <th id=\"T_8cd20_level0_row10\" class=\"row_heading level0 row10\" >10</th>\n",
       "                        <td id=\"T_8cd20_row10_col0\" class=\"data row10 col0\" >2</td>\n",
       "                        <td id=\"T_8cd20_row10_col1\" class=\"data row10 col1\" >February </td>\n",
       "                        <td id=\"T_8cd20_row10_col2\" class=\"data row10 col2\" >Curry Chicken</td>\n",
       "                        <td id=\"T_8cd20_row10_col3\" class=\"data row10 col3\" >105408</td>\n",
       "            </tr>\n",
       "            <tr>\n",
       "                        <th id=\"T_8cd20_level0_row11\" class=\"row_heading level0 row11\" >11</th>\n",
       "                        <td id=\"T_8cd20_row11_col0\" class=\"data row11 col0\" >2</td>\n",
       "                        <td id=\"T_8cd20_row11_col1\" class=\"data row11 col1\" >February </td>\n",
       "                        <td id=\"T_8cd20_row11_col2\" class=\"data row11 col2\" >Eggplant Lasagna</td>\n",
       "                        <td id=\"T_8cd20_row11_col3\" class=\"data row11 col3\" >121897</td>\n",
       "            </tr>\n",
       "            <tr>\n",
       "                        <th id=\"T_8cd20_level0_row12\" class=\"row_heading level0 row12\" >12</th>\n",
       "                        <td id=\"T_8cd20_row12_col0\" class=\"data row12 col0\" >2</td>\n",
       "                        <td id=\"T_8cd20_row12_col1\" class=\"data row12 col1\" >February </td>\n",
       "                        <td id=\"T_8cd20_row12_col2\" class=\"data row12 col2\" >Pistachio Salmon</td>\n",
       "                        <td id=\"T_8cd20_row12_col3\" class=\"data row12 col3\" >140433</td>\n",
       "            </tr>\n",
       "            <tr>\n",
       "                        <th id=\"T_8cd20_level0_row13\" class=\"row_heading level0 row13\" >13</th>\n",
       "                        <td id=\"T_8cd20_row13_col0\" class=\"data row13 col0\" >2</td>\n",
       "                        <td id=\"T_8cd20_row13_col1\" class=\"data row13 col1\" >February </td>\n",
       "                        <td id=\"T_8cd20_row13_col2\" class=\"data row13 col2\" >Spinach Orzo</td>\n",
       "                        <td id=\"T_8cd20_row13_col3\" class=\"data row13 col3\" >34996</td>\n",
       "            </tr>\n",
       "            <tr>\n",
       "                        <th id=\"T_8cd20_level0_row14\" class=\"row_heading level0 row14\" >14</th>\n",
       "                        <td id=\"T_8cd20_row14_col0\" class=\"data row14 col0\" >2</td>\n",
       "                        <td id=\"T_8cd20_row14_col1\" class=\"data row14 col1\" >February </td>\n",
       "                        <td id=\"T_8cd20_row14_col2\" class=\"data row14 col2\" >Teriyaki Chicken</td>\n",
       "                        <td id=\"T_8cd20_row14_col3\" class=\"data row14 col3\" >87914</td>\n",
       "            </tr>\n",
       "            <tr>\n",
       "                        <th id=\"T_8cd20_level0_row15\" class=\"row_heading level0 row15\" >15</th>\n",
       "                        <td id=\"T_8cd20_row15_col0\" class=\"data row15 col0\" >2</td>\n",
       "                        <td id=\"T_8cd20_row15_col1\" class=\"data row15 col1\" >February </td>\n",
       "                        <td id=\"T_8cd20_row15_col2\" class=\"data row15 col2\" >Tilapia Piccata</td>\n",
       "                        <td id=\"T_8cd20_row15_col3\" class=\"data row15 col3\" >52781</td>\n",
       "            </tr>\n",
       "            <tr>\n",
       "                        <th id=\"T_8cd20_level0_row16\" class=\"row_heading level0 row16\" >16</th>\n",
       "                        <td id=\"T_8cd20_row16_col0\" class=\"data row16 col0\" >3</td>\n",
       "                        <td id=\"T_8cd20_row16_col1\" class=\"data row16 col1\" >March    </td>\n",
       "                        <td id=\"T_8cd20_row16_col2\" class=\"data row16 col2\" >Brocolli Stir Fry</td>\n",
       "                        <td id=\"T_8cd20_row16_col3\" class=\"data row16 col3\" >81036</td>\n",
       "            </tr>\n",
       "            <tr>\n",
       "                        <th id=\"T_8cd20_level0_row17\" class=\"row_heading level0 row17\" >17</th>\n",
       "                        <td id=\"T_8cd20_row17_col0\" class=\"data row17 col0\" >3</td>\n",
       "                        <td id=\"T_8cd20_row17_col1\" class=\"data row17 col1\" >March    </td>\n",
       "                        <td id=\"T_8cd20_row17_col2\" class=\"data row17 col2\" >Chicken Salad</td>\n",
       "                        <td id=\"T_8cd20_row17_col3\" class=\"data row17 col3\" >20270</td>\n",
       "            </tr>\n",
       "            <tr>\n",
       "                        <th id=\"T_8cd20_level0_row18\" class=\"row_heading level0 row18\" >18</th>\n",
       "                        <td id=\"T_8cd20_row18_col0\" class=\"data row18 col0\" >3</td>\n",
       "                        <td id=\"T_8cd20_row18_col1\" class=\"data row18 col1\" >March    </td>\n",
       "                        <td id=\"T_8cd20_row18_col2\" class=\"data row18 col2\" >Curry Chicken</td>\n",
       "                        <td id=\"T_8cd20_row18_col3\" class=\"data row18 col3\" >121686</td>\n",
       "            </tr>\n",
       "            <tr>\n",
       "                        <th id=\"T_8cd20_level0_row19\" class=\"row_heading level0 row19\" >19</th>\n",
       "                        <td id=\"T_8cd20_row19_col0\" class=\"data row19 col0\" >3</td>\n",
       "                        <td id=\"T_8cd20_row19_col1\" class=\"data row19 col1\" >March    </td>\n",
       "                        <td id=\"T_8cd20_row19_col2\" class=\"data row19 col2\" >Eggplant Lasagna</td>\n",
       "                        <td id=\"T_8cd20_row19_col3\" class=\"data row19 col3\" >142435</td>\n",
       "            </tr>\n",
       "            <tr>\n",
       "                        <th id=\"T_8cd20_level0_row20\" class=\"row_heading level0 row20\" >20</th>\n",
       "                        <td id=\"T_8cd20_row20_col0\" class=\"data row20 col0\" >3</td>\n",
       "                        <td id=\"T_8cd20_row20_col1\" class=\"data row20 col1\" >March    </td>\n",
       "                        <td id=\"T_8cd20_row20_col2\" class=\"data row20 col2\" >Pistachio Salmon</td>\n",
       "                        <td id=\"T_8cd20_row20_col3\" class=\"data row20 col3\" >162552</td>\n",
       "            </tr>\n",
       "            <tr>\n",
       "                        <th id=\"T_8cd20_level0_row21\" class=\"row_heading level0 row21\" >21</th>\n",
       "                        <td id=\"T_8cd20_row21_col0\" class=\"data row21 col0\" >3</td>\n",
       "                        <td id=\"T_8cd20_row21_col1\" class=\"data row21 col1\" >March    </td>\n",
       "                        <td id=\"T_8cd20_row21_col2\" class=\"data row21 col2\" >Spinach Orzo</td>\n",
       "                        <td id=\"T_8cd20_row21_col3\" class=\"data row21 col3\" >40846</td>\n",
       "            </tr>\n",
       "            <tr>\n",
       "                        <th id=\"T_8cd20_level0_row22\" class=\"row_heading level0 row22\" >22</th>\n",
       "                        <td id=\"T_8cd20_row22_col0\" class=\"data row22 col0\" >3</td>\n",
       "                        <td id=\"T_8cd20_row22_col1\" class=\"data row22 col1\" >March    </td>\n",
       "                        <td id=\"T_8cd20_row22_col2\" class=\"data row22 col2\" >Teriyaki Chicken</td>\n",
       "                        <td id=\"T_8cd20_row22_col3\" class=\"data row22 col3\" >101916</td>\n",
       "            </tr>\n",
       "            <tr>\n",
       "                        <th id=\"T_8cd20_level0_row23\" class=\"row_heading level0 row23\" >23</th>\n",
       "                        <td id=\"T_8cd20_row23_col0\" class=\"data row23 col0\" >3</td>\n",
       "                        <td id=\"T_8cd20_row23_col1\" class=\"data row23 col1\" >March    </td>\n",
       "                        <td id=\"T_8cd20_row23_col2\" class=\"data row23 col2\" >Tilapia Piccata</td>\n",
       "                        <td id=\"T_8cd20_row23_col3\" class=\"data row23 col3\" >60894</td>\n",
       "            </tr>\n",
       "            <tr>\n",
       "                        <th id=\"T_8cd20_level0_row24\" class=\"row_heading level0 row24\" >24</th>\n",
       "                        <td id=\"T_8cd20_row24_col0\" class=\"data row24 col0\" >4</td>\n",
       "                        <td id=\"T_8cd20_row24_col1\" class=\"data row24 col1\" >April    </td>\n",
       "                        <td id=\"T_8cd20_row24_col2\" class=\"data row24 col2\" >Brocolli Stir Fry</td>\n",
       "                        <td id=\"T_8cd20_row24_col3\" class=\"data row24 col3\" >76380</td>\n",
       "            </tr>\n",
       "            <tr>\n",
       "                        <th id=\"T_8cd20_level0_row25\" class=\"row_heading level0 row25\" >25</th>\n",
       "                        <td id=\"T_8cd20_row25_col0\" class=\"data row25 col0\" >4</td>\n",
       "                        <td id=\"T_8cd20_row25_col1\" class=\"data row25 col1\" >April    </td>\n",
       "                        <td id=\"T_8cd20_row25_col2\" class=\"data row25 col2\" >Chicken Salad</td>\n",
       "                        <td id=\"T_8cd20_row25_col3\" class=\"data row25 col3\" >19084</td>\n",
       "            </tr>\n",
       "            <tr>\n",
       "                        <th id=\"T_8cd20_level0_row26\" class=\"row_heading level0 row26\" >26</th>\n",
       "                        <td id=\"T_8cd20_row26_col0\" class=\"data row26 col0\" >4</td>\n",
       "                        <td id=\"T_8cd20_row26_col1\" class=\"data row26 col1\" >April    </td>\n",
       "                        <td id=\"T_8cd20_row26_col2\" class=\"data row26 col2\" >Curry Chicken</td>\n",
       "                        <td id=\"T_8cd20_row26_col3\" class=\"data row26 col3\" >114471</td>\n",
       "            </tr>\n",
       "            <tr>\n",
       "                        <th id=\"T_8cd20_level0_row27\" class=\"row_heading level0 row27\" >27</th>\n",
       "                        <td id=\"T_8cd20_row27_col0\" class=\"data row27 col0\" >4</td>\n",
       "                        <td id=\"T_8cd20_row27_col1\" class=\"data row27 col1\" >April    </td>\n",
       "                        <td id=\"T_8cd20_row27_col2\" class=\"data row27 col2\" >Eggplant Lasagna</td>\n",
       "                        <td id=\"T_8cd20_row27_col3\" class=\"data row27 col3\" >133574</td>\n",
       "            </tr>\n",
       "            <tr>\n",
       "                        <th id=\"T_8cd20_level0_row28\" class=\"row_heading level0 row28\" >28</th>\n",
       "                        <td id=\"T_8cd20_row28_col0\" class=\"data row28 col0\" >4</td>\n",
       "                        <td id=\"T_8cd20_row28_col1\" class=\"data row28 col1\" >April    </td>\n",
       "                        <td id=\"T_8cd20_row28_col2\" class=\"data row28 col2\" >Pistachio Salmon</td>\n",
       "                        <td id=\"T_8cd20_row28_col3\" class=\"data row28 col3\" >153018</td>\n",
       "            </tr>\n",
       "            <tr>\n",
       "                        <th id=\"T_8cd20_level0_row29\" class=\"row_heading level0 row29\" >29</th>\n",
       "                        <td id=\"T_8cd20_row29_col0\" class=\"data row29 col0\" >4</td>\n",
       "                        <td id=\"T_8cd20_row29_col1\" class=\"data row29 col1\" >April    </td>\n",
       "                        <td id=\"T_8cd20_row29_col2\" class=\"data row29 col2\" >Spinach Orzo</td>\n",
       "                        <td id=\"T_8cd20_row29_col3\" class=\"data row29 col3\" >38005</td>\n",
       "            </tr>\n",
       "            <tr>\n",
       "                        <th id=\"T_8cd20_level0_row30\" class=\"row_heading level0 row30\" >30</th>\n",
       "                        <td id=\"T_8cd20_row30_col0\" class=\"data row30 col0\" >4</td>\n",
       "                        <td id=\"T_8cd20_row30_col1\" class=\"data row30 col1\" >April    </td>\n",
       "                        <td id=\"T_8cd20_row30_col2\" class=\"data row30 col2\" >Teriyaki Chicken</td>\n",
       "                        <td id=\"T_8cd20_row30_col3\" class=\"data row30 col3\" >95288</td>\n",
       "            </tr>\n",
       "            <tr>\n",
       "                        <th id=\"T_8cd20_level0_row31\" class=\"row_heading level0 row31\" >31</th>\n",
       "                        <td id=\"T_8cd20_row31_col0\" class=\"data row31 col0\" >4</td>\n",
       "                        <td id=\"T_8cd20_row31_col1\" class=\"data row31 col1\" >April    </td>\n",
       "                        <td id=\"T_8cd20_row31_col2\" class=\"data row31 col2\" >Tilapia Piccata</td>\n",
       "                        <td id=\"T_8cd20_row31_col3\" class=\"data row31 col3\" >57787</td>\n",
       "            </tr>\n",
       "            <tr>\n",
       "                        <th id=\"T_8cd20_level0_row32\" class=\"row_heading level0 row32\" >32</th>\n",
       "                        <td id=\"T_8cd20_row32_col0\" class=\"data row32 col0\" >5</td>\n",
       "                        <td id=\"T_8cd20_row32_col1\" class=\"data row32 col1\" >May      </td>\n",
       "                        <td id=\"T_8cd20_row32_col2\" class=\"data row32 col2\" >Brocolli Stir Fry</td>\n",
       "                        <td id=\"T_8cd20_row32_col3\" class=\"data row32 col3\" >73911</td>\n",
       "            </tr>\n",
       "            <tr>\n",
       "                        <th id=\"T_8cd20_level0_row33\" class=\"row_heading level0 row33\" >33</th>\n",
       "                        <td id=\"T_8cd20_row33_col0\" class=\"data row33 col0\" >5</td>\n",
       "                        <td id=\"T_8cd20_row33_col1\" class=\"data row33 col1\" >May      </td>\n",
       "                        <td id=\"T_8cd20_row33_col2\" class=\"data row33 col2\" >Chicken Salad</td>\n",
       "                        <td id=\"T_8cd20_row33_col3\" class=\"data row33 col3\" >18632</td>\n",
       "            </tr>\n",
       "            <tr>\n",
       "                        <th id=\"T_8cd20_level0_row34\" class=\"row_heading level0 row34\" >34</th>\n",
       "                        <td id=\"T_8cd20_row34_col0\" class=\"data row34 col0\" >5</td>\n",
       "                        <td id=\"T_8cd20_row34_col1\" class=\"data row34 col1\" >May      </td>\n",
       "                        <td id=\"T_8cd20_row34_col2\" class=\"data row34 col2\" >Curry Chicken</td>\n",
       "                        <td id=\"T_8cd20_row34_col3\" class=\"data row34 col3\" >110449</td>\n",
       "            </tr>\n",
       "            <tr>\n",
       "                        <th id=\"T_8cd20_level0_row35\" class=\"row_heading level0 row35\" >35</th>\n",
       "                        <td id=\"T_8cd20_row35_col0\" class=\"data row35 col0\" >5</td>\n",
       "                        <td id=\"T_8cd20_row35_col1\" class=\"data row35 col1\" >May      </td>\n",
       "                        <td id=\"T_8cd20_row35_col2\" class=\"data row35 col2\" >Eggplant Lasagna</td>\n",
       "                        <td id=\"T_8cd20_row35_col3\" class=\"data row35 col3\" >128946</td>\n",
       "            </tr>\n",
       "            <tr>\n",
       "                        <th id=\"T_8cd20_level0_row36\" class=\"row_heading level0 row36\" >36</th>\n",
       "                        <td id=\"T_8cd20_row36_col0\" class=\"data row36 col0\" >5</td>\n",
       "                        <td id=\"T_8cd20_row36_col1\" class=\"data row36 col1\" >May      </td>\n",
       "                        <td id=\"T_8cd20_row36_col2\" class=\"data row36 col2\" >Pistachio Salmon</td>\n",
       "                        <td id=\"T_8cd20_row36_col3\" class=\"data row36 col3\" >148016</td>\n",
       "            </tr>\n",
       "            <tr>\n",
       "                        <th id=\"T_8cd20_level0_row37\" class=\"row_heading level0 row37\" >37</th>\n",
       "                        <td id=\"T_8cd20_row37_col0\" class=\"data row37 col0\" >5</td>\n",
       "                        <td id=\"T_8cd20_row37_col1\" class=\"data row37 col1\" >May      </td>\n",
       "                        <td id=\"T_8cd20_row37_col2\" class=\"data row37 col2\" >Spinach Orzo</td>\n",
       "                        <td id=\"T_8cd20_row37_col3\" class=\"data row37 col3\" >36822</td>\n",
       "            </tr>\n",
       "            <tr>\n",
       "                        <th id=\"T_8cd20_level0_row38\" class=\"row_heading level0 row38\" >38</th>\n",
       "                        <td id=\"T_8cd20_row38_col0\" class=\"data row38 col0\" >5</td>\n",
       "                        <td id=\"T_8cd20_row38_col1\" class=\"data row38 col1\" >May      </td>\n",
       "                        <td id=\"T_8cd20_row38_col2\" class=\"data row38 col2\" >Teriyaki Chicken</td>\n",
       "                        <td id=\"T_8cd20_row38_col3\" class=\"data row38 col3\" >92621</td>\n",
       "            </tr>\n",
       "            <tr>\n",
       "                        <th id=\"T_8cd20_level0_row39\" class=\"row_heading level0 row39\" >39</th>\n",
       "                        <td id=\"T_8cd20_row39_col0\" class=\"data row39 col0\" >5</td>\n",
       "                        <td id=\"T_8cd20_row39_col1\" class=\"data row39 col1\" >May      </td>\n",
       "                        <td id=\"T_8cd20_row39_col2\" class=\"data row39 col2\" >Tilapia Piccata</td>\n",
       "                        <td id=\"T_8cd20_row39_col3\" class=\"data row39 col3\" >55423</td>\n",
       "            </tr>\n",
       "            <tr>\n",
       "                        <th id=\"T_8cd20_level0_row40\" class=\"row_heading level0 row40\" >40</th>\n",
       "                        <td id=\"T_8cd20_row40_col0\" class=\"data row40 col0\" >6</td>\n",
       "                        <td id=\"T_8cd20_row40_col1\" class=\"data row40 col1\" >June     </td>\n",
       "                        <td id=\"T_8cd20_row40_col2\" class=\"data row40 col2\" >Brocolli Stir Fry</td>\n",
       "                        <td id=\"T_8cd20_row40_col3\" class=\"data row40 col3\" >75393</td>\n",
       "            </tr>\n",
       "            <tr>\n",
       "                        <th id=\"T_8cd20_level0_row41\" class=\"row_heading level0 row41\" >41</th>\n",
       "                        <td id=\"T_8cd20_row41_col0\" class=\"data row41 col0\" >6</td>\n",
       "                        <td id=\"T_8cd20_row41_col1\" class=\"data row41 col1\" >June     </td>\n",
       "                        <td id=\"T_8cd20_row41_col2\" class=\"data row41 col2\" >Chicken Salad</td>\n",
       "                        <td id=\"T_8cd20_row41_col3\" class=\"data row41 col3\" >18691</td>\n",
       "            </tr>\n",
       "            <tr>\n",
       "                        <th id=\"T_8cd20_level0_row42\" class=\"row_heading level0 row42\" >42</th>\n",
       "                        <td id=\"T_8cd20_row42_col0\" class=\"data row42 col0\" >6</td>\n",
       "                        <td id=\"T_8cd20_row42_col1\" class=\"data row42 col1\" >June     </td>\n",
       "                        <td id=\"T_8cd20_row42_col2\" class=\"data row42 col2\" >Curry Chicken</td>\n",
       "                        <td id=\"T_8cd20_row42_col3\" class=\"data row42 col3\" >112415</td>\n",
       "            </tr>\n",
       "            <tr>\n",
       "                        <th id=\"T_8cd20_level0_row43\" class=\"row_heading level0 row43\" >43</th>\n",
       "                        <td id=\"T_8cd20_row43_col0\" class=\"data row43 col0\" >6</td>\n",
       "                        <td id=\"T_8cd20_row43_col1\" class=\"data row43 col1\" >June     </td>\n",
       "                        <td id=\"T_8cd20_row43_col2\" class=\"data row43 col2\" >Eggplant Lasagna</td>\n",
       "                        <td id=\"T_8cd20_row43_col3\" class=\"data row43 col3\" >131528</td>\n",
       "            </tr>\n",
       "            <tr>\n",
       "                        <th id=\"T_8cd20_level0_row44\" class=\"row_heading level0 row44\" >44</th>\n",
       "                        <td id=\"T_8cd20_row44_col0\" class=\"data row44 col0\" >6</td>\n",
       "                        <td id=\"T_8cd20_row44_col1\" class=\"data row44 col1\" >June     </td>\n",
       "                        <td id=\"T_8cd20_row44_col2\" class=\"data row44 col2\" >Pistachio Salmon</td>\n",
       "                        <td id=\"T_8cd20_row44_col3\" class=\"data row44 col3\" >150746</td>\n",
       "            </tr>\n",
       "            <tr>\n",
       "                        <th id=\"T_8cd20_level0_row45\" class=\"row_heading level0 row45\" >45</th>\n",
       "                        <td id=\"T_8cd20_row45_col0\" class=\"data row45 col0\" >6</td>\n",
       "                        <td id=\"T_8cd20_row45_col1\" class=\"data row45 col1\" >June     </td>\n",
       "                        <td id=\"T_8cd20_row45_col2\" class=\"data row45 col2\" >Spinach Orzo</td>\n",
       "                        <td id=\"T_8cd20_row45_col3\" class=\"data row45 col3\" >37605</td>\n",
       "            </tr>\n",
       "            <tr>\n",
       "                        <th id=\"T_8cd20_level0_row46\" class=\"row_heading level0 row46\" >46</th>\n",
       "                        <td id=\"T_8cd20_row46_col0\" class=\"data row46 col0\" >6</td>\n",
       "                        <td id=\"T_8cd20_row46_col1\" class=\"data row46 col1\" >June     </td>\n",
       "                        <td id=\"T_8cd20_row46_col2\" class=\"data row46 col2\" >Teriyaki Chicken</td>\n",
       "                        <td id=\"T_8cd20_row46_col3\" class=\"data row46 col3\" >94279</td>\n",
       "            </tr>\n",
       "            <tr>\n",
       "                        <th id=\"T_8cd20_level0_row47\" class=\"row_heading level0 row47\" >47</th>\n",
       "                        <td id=\"T_8cd20_row47_col0\" class=\"data row47 col0\" >6</td>\n",
       "                        <td id=\"T_8cd20_row47_col1\" class=\"data row47 col1\" >June     </td>\n",
       "                        <td id=\"T_8cd20_row47_col2\" class=\"data row47 col2\" >Tilapia Piccata</td>\n",
       "                        <td id=\"T_8cd20_row47_col3\" class=\"data row47 col3\" >56352</td>\n",
       "            </tr>\n",
       "            <tr>\n",
       "                        <th id=\"T_8cd20_level0_row48\" class=\"row_heading level0 row48\" >48</th>\n",
       "                        <td id=\"T_8cd20_row48_col0\" class=\"data row48 col0\" >7</td>\n",
       "                        <td id=\"T_8cd20_row48_col1\" class=\"data row48 col1\" >July     </td>\n",
       "                        <td id=\"T_8cd20_row48_col2\" class=\"data row48 col2\" >Brocolli Stir Fry</td>\n",
       "                        <td id=\"T_8cd20_row48_col3\" class=\"data row48 col3\" >73938</td>\n",
       "            </tr>\n",
       "            <tr>\n",
       "                        <th id=\"T_8cd20_level0_row49\" class=\"row_heading level0 row49\" >49</th>\n",
       "                        <td id=\"T_8cd20_row49_col0\" class=\"data row49 col0\" >7</td>\n",
       "                        <td id=\"T_8cd20_row49_col1\" class=\"data row49 col1\" >July     </td>\n",
       "                        <td id=\"T_8cd20_row49_col2\" class=\"data row49 col2\" >Chicken Salad</td>\n",
       "                        <td id=\"T_8cd20_row49_col3\" class=\"data row49 col3\" >18595</td>\n",
       "            </tr>\n",
       "            <tr>\n",
       "                        <th id=\"T_8cd20_level0_row50\" class=\"row_heading level0 row50\" >50</th>\n",
       "                        <td id=\"T_8cd20_row50_col0\" class=\"data row50 col0\" >7</td>\n",
       "                        <td id=\"T_8cd20_row50_col1\" class=\"data row50 col1\" >July     </td>\n",
       "                        <td id=\"T_8cd20_row50_col2\" class=\"data row50 col2\" >Curry Chicken</td>\n",
       "                        <td id=\"T_8cd20_row50_col3\" class=\"data row50 col3\" >110660</td>\n",
       "            </tr>\n",
       "            <tr>\n",
       "                        <th id=\"T_8cd20_level0_row51\" class=\"row_heading level0 row51\" >51</th>\n",
       "                        <td id=\"T_8cd20_row51_col0\" class=\"data row51 col0\" >7</td>\n",
       "                        <td id=\"T_8cd20_row51_col1\" class=\"data row51 col1\" >July     </td>\n",
       "                        <td id=\"T_8cd20_row51_col2\" class=\"data row51 col2\" >Eggplant Lasagna</td>\n",
       "                        <td id=\"T_8cd20_row51_col3\" class=\"data row51 col3\" >129789</td>\n",
       "            </tr>\n",
       "            <tr>\n",
       "                        <th id=\"T_8cd20_level0_row52\" class=\"row_heading level0 row52\" >52</th>\n",
       "                        <td id=\"T_8cd20_row52_col0\" class=\"data row52 col0\" >7</td>\n",
       "                        <td id=\"T_8cd20_row52_col1\" class=\"data row52 col1\" >July     </td>\n",
       "                        <td id=\"T_8cd20_row52_col2\" class=\"data row52 col2\" >Pistachio Salmon</td>\n",
       "                        <td id=\"T_8cd20_row52_col3\" class=\"data row52 col3\" >147920</td>\n",
       "            </tr>\n",
       "            <tr>\n",
       "                        <th id=\"T_8cd20_level0_row53\" class=\"row_heading level0 row53\" >53</th>\n",
       "                        <td id=\"T_8cd20_row53_col0\" class=\"data row53 col0\" >7</td>\n",
       "                        <td id=\"T_8cd20_row53_col1\" class=\"data row53 col1\" >July     </td>\n",
       "                        <td id=\"T_8cd20_row53_col2\" class=\"data row53 col2\" >Spinach Orzo</td>\n",
       "                        <td id=\"T_8cd20_row53_col3\" class=\"data row53 col3\" >37141</td>\n",
       "            </tr>\n",
       "            <tr>\n",
       "                        <th id=\"T_8cd20_level0_row54\" class=\"row_heading level0 row54\" >54</th>\n",
       "                        <td id=\"T_8cd20_row54_col0\" class=\"data row54 col0\" >7</td>\n",
       "                        <td id=\"T_8cd20_row54_col1\" class=\"data row54 col1\" >July     </td>\n",
       "                        <td id=\"T_8cd20_row54_col2\" class=\"data row54 col2\" >Teriyaki Chicken</td>\n",
       "                        <td id=\"T_8cd20_row54_col3\" class=\"data row54 col3\" >92565</td>\n",
       "            </tr>\n",
       "            <tr>\n",
       "                        <th id=\"T_8cd20_level0_row55\" class=\"row_heading level0 row55\" >55</th>\n",
       "                        <td id=\"T_8cd20_row55_col0\" class=\"data row55 col0\" >7</td>\n",
       "                        <td id=\"T_8cd20_row55_col1\" class=\"data row55 col1\" >July     </td>\n",
       "                        <td id=\"T_8cd20_row55_col2\" class=\"data row55 col2\" >Tilapia Piccata</td>\n",
       "                        <td id=\"T_8cd20_row55_col3\" class=\"data row55 col3\" >55479</td>\n",
       "            </tr>\n",
       "            <tr>\n",
       "                        <th id=\"T_8cd20_level0_row56\" class=\"row_heading level0 row56\" >56</th>\n",
       "                        <td id=\"T_8cd20_row56_col0\" class=\"data row56 col0\" >8</td>\n",
       "                        <td id=\"T_8cd20_row56_col1\" class=\"data row56 col1\" >August   </td>\n",
       "                        <td id=\"T_8cd20_row56_col2\" class=\"data row56 col2\" >Brocolli Stir Fry</td>\n",
       "                        <td id=\"T_8cd20_row56_col3\" class=\"data row56 col3\" >83526</td>\n",
       "            </tr>\n",
       "            <tr>\n",
       "                        <th id=\"T_8cd20_level0_row57\" class=\"row_heading level0 row57\" >57</th>\n",
       "                        <td id=\"T_8cd20_row57_col0\" class=\"data row57 col0\" >8</td>\n",
       "                        <td id=\"T_8cd20_row57_col1\" class=\"data row57 col1\" >August   </td>\n",
       "                        <td id=\"T_8cd20_row57_col2\" class=\"data row57 col2\" >Chicken Salad</td>\n",
       "                        <td id=\"T_8cd20_row57_col3\" class=\"data row57 col3\" >20920</td>\n",
       "            </tr>\n",
       "            <tr>\n",
       "                        <th id=\"T_8cd20_level0_row58\" class=\"row_heading level0 row58\" >58</th>\n",
       "                        <td id=\"T_8cd20_row58_col0\" class=\"data row58 col0\" >8</td>\n",
       "                        <td id=\"T_8cd20_row58_col1\" class=\"data row58 col1\" >August   </td>\n",
       "                        <td id=\"T_8cd20_row58_col2\" class=\"data row58 col2\" >Curry Chicken</td>\n",
       "                        <td id=\"T_8cd20_row58_col3\" class=\"data row58 col3\" >125004</td>\n",
       "            </tr>\n",
       "            <tr>\n",
       "                        <th id=\"T_8cd20_level0_row59\" class=\"row_heading level0 row59\" >59</th>\n",
       "                        <td id=\"T_8cd20_row59_col0\" class=\"data row59 col0\" >8</td>\n",
       "                        <td id=\"T_8cd20_row59_col1\" class=\"data row59 col1\" >August   </td>\n",
       "                        <td id=\"T_8cd20_row59_col2\" class=\"data row59 col2\" >Eggplant Lasagna</td>\n",
       "                        <td id=\"T_8cd20_row59_col3\" class=\"data row59 col3\" >146597</td>\n",
       "            </tr>\n",
       "            <tr>\n",
       "                        <th id=\"T_8cd20_level0_row60\" class=\"row_heading level0 row60\" >60</th>\n",
       "                        <td id=\"T_8cd20_row60_col0\" class=\"data row60 col0\" >8</td>\n",
       "                        <td id=\"T_8cd20_row60_col1\" class=\"data row60 col1\" >August   </td>\n",
       "                        <td id=\"T_8cd20_row60_col2\" class=\"data row60 col2\" >Pistachio Salmon</td>\n",
       "                        <td id=\"T_8cd20_row60_col3\" class=\"data row60 col3\" >166902</td>\n",
       "            </tr>\n",
       "            <tr>\n",
       "                        <th id=\"T_8cd20_level0_row61\" class=\"row_heading level0 row61\" >61</th>\n",
       "                        <td id=\"T_8cd20_row61_col0\" class=\"data row61 col0\" >8</td>\n",
       "                        <td id=\"T_8cd20_row61_col1\" class=\"data row61 col1\" >August   </td>\n",
       "                        <td id=\"T_8cd20_row61_col2\" class=\"data row61 col2\" >Spinach Orzo</td>\n",
       "                        <td id=\"T_8cd20_row61_col3\" class=\"data row61 col3\" >41884</td>\n",
       "            </tr>\n",
       "            <tr>\n",
       "                        <th id=\"T_8cd20_level0_row62\" class=\"row_heading level0 row62\" >62</th>\n",
       "                        <td id=\"T_8cd20_row62_col0\" class=\"data row62 col0\" >8</td>\n",
       "                        <td id=\"T_8cd20_row62_col1\" class=\"data row62 col1\" >August   </td>\n",
       "                        <td id=\"T_8cd20_row62_col2\" class=\"data row62 col2\" >Teriyaki Chicken</td>\n",
       "                        <td id=\"T_8cd20_row62_col3\" class=\"data row62 col3\" >104717</td>\n",
       "            </tr>\n",
       "            <tr>\n",
       "                        <th id=\"T_8cd20_level0_row63\" class=\"row_heading level0 row63\" >63</th>\n",
       "                        <td id=\"T_8cd20_row63_col0\" class=\"data row63 col0\" >8</td>\n",
       "                        <td id=\"T_8cd20_row63_col1\" class=\"data row63 col1\" >August   </td>\n",
       "                        <td id=\"T_8cd20_row63_col2\" class=\"data row63 col2\" >Tilapia Piccata</td>\n",
       "                        <td id=\"T_8cd20_row63_col3\" class=\"data row63 col3\" >62934</td>\n",
       "            </tr>\n",
       "            <tr>\n",
       "                        <th id=\"T_8cd20_level0_row64\" class=\"row_heading level0 row64\" >64</th>\n",
       "                        <td id=\"T_8cd20_row64_col0\" class=\"data row64 col0\" >9</td>\n",
       "                        <td id=\"T_8cd20_row64_col1\" class=\"data row64 col1\" >September</td>\n",
       "                        <td id=\"T_8cd20_row64_col2\" class=\"data row64 col2\" >Brocolli Stir Fry</td>\n",
       "                        <td id=\"T_8cd20_row64_col3\" class=\"data row64 col3\" >69997</td>\n",
       "            </tr>\n",
       "            <tr>\n",
       "                        <th id=\"T_8cd20_level0_row65\" class=\"row_heading level0 row65\" >65</th>\n",
       "                        <td id=\"T_8cd20_row65_col0\" class=\"data row65 col0\" >9</td>\n",
       "                        <td id=\"T_8cd20_row65_col1\" class=\"data row65 col1\" >September</td>\n",
       "                        <td id=\"T_8cd20_row65_col2\" class=\"data row65 col2\" >Chicken Salad</td>\n",
       "                        <td id=\"T_8cd20_row65_col3\" class=\"data row65 col3\" >17551</td>\n",
       "            </tr>\n",
       "            <tr>\n",
       "                        <th id=\"T_8cd20_level0_row66\" class=\"row_heading level0 row66\" >66</th>\n",
       "                        <td id=\"T_8cd20_row66_col0\" class=\"data row66 col0\" >9</td>\n",
       "                        <td id=\"T_8cd20_row66_col1\" class=\"data row66 col1\" >September</td>\n",
       "                        <td id=\"T_8cd20_row66_col2\" class=\"data row66 col2\" >Curry Chicken</td>\n",
       "                        <td id=\"T_8cd20_row66_col3\" class=\"data row66 col3\" >104957</td>\n",
       "            </tr>\n",
       "            <tr>\n",
       "                        <th id=\"T_8cd20_level0_row67\" class=\"row_heading level0 row67\" >67</th>\n",
       "                        <td id=\"T_8cd20_row67_col0\" class=\"data row67 col0\" >9</td>\n",
       "                        <td id=\"T_8cd20_row67_col1\" class=\"data row67 col1\" >September</td>\n",
       "                        <td id=\"T_8cd20_row67_col2\" class=\"data row67 col2\" >Eggplant Lasagna</td>\n",
       "                        <td id=\"T_8cd20_row67_col3\" class=\"data row67 col3\" >122414</td>\n",
       "            </tr>\n",
       "            <tr>\n",
       "                        <th id=\"T_8cd20_level0_row68\" class=\"row_heading level0 row68\" >68</th>\n",
       "                        <td id=\"T_8cd20_row68_col0\" class=\"data row68 col0\" >9</td>\n",
       "                        <td id=\"T_8cd20_row68_col1\" class=\"data row68 col1\" >September</td>\n",
       "                        <td id=\"T_8cd20_row68_col2\" class=\"data row68 col2\" >Pistachio Salmon</td>\n",
       "                        <td id=\"T_8cd20_row68_col3\" class=\"data row68 col3\" >140925</td>\n",
       "            </tr>\n",
       "            <tr>\n",
       "                        <th id=\"T_8cd20_level0_row69\" class=\"row_heading level0 row69\" >69</th>\n",
       "                        <td id=\"T_8cd20_row69_col0\" class=\"data row69 col0\" >9</td>\n",
       "                        <td id=\"T_8cd20_row69_col1\" class=\"data row69 col1\" >September</td>\n",
       "                        <td id=\"T_8cd20_row69_col2\" class=\"data row69 col2\" >Spinach Orzo</td>\n",
       "                        <td id=\"T_8cd20_row69_col3\" class=\"data row69 col3\" >35279</td>\n",
       "            </tr>\n",
       "            <tr>\n",
       "                        <th id=\"T_8cd20_level0_row70\" class=\"row_heading level0 row70\" >70</th>\n",
       "                        <td id=\"T_8cd20_row70_col0\" class=\"data row70 col0\" >9</td>\n",
       "                        <td id=\"T_8cd20_row70_col1\" class=\"data row70 col1\" >September</td>\n",
       "                        <td id=\"T_8cd20_row70_col2\" class=\"data row70 col2\" >Teriyaki Chicken</td>\n",
       "                        <td id=\"T_8cd20_row70_col3\" class=\"data row70 col3\" >87530</td>\n",
       "            </tr>\n",
       "            <tr>\n",
       "                        <th id=\"T_8cd20_level0_row71\" class=\"row_heading level0 row71\" >71</th>\n",
       "                        <td id=\"T_8cd20_row71_col0\" class=\"data row71 col0\" >9</td>\n",
       "                        <td id=\"T_8cd20_row71_col1\" class=\"data row71 col1\" >September</td>\n",
       "                        <td id=\"T_8cd20_row71_col2\" class=\"data row71 col2\" >Tilapia Piccata</td>\n",
       "                        <td id=\"T_8cd20_row71_col3\" class=\"data row71 col3\" >52927</td>\n",
       "            </tr>\n",
       "            <tr>\n",
       "                        <th id=\"T_8cd20_level0_row72\" class=\"row_heading level0 row72\" >72</th>\n",
       "                        <td id=\"T_8cd20_row72_col0\" class=\"data row72 col0\" >10</td>\n",
       "                        <td id=\"T_8cd20_row72_col1\" class=\"data row72 col1\" >October  </td>\n",
       "                        <td id=\"T_8cd20_row72_col2\" class=\"data row72 col2\" >Brocolli Stir Fry</td>\n",
       "                        <td id=\"T_8cd20_row72_col3\" class=\"data row72 col3\" >82409</td>\n",
       "            </tr>\n",
       "            <tr>\n",
       "                        <th id=\"T_8cd20_level0_row73\" class=\"row_heading level0 row73\" >73</th>\n",
       "                        <td id=\"T_8cd20_row73_col0\" class=\"data row73 col0\" >10</td>\n",
       "                        <td id=\"T_8cd20_row73_col1\" class=\"data row73 col1\" >October  </td>\n",
       "                        <td id=\"T_8cd20_row73_col2\" class=\"data row73 col2\" >Chicken Salad</td>\n",
       "                        <td id=\"T_8cd20_row73_col3\" class=\"data row73 col3\" >20379</td>\n",
       "            </tr>\n",
       "            <tr>\n",
       "                        <th id=\"T_8cd20_level0_row74\" class=\"row_heading level0 row74\" >74</th>\n",
       "                        <td id=\"T_8cd20_row74_col0\" class=\"data row74 col0\" >10</td>\n",
       "                        <td id=\"T_8cd20_row74_col1\" class=\"data row74 col1\" >October  </td>\n",
       "                        <td id=\"T_8cd20_row74_col2\" class=\"data row74 col2\" >Curry Chicken</td>\n",
       "                        <td id=\"T_8cd20_row74_col3\" class=\"data row74 col3\" >123559</td>\n",
       "            </tr>\n",
       "            <tr>\n",
       "                        <th id=\"T_8cd20_level0_row75\" class=\"row_heading level0 row75\" >75</th>\n",
       "                        <td id=\"T_8cd20_row75_col0\" class=\"data row75 col0\" >10</td>\n",
       "                        <td id=\"T_8cd20_row75_col1\" class=\"data row75 col1\" >October  </td>\n",
       "                        <td id=\"T_8cd20_row75_col2\" class=\"data row75 col2\" >Eggplant Lasagna</td>\n",
       "                        <td id=\"T_8cd20_row75_col3\" class=\"data row75 col3\" >144016</td>\n",
       "            </tr>\n",
       "            <tr>\n",
       "                        <th id=\"T_8cd20_level0_row76\" class=\"row_heading level0 row76\" >76</th>\n",
       "                        <td id=\"T_8cd20_row76_col0\" class=\"data row76 col0\" >10</td>\n",
       "                        <td id=\"T_8cd20_row76_col1\" class=\"data row76 col1\" >October  </td>\n",
       "                        <td id=\"T_8cd20_row76_col2\" class=\"data row76 col2\" >Pistachio Salmon</td>\n",
       "                        <td id=\"T_8cd20_row76_col3\" class=\"data row76 col3\" >164643</td>\n",
       "            </tr>\n",
       "            <tr>\n",
       "                        <th id=\"T_8cd20_level0_row77\" class=\"row_heading level0 row77\" >77</th>\n",
       "                        <td id=\"T_8cd20_row77_col0\" class=\"data row77 col0\" >10</td>\n",
       "                        <td id=\"T_8cd20_row77_col1\" class=\"data row77 col1\" >October  </td>\n",
       "                        <td id=\"T_8cd20_row77_col2\" class=\"data row77 col2\" >Spinach Orzo</td>\n",
       "                        <td id=\"T_8cd20_row77_col3\" class=\"data row77 col3\" >41071</td>\n",
       "            </tr>\n",
       "            <tr>\n",
       "                        <th id=\"T_8cd20_level0_row78\" class=\"row_heading level0 row78\" >78</th>\n",
       "                        <td id=\"T_8cd20_row78_col0\" class=\"data row78 col0\" >10</td>\n",
       "                        <td id=\"T_8cd20_row78_col1\" class=\"data row78 col1\" >October  </td>\n",
       "                        <td id=\"T_8cd20_row78_col2\" class=\"data row78 col2\" >Teriyaki Chicken</td>\n",
       "                        <td id=\"T_8cd20_row78_col3\" class=\"data row78 col3\" >103320</td>\n",
       "            </tr>\n",
       "            <tr>\n",
       "                        <th id=\"T_8cd20_level0_row79\" class=\"row_heading level0 row79\" >79</th>\n",
       "                        <td id=\"T_8cd20_row79_col0\" class=\"data row79 col0\" >10</td>\n",
       "                        <td id=\"T_8cd20_row79_col1\" class=\"data row79 col1\" >October  </td>\n",
       "                        <td id=\"T_8cd20_row79_col2\" class=\"data row79 col2\" >Tilapia Piccata</td>\n",
       "                        <td id=\"T_8cd20_row79_col3\" class=\"data row79 col3\" >61862</td>\n",
       "            </tr>\n",
       "            <tr>\n",
       "                        <th id=\"T_8cd20_level0_row80\" class=\"row_heading level0 row80\" >80</th>\n",
       "                        <td id=\"T_8cd20_row80_col0\" class=\"data row80 col0\" >11</td>\n",
       "                        <td id=\"T_8cd20_row80_col1\" class=\"data row80 col1\" >November </td>\n",
       "                        <td id=\"T_8cd20_row80_col2\" class=\"data row80 col2\" >Brocolli Stir Fry</td>\n",
       "                        <td id=\"T_8cd20_row80_col3\" class=\"data row80 col3\" >77506</td>\n",
       "            </tr>\n",
       "            <tr>\n",
       "                        <th id=\"T_8cd20_level0_row81\" class=\"row_heading level0 row81\" >81</th>\n",
       "                        <td id=\"T_8cd20_row81_col0\" class=\"data row81 col0\" >11</td>\n",
       "                        <td id=\"T_8cd20_row81_col1\" class=\"data row81 col1\" >November </td>\n",
       "                        <td id=\"T_8cd20_row81_col2\" class=\"data row81 col2\" >Chicken Salad</td>\n",
       "                        <td id=\"T_8cd20_row81_col3\" class=\"data row81 col3\" >19414</td>\n",
       "            </tr>\n",
       "            <tr>\n",
       "                        <th id=\"T_8cd20_level0_row82\" class=\"row_heading level0 row82\" >82</th>\n",
       "                        <td id=\"T_8cd20_row82_col0\" class=\"data row82 col0\" >11</td>\n",
       "                        <td id=\"T_8cd20_row82_col1\" class=\"data row82 col1\" >November </td>\n",
       "                        <td id=\"T_8cd20_row82_col2\" class=\"data row82 col2\" >Curry Chicken</td>\n",
       "                        <td id=\"T_8cd20_row82_col3\" class=\"data row82 col3\" >116455</td>\n",
       "            </tr>\n",
       "            <tr>\n",
       "                        <th id=\"T_8cd20_level0_row83\" class=\"row_heading level0 row83\" >83</th>\n",
       "                        <td id=\"T_8cd20_row83_col0\" class=\"data row83 col0\" >11</td>\n",
       "                        <td id=\"T_8cd20_row83_col1\" class=\"data row83 col1\" >November </td>\n",
       "                        <td id=\"T_8cd20_row83_col2\" class=\"data row83 col2\" >Eggplant Lasagna</td>\n",
       "                        <td id=\"T_8cd20_row83_col3\" class=\"data row83 col3\" >136591</td>\n",
       "            </tr>\n",
       "            <tr>\n",
       "                        <th id=\"T_8cd20_level0_row84\" class=\"row_heading level0 row84\" >84</th>\n",
       "                        <td id=\"T_8cd20_row84_col0\" class=\"data row84 col0\" >11</td>\n",
       "                        <td id=\"T_8cd20_row84_col1\" class=\"data row84 col1\" >November </td>\n",
       "                        <td id=\"T_8cd20_row84_col2\" class=\"data row84 col2\" >Pistachio Salmon</td>\n",
       "                        <td id=\"T_8cd20_row84_col3\" class=\"data row84 col3\" >155328</td>\n",
       "            </tr>\n",
       "            <tr>\n",
       "                        <th id=\"T_8cd20_level0_row85\" class=\"row_heading level0 row85\" >85</th>\n",
       "                        <td id=\"T_8cd20_row85_col0\" class=\"data row85 col0\" >11</td>\n",
       "                        <td id=\"T_8cd20_row85_col1\" class=\"data row85 col1\" >November </td>\n",
       "                        <td id=\"T_8cd20_row85_col2\" class=\"data row85 col2\" >Spinach Orzo</td>\n",
       "                        <td id=\"T_8cd20_row85_col3\" class=\"data row85 col3\" >38561</td>\n",
       "            </tr>\n",
       "            <tr>\n",
       "                        <th id=\"T_8cd20_level0_row86\" class=\"row_heading level0 row86\" >86</th>\n",
       "                        <td id=\"T_8cd20_row86_col0\" class=\"data row86 col0\" >11</td>\n",
       "                        <td id=\"T_8cd20_row86_col1\" class=\"data row86 col1\" >November </td>\n",
       "                        <td id=\"T_8cd20_row86_col2\" class=\"data row86 col2\" >Teriyaki Chicken</td>\n",
       "                        <td id=\"T_8cd20_row86_col3\" class=\"data row86 col3\" >97349</td>\n",
       "            </tr>\n",
       "            <tr>\n",
       "                        <th id=\"T_8cd20_level0_row87\" class=\"row_heading level0 row87\" >87</th>\n",
       "                        <td id=\"T_8cd20_row87_col0\" class=\"data row87 col0\" >11</td>\n",
       "                        <td id=\"T_8cd20_row87_col1\" class=\"data row87 col1\" >November </td>\n",
       "                        <td id=\"T_8cd20_row87_col2\" class=\"data row87 col2\" >Tilapia Piccata</td>\n",
       "                        <td id=\"T_8cd20_row87_col3\" class=\"data row87 col3\" >58055</td>\n",
       "            </tr>\n",
       "            <tr>\n",
       "                        <th id=\"T_8cd20_level0_row88\" class=\"row_heading level0 row88\" >88</th>\n",
       "                        <td id=\"T_8cd20_row88_col0\" class=\"data row88 col0\" >12</td>\n",
       "                        <td id=\"T_8cd20_row88_col1\" class=\"data row88 col1\" >December </td>\n",
       "                        <td id=\"T_8cd20_row88_col2\" class=\"data row88 col2\" >Brocolli Stir Fry</td>\n",
       "                        <td id=\"T_8cd20_row88_col3\" class=\"data row88 col3\" >77563</td>\n",
       "            </tr>\n",
       "            <tr>\n",
       "                        <th id=\"T_8cd20_level0_row89\" class=\"row_heading level0 row89\" >89</th>\n",
       "                        <td id=\"T_8cd20_row89_col0\" class=\"data row89 col0\" >12</td>\n",
       "                        <td id=\"T_8cd20_row89_col1\" class=\"data row89 col1\" >December </td>\n",
       "                        <td id=\"T_8cd20_row89_col2\" class=\"data row89 col2\" >Chicken Salad</td>\n",
       "                        <td id=\"T_8cd20_row89_col3\" class=\"data row89 col3\" >19425</td>\n",
       "            </tr>\n",
       "            <tr>\n",
       "                        <th id=\"T_8cd20_level0_row90\" class=\"row_heading level0 row90\" >90</th>\n",
       "                        <td id=\"T_8cd20_row90_col0\" class=\"data row90 col0\" >12</td>\n",
       "                        <td id=\"T_8cd20_row90_col1\" class=\"data row90 col1\" >December </td>\n",
       "                        <td id=\"T_8cd20_row90_col2\" class=\"data row90 col2\" >Curry Chicken</td>\n",
       "                        <td id=\"T_8cd20_row90_col3\" class=\"data row90 col3\" >115686</td>\n",
       "            </tr>\n",
       "            <tr>\n",
       "                        <th id=\"T_8cd20_level0_row91\" class=\"row_heading level0 row91\" >91</th>\n",
       "                        <td id=\"T_8cd20_row91_col0\" class=\"data row91 col0\" >12</td>\n",
       "                        <td id=\"T_8cd20_row91_col1\" class=\"data row91 col1\" >December </td>\n",
       "                        <td id=\"T_8cd20_row91_col2\" class=\"data row91 col2\" >Eggplant Lasagna</td>\n",
       "                        <td id=\"T_8cd20_row91_col3\" class=\"data row91 col3\" >134666</td>\n",
       "            </tr>\n",
       "            <tr>\n",
       "                        <th id=\"T_8cd20_level0_row92\" class=\"row_heading level0 row92\" >92</th>\n",
       "                        <td id=\"T_8cd20_row92_col0\" class=\"data row92 col0\" >12</td>\n",
       "                        <td id=\"T_8cd20_row92_col1\" class=\"data row92 col1\" >December </td>\n",
       "                        <td id=\"T_8cd20_row92_col2\" class=\"data row92 col2\" >Pistachio Salmon</td>\n",
       "                        <td id=\"T_8cd20_row92_col3\" class=\"data row92 col3\" >154242</td>\n",
       "            </tr>\n",
       "            <tr>\n",
       "                        <th id=\"T_8cd20_level0_row93\" class=\"row_heading level0 row93\" >93</th>\n",
       "                        <td id=\"T_8cd20_row93_col0\" class=\"data row93 col0\" >12</td>\n",
       "                        <td id=\"T_8cd20_row93_col1\" class=\"data row93 col1\" >December </td>\n",
       "                        <td id=\"T_8cd20_row93_col2\" class=\"data row93 col2\" >Spinach Orzo</td>\n",
       "                        <td id=\"T_8cd20_row93_col3\" class=\"data row93 col3\" >38297</td>\n",
       "            </tr>\n",
       "            <tr>\n",
       "                        <th id=\"T_8cd20_level0_row94\" class=\"row_heading level0 row94\" >94</th>\n",
       "                        <td id=\"T_8cd20_row94_col0\" class=\"data row94 col0\" >12</td>\n",
       "                        <td id=\"T_8cd20_row94_col1\" class=\"data row94 col1\" >December </td>\n",
       "                        <td id=\"T_8cd20_row94_col2\" class=\"data row94 col2\" >Teriyaki Chicken</td>\n",
       "                        <td id=\"T_8cd20_row94_col3\" class=\"data row94 col3\" >96896</td>\n",
       "            </tr>\n",
       "            <tr>\n",
       "                        <th id=\"T_8cd20_level0_row95\" class=\"row_heading level0 row95\" >95</th>\n",
       "                        <td id=\"T_8cd20_row95_col0\" class=\"data row95 col0\" >12</td>\n",
       "                        <td id=\"T_8cd20_row95_col1\" class=\"data row95 col1\" >December </td>\n",
       "                        <td id=\"T_8cd20_row95_col2\" class=\"data row95 col2\" >Tilapia Piccata</td>\n",
       "                        <td id=\"T_8cd20_row95_col3\" class=\"data row95 col3\" >58260</td>\n",
       "            </tr>\n",
       "    </tbody></table>"
      ],
      "text/plain": [
       "<pandas.io.formats.style.Styler at 0x7fbecc599520>"
      ]
     },
     "execution_count": 41,
     "metadata": {},
     "output_type": "execute_result"
    }
   ],
   "source": [
    "def meals_by_month_meal():\n",
    "    # meals purchased by month and meal\n",
    "    rollback_before_flag = True\n",
    "    rollback_after_flag = True\n",
    "\n",
    "    query = \"\"\"\n",
    "\n",
    "    SELECT EXTRACT(MONTH FROM sa.sale_date) as month_num, \n",
    "           TO_CHAR(sa.sale_date, 'Month') as month_name, \n",
    "           prod.description as meal_name, \n",
    "           SUM(li.quantity) as quantity\n",
    "    FROM line_items as li\n",
    "        JOIN sales as sa\n",
    "        ON li.sale_id = sa.sale_id\n",
    "        AND li.store_id = sa.store_id\n",
    "        JOIN products as prod\n",
    "        ON li.product_id = prod.product_id\n",
    "    GROUP BY month_num, month_name, meal_name\n",
    "    ORDER BY month_num, month_name, meal_name\n",
    "\n",
    "    \"\"\"\n",
    "    return my_select_query_pandas(query, rollback_before_flag, rollback_after_flag)\n",
    "\n",
    "meals_by_month_meal().style.set_caption('Meals purchased by month and meal')"
   ]
  },
  {
   "cell_type": "markdown",
   "id": "600e67a5",
   "metadata": {},
   "source": [
    "# 1.3.6 How many meals were purchased by day of week and meal?\n",
    "\n",
    "Sort by day of week in day of week order, then by meal name in alphabetical order"
   ]
  },
  {
   "cell_type": "code",
   "execution_count": 42,
   "id": "a43eefe6",
   "metadata": {},
   "outputs": [
    {
     "data": {
      "text/html": [
       "<style  type=\"text/css\" >\n",
       "</style><table id=\"T_42c16_\" ><caption>Meals purchased by day of week and meal</caption><thead>    <tr>        <th class=\"blank level0\" ></th>        <th class=\"col_heading level0 col0\" >dow</th>        <th class=\"col_heading level0 col1\" >day_of_week</th>        <th class=\"col_heading level0 col2\" >meal_name</th>        <th class=\"col_heading level0 col3\" >quantity</th>    </tr></thead><tbody>\n",
       "                <tr>\n",
       "                        <th id=\"T_42c16_level0_row0\" class=\"row_heading level0 row0\" >0</th>\n",
       "                        <td id=\"T_42c16_row0_col0\" class=\"data row0 col0\" >0</td>\n",
       "                        <td id=\"T_42c16_row0_col1\" class=\"data row0 col1\" >Sunday   </td>\n",
       "                        <td id=\"T_42c16_row0_col2\" class=\"data row0 col2\" >Brocolli Stir Fry</td>\n",
       "                        <td id=\"T_42c16_row0_col3\" class=\"data row0 col3\" >172250</td>\n",
       "            </tr>\n",
       "            <tr>\n",
       "                        <th id=\"T_42c16_level0_row1\" class=\"row_heading level0 row1\" >1</th>\n",
       "                        <td id=\"T_42c16_row1_col0\" class=\"data row1 col0\" >0</td>\n",
       "                        <td id=\"T_42c16_row1_col1\" class=\"data row1 col1\" >Sunday   </td>\n",
       "                        <td id=\"T_42c16_row1_col2\" class=\"data row1 col2\" >Chicken Salad</td>\n",
       "                        <td id=\"T_42c16_row1_col3\" class=\"data row1 col3\" >43110</td>\n",
       "            </tr>\n",
       "            <tr>\n",
       "                        <th id=\"T_42c16_level0_row2\" class=\"row_heading level0 row2\" >2</th>\n",
       "                        <td id=\"T_42c16_row2_col0\" class=\"data row2 col0\" >0</td>\n",
       "                        <td id=\"T_42c16_row2_col1\" class=\"data row2 col1\" >Sunday   </td>\n",
       "                        <td id=\"T_42c16_row2_col2\" class=\"data row2 col2\" >Curry Chicken</td>\n",
       "                        <td id=\"T_42c16_row2_col3\" class=\"data row2 col3\" >257216</td>\n",
       "            </tr>\n",
       "            <tr>\n",
       "                        <th id=\"T_42c16_level0_row3\" class=\"row_heading level0 row3\" >3</th>\n",
       "                        <td id=\"T_42c16_row3_col0\" class=\"data row3 col0\" >0</td>\n",
       "                        <td id=\"T_42c16_row3_col1\" class=\"data row3 col1\" >Sunday   </td>\n",
       "                        <td id=\"T_42c16_row3_col2\" class=\"data row3 col2\" >Eggplant Lasagna</td>\n",
       "                        <td id=\"T_42c16_row3_col3\" class=\"data row3 col3\" >301726</td>\n",
       "            </tr>\n",
       "            <tr>\n",
       "                        <th id=\"T_42c16_level0_row4\" class=\"row_heading level0 row4\" >4</th>\n",
       "                        <td id=\"T_42c16_row4_col0\" class=\"data row4 col0\" >0</td>\n",
       "                        <td id=\"T_42c16_row4_col1\" class=\"data row4 col1\" >Sunday   </td>\n",
       "                        <td id=\"T_42c16_row4_col2\" class=\"data row4 col2\" >Pistachio Salmon</td>\n",
       "                        <td id=\"T_42c16_row4_col3\" class=\"data row4 col3\" >344315</td>\n",
       "            </tr>\n",
       "            <tr>\n",
       "                        <th id=\"T_42c16_level0_row5\" class=\"row_heading level0 row5\" >5</th>\n",
       "                        <td id=\"T_42c16_row5_col0\" class=\"data row5 col0\" >0</td>\n",
       "                        <td id=\"T_42c16_row5_col1\" class=\"data row5 col1\" >Sunday   </td>\n",
       "                        <td id=\"T_42c16_row5_col2\" class=\"data row5 col2\" >Spinach Orzo</td>\n",
       "                        <td id=\"T_42c16_row5_col3\" class=\"data row5 col3\" >85968</td>\n",
       "            </tr>\n",
       "            <tr>\n",
       "                        <th id=\"T_42c16_level0_row6\" class=\"row_heading level0 row6\" >6</th>\n",
       "                        <td id=\"T_42c16_row6_col0\" class=\"data row6 col0\" >0</td>\n",
       "                        <td id=\"T_42c16_row6_col1\" class=\"data row6 col1\" >Sunday   </td>\n",
       "                        <td id=\"T_42c16_row6_col2\" class=\"data row6 col2\" >Teriyaki Chicken</td>\n",
       "                        <td id=\"T_42c16_row6_col3\" class=\"data row6 col3\" >215741</td>\n",
       "            </tr>\n",
       "            <tr>\n",
       "                        <th id=\"T_42c16_level0_row7\" class=\"row_heading level0 row7\" >7</th>\n",
       "                        <td id=\"T_42c16_row7_col0\" class=\"data row7 col0\" >0</td>\n",
       "                        <td id=\"T_42c16_row7_col1\" class=\"data row7 col1\" >Sunday   </td>\n",
       "                        <td id=\"T_42c16_row7_col2\" class=\"data row7 col2\" >Tilapia Piccata</td>\n",
       "                        <td id=\"T_42c16_row7_col3\" class=\"data row7 col3\" >128763</td>\n",
       "            </tr>\n",
       "            <tr>\n",
       "                        <th id=\"T_42c16_level0_row8\" class=\"row_heading level0 row8\" >8</th>\n",
       "                        <td id=\"T_42c16_row8_col0\" class=\"data row8 col0\" >1</td>\n",
       "                        <td id=\"T_42c16_row8_col1\" class=\"data row8 col1\" >Monday   </td>\n",
       "                        <td id=\"T_42c16_row8_col2\" class=\"data row8 col2\" >Brocolli Stir Fry</td>\n",
       "                        <td id=\"T_42c16_row8_col3\" class=\"data row8 col3\" >121717</td>\n",
       "            </tr>\n",
       "            <tr>\n",
       "                        <th id=\"T_42c16_level0_row9\" class=\"row_heading level0 row9\" >9</th>\n",
       "                        <td id=\"T_42c16_row9_col0\" class=\"data row9 col0\" >1</td>\n",
       "                        <td id=\"T_42c16_row9_col1\" class=\"data row9 col1\" >Monday   </td>\n",
       "                        <td id=\"T_42c16_row9_col2\" class=\"data row9 col2\" >Chicken Salad</td>\n",
       "                        <td id=\"T_42c16_row9_col3\" class=\"data row9 col3\" >30790</td>\n",
       "            </tr>\n",
       "            <tr>\n",
       "                        <th id=\"T_42c16_level0_row10\" class=\"row_heading level0 row10\" >10</th>\n",
       "                        <td id=\"T_42c16_row10_col0\" class=\"data row10 col0\" >1</td>\n",
       "                        <td id=\"T_42c16_row10_col1\" class=\"data row10 col1\" >Monday   </td>\n",
       "                        <td id=\"T_42c16_row10_col2\" class=\"data row10 col2\" >Curry Chicken</td>\n",
       "                        <td id=\"T_42c16_row10_col3\" class=\"data row10 col3\" >182341</td>\n",
       "            </tr>\n",
       "            <tr>\n",
       "                        <th id=\"T_42c16_level0_row11\" class=\"row_heading level0 row11\" >11</th>\n",
       "                        <td id=\"T_42c16_row11_col0\" class=\"data row11 col0\" >1</td>\n",
       "                        <td id=\"T_42c16_row11_col1\" class=\"data row11 col1\" >Monday   </td>\n",
       "                        <td id=\"T_42c16_row11_col2\" class=\"data row11 col2\" >Eggplant Lasagna</td>\n",
       "                        <td id=\"T_42c16_row11_col3\" class=\"data row11 col3\" >213187</td>\n",
       "            </tr>\n",
       "            <tr>\n",
       "                        <th id=\"T_42c16_level0_row12\" class=\"row_heading level0 row12\" >12</th>\n",
       "                        <td id=\"T_42c16_row12_col0\" class=\"data row12 col0\" >1</td>\n",
       "                        <td id=\"T_42c16_row12_col1\" class=\"data row12 col1\" >Monday   </td>\n",
       "                        <td id=\"T_42c16_row12_col2\" class=\"data row12 col2\" >Pistachio Salmon</td>\n",
       "                        <td id=\"T_42c16_row12_col3\" class=\"data row12 col3\" >244255</td>\n",
       "            </tr>\n",
       "            <tr>\n",
       "                        <th id=\"T_42c16_level0_row13\" class=\"row_heading level0 row13\" >13</th>\n",
       "                        <td id=\"T_42c16_row13_col0\" class=\"data row13 col0\" >1</td>\n",
       "                        <td id=\"T_42c16_row13_col1\" class=\"data row13 col1\" >Monday   </td>\n",
       "                        <td id=\"T_42c16_row13_col2\" class=\"data row13 col2\" >Spinach Orzo</td>\n",
       "                        <td id=\"T_42c16_row13_col3\" class=\"data row13 col3\" >61027</td>\n",
       "            </tr>\n",
       "            <tr>\n",
       "                        <th id=\"T_42c16_level0_row14\" class=\"row_heading level0 row14\" >14</th>\n",
       "                        <td id=\"T_42c16_row14_col0\" class=\"data row14 col0\" >1</td>\n",
       "                        <td id=\"T_42c16_row14_col1\" class=\"data row14 col1\" >Monday   </td>\n",
       "                        <td id=\"T_42c16_row14_col2\" class=\"data row14 col2\" >Teriyaki Chicken</td>\n",
       "                        <td id=\"T_42c16_row14_col3\" class=\"data row14 col3\" >152175</td>\n",
       "            </tr>\n",
       "            <tr>\n",
       "                        <th id=\"T_42c16_level0_row15\" class=\"row_heading level0 row15\" >15</th>\n",
       "                        <td id=\"T_42c16_row15_col0\" class=\"data row15 col0\" >1</td>\n",
       "                        <td id=\"T_42c16_row15_col1\" class=\"data row15 col1\" >Monday   </td>\n",
       "                        <td id=\"T_42c16_row15_col2\" class=\"data row15 col2\" >Tilapia Piccata</td>\n",
       "                        <td id=\"T_42c16_row15_col3\" class=\"data row15 col3\" >91818</td>\n",
       "            </tr>\n",
       "            <tr>\n",
       "                        <th id=\"T_42c16_level0_row16\" class=\"row_heading level0 row16\" >16</th>\n",
       "                        <td id=\"T_42c16_row16_col0\" class=\"data row16 col0\" >2</td>\n",
       "                        <td id=\"T_42c16_row16_col1\" class=\"data row16 col1\" >Tuesday  </td>\n",
       "                        <td id=\"T_42c16_row16_col2\" class=\"data row16 col2\" >Brocolli Stir Fry</td>\n",
       "                        <td id=\"T_42c16_row16_col3\" class=\"data row16 col3\" >63474</td>\n",
       "            </tr>\n",
       "            <tr>\n",
       "                        <th id=\"T_42c16_level0_row17\" class=\"row_heading level0 row17\" >17</th>\n",
       "                        <td id=\"T_42c16_row17_col0\" class=\"data row17 col0\" >2</td>\n",
       "                        <td id=\"T_42c16_row17_col1\" class=\"data row17 col1\" >Tuesday  </td>\n",
       "                        <td id=\"T_42c16_row17_col2\" class=\"data row17 col2\" >Chicken Salad</td>\n",
       "                        <td id=\"T_42c16_row17_col3\" class=\"data row17 col3\" >16165</td>\n",
       "            </tr>\n",
       "            <tr>\n",
       "                        <th id=\"T_42c16_level0_row18\" class=\"row_heading level0 row18\" >18</th>\n",
       "                        <td id=\"T_42c16_row18_col0\" class=\"data row18 col0\" >2</td>\n",
       "                        <td id=\"T_42c16_row18_col1\" class=\"data row18 col1\" >Tuesday  </td>\n",
       "                        <td id=\"T_42c16_row18_col2\" class=\"data row18 col2\" >Curry Chicken</td>\n",
       "                        <td id=\"T_42c16_row18_col3\" class=\"data row18 col3\" >95665</td>\n",
       "            </tr>\n",
       "            <tr>\n",
       "                        <th id=\"T_42c16_level0_row19\" class=\"row_heading level0 row19\" >19</th>\n",
       "                        <td id=\"T_42c16_row19_col0\" class=\"data row19 col0\" >2</td>\n",
       "                        <td id=\"T_42c16_row19_col1\" class=\"data row19 col1\" >Tuesday  </td>\n",
       "                        <td id=\"T_42c16_row19_col2\" class=\"data row19 col2\" >Eggplant Lasagna</td>\n",
       "                        <td id=\"T_42c16_row19_col3\" class=\"data row19 col3\" >111946</td>\n",
       "            </tr>\n",
       "            <tr>\n",
       "                        <th id=\"T_42c16_level0_row20\" class=\"row_heading level0 row20\" >20</th>\n",
       "                        <td id=\"T_42c16_row20_col0\" class=\"data row20 col0\" >2</td>\n",
       "                        <td id=\"T_42c16_row20_col1\" class=\"data row20 col1\" >Tuesday  </td>\n",
       "                        <td id=\"T_42c16_row20_col2\" class=\"data row20 col2\" >Pistachio Salmon</td>\n",
       "                        <td id=\"T_42c16_row20_col3\" class=\"data row20 col3\" >127559</td>\n",
       "            </tr>\n",
       "            <tr>\n",
       "                        <th id=\"T_42c16_level0_row21\" class=\"row_heading level0 row21\" >21</th>\n",
       "                        <td id=\"T_42c16_row21_col0\" class=\"data row21 col0\" >2</td>\n",
       "                        <td id=\"T_42c16_row21_col1\" class=\"data row21 col1\" >Tuesday  </td>\n",
       "                        <td id=\"T_42c16_row21_col2\" class=\"data row21 col2\" >Spinach Orzo</td>\n",
       "                        <td id=\"T_42c16_row21_col3\" class=\"data row21 col3\" >31870</td>\n",
       "            </tr>\n",
       "            <tr>\n",
       "                        <th id=\"T_42c16_level0_row22\" class=\"row_heading level0 row22\" >22</th>\n",
       "                        <td id=\"T_42c16_row22_col0\" class=\"data row22 col0\" >2</td>\n",
       "                        <td id=\"T_42c16_row22_col1\" class=\"data row22 col1\" >Tuesday  </td>\n",
       "                        <td id=\"T_42c16_row22_col2\" class=\"data row22 col2\" >Teriyaki Chicken</td>\n",
       "                        <td id=\"T_42c16_row22_col3\" class=\"data row22 col3\" >79962</td>\n",
       "            </tr>\n",
       "            <tr>\n",
       "                        <th id=\"T_42c16_level0_row23\" class=\"row_heading level0 row23\" >23</th>\n",
       "                        <td id=\"T_42c16_row23_col0\" class=\"data row23 col0\" >2</td>\n",
       "                        <td id=\"T_42c16_row23_col1\" class=\"data row23 col1\" >Tuesday  </td>\n",
       "                        <td id=\"T_42c16_row23_col2\" class=\"data row23 col2\" >Tilapia Piccata</td>\n",
       "                        <td id=\"T_42c16_row23_col3\" class=\"data row23 col3\" >47970</td>\n",
       "            </tr>\n",
       "            <tr>\n",
       "                        <th id=\"T_42c16_level0_row24\" class=\"row_heading level0 row24\" >24</th>\n",
       "                        <td id=\"T_42c16_row24_col0\" class=\"data row24 col0\" >3</td>\n",
       "                        <td id=\"T_42c16_row24_col1\" class=\"data row24 col1\" >Wednesday</td>\n",
       "                        <td id=\"T_42c16_row24_col2\" class=\"data row24 col2\" >Brocolli Stir Fry</td>\n",
       "                        <td id=\"T_42c16_row24_col3\" class=\"data row24 col3\" >128920</td>\n",
       "            </tr>\n",
       "            <tr>\n",
       "                        <th id=\"T_42c16_level0_row25\" class=\"row_heading level0 row25\" >25</th>\n",
       "                        <td id=\"T_42c16_row25_col0\" class=\"data row25 col0\" >3</td>\n",
       "                        <td id=\"T_42c16_row25_col1\" class=\"data row25 col1\" >Wednesday</td>\n",
       "                        <td id=\"T_42c16_row25_col2\" class=\"data row25 col2\" >Chicken Salad</td>\n",
       "                        <td id=\"T_42c16_row25_col3\" class=\"data row25 col3\" >32022</td>\n",
       "            </tr>\n",
       "            <tr>\n",
       "                        <th id=\"T_42c16_level0_row26\" class=\"row_heading level0 row26\" >26</th>\n",
       "                        <td id=\"T_42c16_row26_col0\" class=\"data row26 col0\" >3</td>\n",
       "                        <td id=\"T_42c16_row26_col1\" class=\"data row26 col1\" >Wednesday</td>\n",
       "                        <td id=\"T_42c16_row26_col2\" class=\"data row26 col2\" >Curry Chicken</td>\n",
       "                        <td id=\"T_42c16_row26_col3\" class=\"data row26 col3\" >194197</td>\n",
       "            </tr>\n",
       "            <tr>\n",
       "                        <th id=\"T_42c16_level0_row27\" class=\"row_heading level0 row27\" >27</th>\n",
       "                        <td id=\"T_42c16_row27_col0\" class=\"data row27 col0\" >3</td>\n",
       "                        <td id=\"T_42c16_row27_col1\" class=\"data row27 col1\" >Wednesday</td>\n",
       "                        <td id=\"T_42c16_row27_col2\" class=\"data row27 col2\" >Eggplant Lasagna</td>\n",
       "                        <td id=\"T_42c16_row27_col3\" class=\"data row27 col3\" >225751</td>\n",
       "            </tr>\n",
       "            <tr>\n",
       "                        <th id=\"T_42c16_level0_row28\" class=\"row_heading level0 row28\" >28</th>\n",
       "                        <td id=\"T_42c16_row28_col0\" class=\"data row28 col0\" >3</td>\n",
       "                        <td id=\"T_42c16_row28_col1\" class=\"data row28 col1\" >Wednesday</td>\n",
       "                        <td id=\"T_42c16_row28_col2\" class=\"data row28 col2\" >Pistachio Salmon</td>\n",
       "                        <td id=\"T_42c16_row28_col3\" class=\"data row28 col3\" >257872</td>\n",
       "            </tr>\n",
       "            <tr>\n",
       "                        <th id=\"T_42c16_level0_row29\" class=\"row_heading level0 row29\" >29</th>\n",
       "                        <td id=\"T_42c16_row29_col0\" class=\"data row29 col0\" >3</td>\n",
       "                        <td id=\"T_42c16_row29_col1\" class=\"data row29 col1\" >Wednesday</td>\n",
       "                        <td id=\"T_42c16_row29_col2\" class=\"data row29 col2\" >Spinach Orzo</td>\n",
       "                        <td id=\"T_42c16_row29_col3\" class=\"data row29 col3\" >64934</td>\n",
       "            </tr>\n",
       "            <tr>\n",
       "                        <th id=\"T_42c16_level0_row30\" class=\"row_heading level0 row30\" >30</th>\n",
       "                        <td id=\"T_42c16_row30_col0\" class=\"data row30 col0\" >3</td>\n",
       "                        <td id=\"T_42c16_row30_col1\" class=\"data row30 col1\" >Wednesday</td>\n",
       "                        <td id=\"T_42c16_row30_col2\" class=\"data row30 col2\" >Teriyaki Chicken</td>\n",
       "                        <td id=\"T_42c16_row30_col3\" class=\"data row30 col3\" >161531</td>\n",
       "            </tr>\n",
       "            <tr>\n",
       "                        <th id=\"T_42c16_level0_row31\" class=\"row_heading level0 row31\" >31</th>\n",
       "                        <td id=\"T_42c16_row31_col0\" class=\"data row31 col0\" >3</td>\n",
       "                        <td id=\"T_42c16_row31_col1\" class=\"data row31 col1\" >Wednesday</td>\n",
       "                        <td id=\"T_42c16_row31_col2\" class=\"data row31 col2\" >Tilapia Piccata</td>\n",
       "                        <td id=\"T_42c16_row31_col3\" class=\"data row31 col3\" >97486</td>\n",
       "            </tr>\n",
       "            <tr>\n",
       "                        <th id=\"T_42c16_level0_row32\" class=\"row_heading level0 row32\" >32</th>\n",
       "                        <td id=\"T_42c16_row32_col0\" class=\"data row32 col0\" >4</td>\n",
       "                        <td id=\"T_42c16_row32_col1\" class=\"data row32 col1\" >Thursday </td>\n",
       "                        <td id=\"T_42c16_row32_col2\" class=\"data row32 col2\" >Brocolli Stir Fry</td>\n",
       "                        <td id=\"T_42c16_row32_col3\" class=\"data row32 col3\" >128574</td>\n",
       "            </tr>\n",
       "            <tr>\n",
       "                        <th id=\"T_42c16_level0_row33\" class=\"row_heading level0 row33\" >33</th>\n",
       "                        <td id=\"T_42c16_row33_col0\" class=\"data row33 col0\" >4</td>\n",
       "                        <td id=\"T_42c16_row33_col1\" class=\"data row33 col1\" >Thursday </td>\n",
       "                        <td id=\"T_42c16_row33_col2\" class=\"data row33 col2\" >Chicken Salad</td>\n",
       "                        <td id=\"T_42c16_row33_col3\" class=\"data row33 col3\" >31882</td>\n",
       "            </tr>\n",
       "            <tr>\n",
       "                        <th id=\"T_42c16_level0_row34\" class=\"row_heading level0 row34\" >34</th>\n",
       "                        <td id=\"T_42c16_row34_col0\" class=\"data row34 col0\" >4</td>\n",
       "                        <td id=\"T_42c16_row34_col1\" class=\"data row34 col1\" >Thursday </td>\n",
       "                        <td id=\"T_42c16_row34_col2\" class=\"data row34 col2\" >Curry Chicken</td>\n",
       "                        <td id=\"T_42c16_row34_col3\" class=\"data row34 col3\" >191924</td>\n",
       "            </tr>\n",
       "            <tr>\n",
       "                        <th id=\"T_42c16_level0_row35\" class=\"row_heading level0 row35\" >35</th>\n",
       "                        <td id=\"T_42c16_row35_col0\" class=\"data row35 col0\" >4</td>\n",
       "                        <td id=\"T_42c16_row35_col1\" class=\"data row35 col1\" >Thursday </td>\n",
       "                        <td id=\"T_42c16_row35_col2\" class=\"data row35 col2\" >Eggplant Lasagna</td>\n",
       "                        <td id=\"T_42c16_row35_col3\" class=\"data row35 col3\" >223552</td>\n",
       "            </tr>\n",
       "            <tr>\n",
       "                        <th id=\"T_42c16_level0_row36\" class=\"row_heading level0 row36\" >36</th>\n",
       "                        <td id=\"T_42c16_row36_col0\" class=\"data row36 col0\" >4</td>\n",
       "                        <td id=\"T_42c16_row36_col1\" class=\"data row36 col1\" >Thursday </td>\n",
       "                        <td id=\"T_42c16_row36_col2\" class=\"data row36 col2\" >Pistachio Salmon</td>\n",
       "                        <td id=\"T_42c16_row36_col3\" class=\"data row36 col3\" >256310</td>\n",
       "            </tr>\n",
       "            <tr>\n",
       "                        <th id=\"T_42c16_level0_row37\" class=\"row_heading level0 row37\" >37</th>\n",
       "                        <td id=\"T_42c16_row37_col0\" class=\"data row37 col0\" >4</td>\n",
       "                        <td id=\"T_42c16_row37_col1\" class=\"data row37 col1\" >Thursday </td>\n",
       "                        <td id=\"T_42c16_row37_col2\" class=\"data row37 col2\" >Spinach Orzo</td>\n",
       "                        <td id=\"T_42c16_row37_col3\" class=\"data row37 col3\" >64369</td>\n",
       "            </tr>\n",
       "            <tr>\n",
       "                        <th id=\"T_42c16_level0_row38\" class=\"row_heading level0 row38\" >38</th>\n",
       "                        <td id=\"T_42c16_row38_col0\" class=\"data row38 col0\" >4</td>\n",
       "                        <td id=\"T_42c16_row38_col1\" class=\"data row38 col1\" >Thursday </td>\n",
       "                        <td id=\"T_42c16_row38_col2\" class=\"data row38 col2\" >Teriyaki Chicken</td>\n",
       "                        <td id=\"T_42c16_row38_col3\" class=\"data row38 col3\" >160195</td>\n",
       "            </tr>\n",
       "            <tr>\n",
       "                        <th id=\"T_42c16_level0_row39\" class=\"row_heading level0 row39\" >39</th>\n",
       "                        <td id=\"T_42c16_row39_col0\" class=\"data row39 col0\" >4</td>\n",
       "                        <td id=\"T_42c16_row39_col1\" class=\"data row39 col1\" >Thursday </td>\n",
       "                        <td id=\"T_42c16_row39_col2\" class=\"data row39 col2\" >Tilapia Piccata</td>\n",
       "                        <td id=\"T_42c16_row39_col3\" class=\"data row39 col3\" >96081</td>\n",
       "            </tr>\n",
       "            <tr>\n",
       "                        <th id=\"T_42c16_level0_row40\" class=\"row_heading level0 row40\" >40</th>\n",
       "                        <td id=\"T_42c16_row40_col0\" class=\"data row40 col0\" >5</td>\n",
       "                        <td id=\"T_42c16_row40_col1\" class=\"data row40 col1\" >Friday   </td>\n",
       "                        <td id=\"T_42c16_row40_col2\" class=\"data row40 col2\" >Brocolli Stir Fry</td>\n",
       "                        <td id=\"T_42c16_row40_col3\" class=\"data row40 col3\" >119356</td>\n",
       "            </tr>\n",
       "            <tr>\n",
       "                        <th id=\"T_42c16_level0_row41\" class=\"row_heading level0 row41\" >41</th>\n",
       "                        <td id=\"T_42c16_row41_col0\" class=\"data row41 col0\" >5</td>\n",
       "                        <td id=\"T_42c16_row41_col1\" class=\"data row41 col1\" >Friday   </td>\n",
       "                        <td id=\"T_42c16_row41_col2\" class=\"data row41 col2\" >Chicken Salad</td>\n",
       "                        <td id=\"T_42c16_row41_col3\" class=\"data row41 col3\" >29439</td>\n",
       "            </tr>\n",
       "            <tr>\n",
       "                        <th id=\"T_42c16_level0_row42\" class=\"row_heading level0 row42\" >42</th>\n",
       "                        <td id=\"T_42c16_row42_col0\" class=\"data row42 col0\" >5</td>\n",
       "                        <td id=\"T_42c16_row42_col1\" class=\"data row42 col1\" >Friday   </td>\n",
       "                        <td id=\"T_42c16_row42_col2\" class=\"data row42 col2\" >Curry Chicken</td>\n",
       "                        <td id=\"T_42c16_row42_col3\" class=\"data row42 col3\" >178281</td>\n",
       "            </tr>\n",
       "            <tr>\n",
       "                        <th id=\"T_42c16_level0_row43\" class=\"row_heading level0 row43\" >43</th>\n",
       "                        <td id=\"T_42c16_row43_col0\" class=\"data row43 col0\" >5</td>\n",
       "                        <td id=\"T_42c16_row43_col1\" class=\"data row43 col1\" >Friday   </td>\n",
       "                        <td id=\"T_42c16_row43_col2\" class=\"data row43 col2\" >Eggplant Lasagna</td>\n",
       "                        <td id=\"T_42c16_row43_col3\" class=\"data row43 col3\" >208591</td>\n",
       "            </tr>\n",
       "            <tr>\n",
       "                        <th id=\"T_42c16_level0_row44\" class=\"row_heading level0 row44\" >44</th>\n",
       "                        <td id=\"T_42c16_row44_col0\" class=\"data row44 col0\" >5</td>\n",
       "                        <td id=\"T_42c16_row44_col1\" class=\"data row44 col1\" >Friday   </td>\n",
       "                        <td id=\"T_42c16_row44_col2\" class=\"data row44 col2\" >Pistachio Salmon</td>\n",
       "                        <td id=\"T_42c16_row44_col3\" class=\"data row44 col3\" >238730</td>\n",
       "            </tr>\n",
       "            <tr>\n",
       "                        <th id=\"T_42c16_level0_row45\" class=\"row_heading level0 row45\" >45</th>\n",
       "                        <td id=\"T_42c16_row45_col0\" class=\"data row45 col0\" >5</td>\n",
       "                        <td id=\"T_42c16_row45_col1\" class=\"data row45 col1\" >Friday   </td>\n",
       "                        <td id=\"T_42c16_row45_col2\" class=\"data row45 col2\" >Spinach Orzo</td>\n",
       "                        <td id=\"T_42c16_row45_col3\" class=\"data row45 col3\" >59329</td>\n",
       "            </tr>\n",
       "            <tr>\n",
       "                        <th id=\"T_42c16_level0_row46\" class=\"row_heading level0 row46\" >46</th>\n",
       "                        <td id=\"T_42c16_row46_col0\" class=\"data row46 col0\" >5</td>\n",
       "                        <td id=\"T_42c16_row46_col1\" class=\"data row46 col1\" >Friday   </td>\n",
       "                        <td id=\"T_42c16_row46_col2\" class=\"data row46 col2\" >Teriyaki Chicken</td>\n",
       "                        <td id=\"T_42c16_row46_col3\" class=\"data row46 col3\" >149701</td>\n",
       "            </tr>\n",
       "            <tr>\n",
       "                        <th id=\"T_42c16_level0_row47\" class=\"row_heading level0 row47\" >47</th>\n",
       "                        <td id=\"T_42c16_row47_col0\" class=\"data row47 col0\" >5</td>\n",
       "                        <td id=\"T_42c16_row47_col1\" class=\"data row47 col1\" >Friday   </td>\n",
       "                        <td id=\"T_42c16_row47_col2\" class=\"data row47 col2\" >Tilapia Piccata</td>\n",
       "                        <td id=\"T_42c16_row47_col3\" class=\"data row47 col3\" >89792</td>\n",
       "            </tr>\n",
       "            <tr>\n",
       "                        <th id=\"T_42c16_level0_row48\" class=\"row_heading level0 row48\" >48</th>\n",
       "                        <td id=\"T_42c16_row48_col0\" class=\"data row48 col0\" >6</td>\n",
       "                        <td id=\"T_42c16_row48_col1\" class=\"data row48 col1\" >Saturday </td>\n",
       "                        <td id=\"T_42c16_row48_col2\" class=\"data row48 col2\" >Brocolli Stir Fry</td>\n",
       "                        <td id=\"T_42c16_row48_col3\" class=\"data row48 col3\" >179693</td>\n",
       "            </tr>\n",
       "            <tr>\n",
       "                        <th id=\"T_42c16_level0_row49\" class=\"row_heading level0 row49\" >49</th>\n",
       "                        <td id=\"T_42c16_row49_col0\" class=\"data row49 col0\" >6</td>\n",
       "                        <td id=\"T_42c16_row49_col1\" class=\"data row49 col1\" >Saturday </td>\n",
       "                        <td id=\"T_42c16_row49_col2\" class=\"data row49 col2\" >Chicken Salad</td>\n",
       "                        <td id=\"T_42c16_row49_col3\" class=\"data row49 col3\" >45153</td>\n",
       "            </tr>\n",
       "            <tr>\n",
       "                        <th id=\"T_42c16_level0_row50\" class=\"row_heading level0 row50\" >50</th>\n",
       "                        <td id=\"T_42c16_row50_col0\" class=\"data row50 col0\" >6</td>\n",
       "                        <td id=\"T_42c16_row50_col1\" class=\"data row50 col1\" >Saturday </td>\n",
       "                        <td id=\"T_42c16_row50_col2\" class=\"data row50 col2\" >Curry Chicken</td>\n",
       "                        <td id=\"T_42c16_row50_col3\" class=\"data row50 col3\" >269260</td>\n",
       "            </tr>\n",
       "            <tr>\n",
       "                        <th id=\"T_42c16_level0_row51\" class=\"row_heading level0 row51\" >51</th>\n",
       "                        <td id=\"T_42c16_row51_col0\" class=\"data row51 col0\" >6</td>\n",
       "                        <td id=\"T_42c16_row51_col1\" class=\"data row51 col1\" >Saturday </td>\n",
       "                        <td id=\"T_42c16_row51_col2\" class=\"data row51 col2\" >Eggplant Lasagna</td>\n",
       "                        <td id=\"T_42c16_row51_col3\" class=\"data row51 col3\" >314305</td>\n",
       "            </tr>\n",
       "            <tr>\n",
       "                        <th id=\"T_42c16_level0_row52\" class=\"row_heading level0 row52\" >52</th>\n",
       "                        <td id=\"T_42c16_row52_col0\" class=\"data row52 col0\" >6</td>\n",
       "                        <td id=\"T_42c16_row52_col1\" class=\"data row52 col1\" >Saturday </td>\n",
       "                        <td id=\"T_42c16_row52_col2\" class=\"data row52 col2\" >Pistachio Salmon</td>\n",
       "                        <td id=\"T_42c16_row52_col3\" class=\"data row52 col3\" >359737</td>\n",
       "            </tr>\n",
       "            <tr>\n",
       "                        <th id=\"T_42c16_level0_row53\" class=\"row_heading level0 row53\" >53</th>\n",
       "                        <td id=\"T_42c16_row53_col0\" class=\"data row53 col0\" >6</td>\n",
       "                        <td id=\"T_42c16_row53_col1\" class=\"data row53 col1\" >Saturday </td>\n",
       "                        <td id=\"T_42c16_row53_col2\" class=\"data row53 col2\" >Spinach Orzo</td>\n",
       "                        <td id=\"T_42c16_row53_col3\" class=\"data row53 col3\" >89272</td>\n",
       "            </tr>\n",
       "            <tr>\n",
       "                        <th id=\"T_42c16_level0_row54\" class=\"row_heading level0 row54\" >54</th>\n",
       "                        <td id=\"T_42c16_row54_col0\" class=\"data row54 col0\" >6</td>\n",
       "                        <td id=\"T_42c16_row54_col1\" class=\"data row54 col1\" >Saturday </td>\n",
       "                        <td id=\"T_42c16_row54_col2\" class=\"data row54 col2\" >Teriyaki Chicken</td>\n",
       "                        <td id=\"T_42c16_row54_col3\" class=\"data row54 col3\" >225708</td>\n",
       "            </tr>\n",
       "            <tr>\n",
       "                        <th id=\"T_42c16_level0_row55\" class=\"row_heading level0 row55\" >55</th>\n",
       "                        <td id=\"T_42c16_row55_col0\" class=\"data row55 col0\" >6</td>\n",
       "                        <td id=\"T_42c16_row55_col1\" class=\"data row55 col1\" >Saturday </td>\n",
       "                        <td id=\"T_42c16_row55_col2\" class=\"data row55 col2\" >Tilapia Piccata</td>\n",
       "                        <td id=\"T_42c16_row55_col3\" class=\"data row55 col3\" >135327</td>\n",
       "            </tr>\n",
       "    </tbody></table>"
      ],
      "text/plain": [
       "<pandas.io.formats.style.Styler at 0x7fbf1c040e50>"
      ]
     },
     "execution_count": 42,
     "metadata": {},
     "output_type": "execute_result"
    }
   ],
   "source": [
    "def meals_by_dow_meal():\n",
    "    # Meals purchased by day of week and meal\n",
    "    rollback_before_flag = True\n",
    "    rollback_after_flag = True\n",
    "\n",
    "    query = \"\"\"\n",
    "\n",
    "    SELECT EXTRACT(dow FROM sa.sale_date) as dow, \n",
    "           TO_CHAR(sa.sale_date, 'Day') as day_of_week, \n",
    "           prod.description as meal_name, \n",
    "           SUM(li.quantity) as quantity\n",
    "    FROM line_items as li\n",
    "        JOIN sales as sa\n",
    "        ON li.sale_id = sa.sale_id\n",
    "        AND li.store_id = sa.store_id\n",
    "        JOIN products as prod\n",
    "        ON li.product_id = prod.product_id\n",
    "    GROUP BY dow, day_of_week, meal_name\n",
    "    ORDER BY dow, day_of_week, meal_name\n",
    "\n",
    "    \"\"\"\n",
    "    return my_select_query_pandas(query, rollback_before_flag, rollback_after_flag)\n",
    "\n",
    "meals_by_dow_meal().style.set_caption('Meals purchased by day of week and meal')"
   ]
  },
  {
   "cell_type": "markdown",
   "id": "ead8f831",
   "metadata": {},
   "source": [
    "# 1.3.7 Average number of meals per sale for all of AGM\n"
   ]
  },
  {
   "cell_type": "code",
   "execution_count": 43,
   "id": "cf70e82d",
   "metadata": {},
   "outputs": [
    {
     "data": {
      "text/html": [
       "<style  type=\"text/css\" >\n",
       "</style><table id=\"T_6b049_\" ><caption>Average number of meals per sale for all of AGM</caption><thead>    <tr>        <th class=\"blank level0\" ></th>        <th class=\"col_heading level0 col0\" >avg_quantity</th>    </tr></thead><tbody>\n",
       "                <tr>\n",
       "                        <th id=\"T_6b049_level0_row0\" class=\"row_heading level0 row0\" >0</th>\n",
       "                        <td id=\"T_6b049_row0_col0\" class=\"data row0 col0\" >21.077897</td>\n",
       "            </tr>\n",
       "    </tbody></table>"
      ],
      "text/plain": [
       "<pandas.io.formats.style.Styler at 0x7fbecc599b80>"
      ]
     },
     "execution_count": 43,
     "metadata": {},
     "output_type": "execute_result"
    }
   ],
   "source": [
    "def avg_meals_per_sale_agm():\n",
    "    # Average number of meals per sale for all of AGM\n",
    "    rollback_before_flag = True\n",
    "    rollback_after_flag = True\n",
    "\n",
    "    query = \"\"\"\n",
    "    SELECT SUM(quantity)/COUNT(DISTINCT sale_id) as avg_quantity\n",
    "    FROM line_items\n",
    "    \n",
    "    \"\"\"\n",
    "    return my_select_query_pandas(query, rollback_before_flag, rollback_after_flag)\n",
    "avg_meals_per_sale_agm().style.set_caption('Average number of meals per sale for all of AGM')"
   ]
  },
  {
   "cell_type": "markdown",
   "id": "32356f8d",
   "metadata": {},
   "source": [
    "# 1.3.8 Average number of meals per sale by store\n",
    "\n",
    "Sort by store name in alphabetical order\n"
   ]
  },
  {
   "cell_type": "code",
   "execution_count": 44,
   "id": "73d0c162",
   "metadata": {},
   "outputs": [
    {
     "data": {
      "text/html": [
       "<style  type=\"text/css\" >\n",
       "</style><table id=\"T_0b5ec_\" ><caption>Average number of meals per sale by store</caption><thead>    <tr>        <th class=\"blank level0\" ></th>        <th class=\"col_heading level0 col0\" >store</th>        <th class=\"col_heading level0 col1\" >avg_quantity</th>    </tr></thead><tbody>\n",
       "                <tr>\n",
       "                        <th id=\"T_0b5ec_level0_row0\" class=\"row_heading level0 row0\" >0</th>\n",
       "                        <td id=\"T_0b5ec_row0_col0\" class=\"data row0 col0\" >Berkeley</td>\n",
       "                        <td id=\"T_0b5ec_row0_col1\" class=\"data row0 col1\" >5.345514</td>\n",
       "            </tr>\n",
       "            <tr>\n",
       "                        <th id=\"T_0b5ec_level0_row1\" class=\"row_heading level0 row1\" >1</th>\n",
       "                        <td id=\"T_0b5ec_row1_col0\" class=\"data row1 col0\" >Dallas</td>\n",
       "                        <td id=\"T_0b5ec_row1_col1\" class=\"data row1 col1\" >5.353353</td>\n",
       "            </tr>\n",
       "            <tr>\n",
       "                        <th id=\"T_0b5ec_level0_row2\" class=\"row_heading level0 row2\" >2</th>\n",
       "                        <td id=\"T_0b5ec_row2_col0\" class=\"data row2 col0\" >Miami</td>\n",
       "                        <td id=\"T_0b5ec_row2_col1\" class=\"data row2 col1\" >5.359892</td>\n",
       "            </tr>\n",
       "            <tr>\n",
       "                        <th id=\"T_0b5ec_level0_row3\" class=\"row_heading level0 row3\" >3</th>\n",
       "                        <td id=\"T_0b5ec_row3_col0\" class=\"data row3 col0\" >Nashville</td>\n",
       "                        <td id=\"T_0b5ec_row3_col1\" class=\"data row3 col1\" >5.332978</td>\n",
       "            </tr>\n",
       "            <tr>\n",
       "                        <th id=\"T_0b5ec_level0_row4\" class=\"row_heading level0 row4\" >4</th>\n",
       "                        <td id=\"T_0b5ec_row4_col0\" class=\"data row4 col0\" >Seattle</td>\n",
       "                        <td id=\"T_0b5ec_row4_col1\" class=\"data row4 col1\" >5.361470</td>\n",
       "            </tr>\n",
       "    </tbody></table>"
      ],
      "text/plain": [
       "<pandas.io.formats.style.Styler at 0x7fbeca05fa30>"
      ]
     },
     "execution_count": 44,
     "metadata": {},
     "output_type": "execute_result"
    }
   ],
   "source": [
    "def avg_meals_per_sale_by_store():\n",
    "    # Average number of meals per sale by store\n",
    "    rollback_before_flag = True\n",
    "    rollback_after_flag = True\n",
    "\n",
    "    query = \"\"\"\n",
    "\n",
    "    SELECT s.city as store, SUM(l.quantity)/COUNT(DISTINCT l.sale_id) as avg_quantity\n",
    "    FROM line_items as l\n",
    "        JOIN stores as s \n",
    "        ON l.store_id = s.store_id\n",
    "    GROUP BY s.city\n",
    "    ORDER BY s.city\n",
    "    \"\"\"\n",
    "    return my_select_query_pandas(query, rollback_before_flag, rollback_after_flag)\n",
    "avg_meals_per_sale_by_store().style.set_caption('Average number of meals per sale by store')"
   ]
  },
  {
   "cell_type": "markdown",
   "id": "758ecbd2",
   "metadata": {},
   "source": [
    "# 1.3.9 The Executives have also asked you to provide your best example of a data visualization for one of the above queries\n",
    "\n",
    "You may choose any one of the above queries. \n",
    "\n",
    "It's best to select the one that you think will provide the most interesting data visualization.  \n",
    "\n",
    "You are allowed to add a pivot as demonstrated in the labs if it is needed for your data visualization. "
   ]
  },
  {
   "cell_type": "code",
   "execution_count": 45,
   "id": "264f07e2",
   "metadata": {},
   "outputs": [
    {
     "data": {
      "application/vnd.plotly.v1+json": {
       "config": {
        "plotlyServerURL": "https://plot.ly"
       },
       "data": [
        {
         "alignmentgroup": "True",
         "hovertemplate": "quantity=%{x}<br>meal=%{y}<extra></extra>",
         "legendgroup": "",
         "marker": {
          "color": "#636efa",
          "pattern": {
           "shape": ""
          }
         },
         "name": "",
         "offsetgroup": "",
         "orientation": "h",
         "showlegend": false,
         "textposition": "auto",
         "texttemplate": "%{x:.2s}",
         "type": "bar",
         "x": [
          228561,
          456769,
          687237,
          913984,
          1145013,
          1368884,
          1599058,
          1828778
         ],
         "xaxis": "x",
         "y": [
          "Chicken Salad",
          "Spinach Orzo",
          "Tilapia Piccata",
          "Brocolli Stir Fry",
          "Teriyaki Chicken",
          "Curry Chicken",
          "Eggplant Lasagna",
          "Pistachio Salmon"
         ],
         "yaxis": "y"
        }
       ],
       "layout": {
        "barmode": "relative",
        "legend": {
         "tracegroupgap": 0
        },
        "template": {
         "data": {
          "bar": [
           {
            "error_x": {
             "color": "#2a3f5f"
            },
            "error_y": {
             "color": "#2a3f5f"
            },
            "marker": {
             "line": {
              "color": "white",
              "width": 0.5
             },
             "pattern": {
              "fillmode": "overlay",
              "size": 10,
              "solidity": 0.2
             }
            },
            "type": "bar"
           }
          ],
          "barpolar": [
           {
            "marker": {
             "line": {
              "color": "white",
              "width": 0.5
             },
             "pattern": {
              "fillmode": "overlay",
              "size": 10,
              "solidity": 0.2
             }
            },
            "type": "barpolar"
           }
          ],
          "carpet": [
           {
            "aaxis": {
             "endlinecolor": "#2a3f5f",
             "gridcolor": "#C8D4E3",
             "linecolor": "#C8D4E3",
             "minorgridcolor": "#C8D4E3",
             "startlinecolor": "#2a3f5f"
            },
            "baxis": {
             "endlinecolor": "#2a3f5f",
             "gridcolor": "#C8D4E3",
             "linecolor": "#C8D4E3",
             "minorgridcolor": "#C8D4E3",
             "startlinecolor": "#2a3f5f"
            },
            "type": "carpet"
           }
          ],
          "choropleth": [
           {
            "colorbar": {
             "outlinewidth": 0,
             "ticks": ""
            },
            "type": "choropleth"
           }
          ],
          "contour": [
           {
            "colorbar": {
             "outlinewidth": 0,
             "ticks": ""
            },
            "colorscale": [
             [
              0,
              "#0d0887"
             ],
             [
              0.1111111111111111,
              "#46039f"
             ],
             [
              0.2222222222222222,
              "#7201a8"
             ],
             [
              0.3333333333333333,
              "#9c179e"
             ],
             [
              0.4444444444444444,
              "#bd3786"
             ],
             [
              0.5555555555555556,
              "#d8576b"
             ],
             [
              0.6666666666666666,
              "#ed7953"
             ],
             [
              0.7777777777777778,
              "#fb9f3a"
             ],
             [
              0.8888888888888888,
              "#fdca26"
             ],
             [
              1,
              "#f0f921"
             ]
            ],
            "type": "contour"
           }
          ],
          "contourcarpet": [
           {
            "colorbar": {
             "outlinewidth": 0,
             "ticks": ""
            },
            "type": "contourcarpet"
           }
          ],
          "heatmap": [
           {
            "colorbar": {
             "outlinewidth": 0,
             "ticks": ""
            },
            "colorscale": [
             [
              0,
              "#0d0887"
             ],
             [
              0.1111111111111111,
              "#46039f"
             ],
             [
              0.2222222222222222,
              "#7201a8"
             ],
             [
              0.3333333333333333,
              "#9c179e"
             ],
             [
              0.4444444444444444,
              "#bd3786"
             ],
             [
              0.5555555555555556,
              "#d8576b"
             ],
             [
              0.6666666666666666,
              "#ed7953"
             ],
             [
              0.7777777777777778,
              "#fb9f3a"
             ],
             [
              0.8888888888888888,
              "#fdca26"
             ],
             [
              1,
              "#f0f921"
             ]
            ],
            "type": "heatmap"
           }
          ],
          "heatmapgl": [
           {
            "colorbar": {
             "outlinewidth": 0,
             "ticks": ""
            },
            "colorscale": [
             [
              0,
              "#0d0887"
             ],
             [
              0.1111111111111111,
              "#46039f"
             ],
             [
              0.2222222222222222,
              "#7201a8"
             ],
             [
              0.3333333333333333,
              "#9c179e"
             ],
             [
              0.4444444444444444,
              "#bd3786"
             ],
             [
              0.5555555555555556,
              "#d8576b"
             ],
             [
              0.6666666666666666,
              "#ed7953"
             ],
             [
              0.7777777777777778,
              "#fb9f3a"
             ],
             [
              0.8888888888888888,
              "#fdca26"
             ],
             [
              1,
              "#f0f921"
             ]
            ],
            "type": "heatmapgl"
           }
          ],
          "histogram": [
           {
            "marker": {
             "pattern": {
              "fillmode": "overlay",
              "size": 10,
              "solidity": 0.2
             }
            },
            "type": "histogram"
           }
          ],
          "histogram2d": [
           {
            "colorbar": {
             "outlinewidth": 0,
             "ticks": ""
            },
            "colorscale": [
             [
              0,
              "#0d0887"
             ],
             [
              0.1111111111111111,
              "#46039f"
             ],
             [
              0.2222222222222222,
              "#7201a8"
             ],
             [
              0.3333333333333333,
              "#9c179e"
             ],
             [
              0.4444444444444444,
              "#bd3786"
             ],
             [
              0.5555555555555556,
              "#d8576b"
             ],
             [
              0.6666666666666666,
              "#ed7953"
             ],
             [
              0.7777777777777778,
              "#fb9f3a"
             ],
             [
              0.8888888888888888,
              "#fdca26"
             ],
             [
              1,
              "#f0f921"
             ]
            ],
            "type": "histogram2d"
           }
          ],
          "histogram2dcontour": [
           {
            "colorbar": {
             "outlinewidth": 0,
             "ticks": ""
            },
            "colorscale": [
             [
              0,
              "#0d0887"
             ],
             [
              0.1111111111111111,
              "#46039f"
             ],
             [
              0.2222222222222222,
              "#7201a8"
             ],
             [
              0.3333333333333333,
              "#9c179e"
             ],
             [
              0.4444444444444444,
              "#bd3786"
             ],
             [
              0.5555555555555556,
              "#d8576b"
             ],
             [
              0.6666666666666666,
              "#ed7953"
             ],
             [
              0.7777777777777778,
              "#fb9f3a"
             ],
             [
              0.8888888888888888,
              "#fdca26"
             ],
             [
              1,
              "#f0f921"
             ]
            ],
            "type": "histogram2dcontour"
           }
          ],
          "mesh3d": [
           {
            "colorbar": {
             "outlinewidth": 0,
             "ticks": ""
            },
            "type": "mesh3d"
           }
          ],
          "parcoords": [
           {
            "line": {
             "colorbar": {
              "outlinewidth": 0,
              "ticks": ""
             }
            },
            "type": "parcoords"
           }
          ],
          "pie": [
           {
            "automargin": true,
            "type": "pie"
           }
          ],
          "scatter": [
           {
            "marker": {
             "colorbar": {
              "outlinewidth": 0,
              "ticks": ""
             }
            },
            "type": "scatter"
           }
          ],
          "scatter3d": [
           {
            "line": {
             "colorbar": {
              "outlinewidth": 0,
              "ticks": ""
             }
            },
            "marker": {
             "colorbar": {
              "outlinewidth": 0,
              "ticks": ""
             }
            },
            "type": "scatter3d"
           }
          ],
          "scattercarpet": [
           {
            "marker": {
             "colorbar": {
              "outlinewidth": 0,
              "ticks": ""
             }
            },
            "type": "scattercarpet"
           }
          ],
          "scattergeo": [
           {
            "marker": {
             "colorbar": {
              "outlinewidth": 0,
              "ticks": ""
             }
            },
            "type": "scattergeo"
           }
          ],
          "scattergl": [
           {
            "marker": {
             "colorbar": {
              "outlinewidth": 0,
              "ticks": ""
             }
            },
            "type": "scattergl"
           }
          ],
          "scattermapbox": [
           {
            "marker": {
             "colorbar": {
              "outlinewidth": 0,
              "ticks": ""
             }
            },
            "type": "scattermapbox"
           }
          ],
          "scatterpolar": [
           {
            "marker": {
             "colorbar": {
              "outlinewidth": 0,
              "ticks": ""
             }
            },
            "type": "scatterpolar"
           }
          ],
          "scatterpolargl": [
           {
            "marker": {
             "colorbar": {
              "outlinewidth": 0,
              "ticks": ""
             }
            },
            "type": "scatterpolargl"
           }
          ],
          "scatterternary": [
           {
            "marker": {
             "colorbar": {
              "outlinewidth": 0,
              "ticks": ""
             }
            },
            "type": "scatterternary"
           }
          ],
          "surface": [
           {
            "colorbar": {
             "outlinewidth": 0,
             "ticks": ""
            },
            "colorscale": [
             [
              0,
              "#0d0887"
             ],
             [
              0.1111111111111111,
              "#46039f"
             ],
             [
              0.2222222222222222,
              "#7201a8"
             ],
             [
              0.3333333333333333,
              "#9c179e"
             ],
             [
              0.4444444444444444,
              "#bd3786"
             ],
             [
              0.5555555555555556,
              "#d8576b"
             ],
             [
              0.6666666666666666,
              "#ed7953"
             ],
             [
              0.7777777777777778,
              "#fb9f3a"
             ],
             [
              0.8888888888888888,
              "#fdca26"
             ],
             [
              1,
              "#f0f921"
             ]
            ],
            "type": "surface"
           }
          ],
          "table": [
           {
            "cells": {
             "fill": {
              "color": "#EBF0F8"
             },
             "line": {
              "color": "white"
             }
            },
            "header": {
             "fill": {
              "color": "#C8D4E3"
             },
             "line": {
              "color": "white"
             }
            },
            "type": "table"
           }
          ]
         },
         "layout": {
          "annotationdefaults": {
           "arrowcolor": "#2a3f5f",
           "arrowhead": 0,
           "arrowwidth": 1
          },
          "autotypenumbers": "strict",
          "coloraxis": {
           "colorbar": {
            "outlinewidth": 0,
            "ticks": ""
           }
          },
          "colorscale": {
           "diverging": [
            [
             0,
             "#8e0152"
            ],
            [
             0.1,
             "#c51b7d"
            ],
            [
             0.2,
             "#de77ae"
            ],
            [
             0.3,
             "#f1b6da"
            ],
            [
             0.4,
             "#fde0ef"
            ],
            [
             0.5,
             "#f7f7f7"
            ],
            [
             0.6,
             "#e6f5d0"
            ],
            [
             0.7,
             "#b8e186"
            ],
            [
             0.8,
             "#7fbc41"
            ],
            [
             0.9,
             "#4d9221"
            ],
            [
             1,
             "#276419"
            ]
           ],
           "sequential": [
            [
             0,
             "#0d0887"
            ],
            [
             0.1111111111111111,
             "#46039f"
            ],
            [
             0.2222222222222222,
             "#7201a8"
            ],
            [
             0.3333333333333333,
             "#9c179e"
            ],
            [
             0.4444444444444444,
             "#bd3786"
            ],
            [
             0.5555555555555556,
             "#d8576b"
            ],
            [
             0.6666666666666666,
             "#ed7953"
            ],
            [
             0.7777777777777778,
             "#fb9f3a"
            ],
            [
             0.8888888888888888,
             "#fdca26"
            ],
            [
             1,
             "#f0f921"
            ]
           ],
           "sequentialminus": [
            [
             0,
             "#0d0887"
            ],
            [
             0.1111111111111111,
             "#46039f"
            ],
            [
             0.2222222222222222,
             "#7201a8"
            ],
            [
             0.3333333333333333,
             "#9c179e"
            ],
            [
             0.4444444444444444,
             "#bd3786"
            ],
            [
             0.5555555555555556,
             "#d8576b"
            ],
            [
             0.6666666666666666,
             "#ed7953"
            ],
            [
             0.7777777777777778,
             "#fb9f3a"
            ],
            [
             0.8888888888888888,
             "#fdca26"
            ],
            [
             1,
             "#f0f921"
            ]
           ]
          },
          "colorway": [
           "#636efa",
           "#EF553B",
           "#00cc96",
           "#ab63fa",
           "#FFA15A",
           "#19d3f3",
           "#FF6692",
           "#B6E880",
           "#FF97FF",
           "#FECB52"
          ],
          "font": {
           "color": "#2a3f5f"
          },
          "geo": {
           "bgcolor": "white",
           "lakecolor": "white",
           "landcolor": "white",
           "showlakes": true,
           "showland": true,
           "subunitcolor": "#C8D4E3"
          },
          "hoverlabel": {
           "align": "left"
          },
          "hovermode": "closest",
          "mapbox": {
           "style": "light"
          },
          "paper_bgcolor": "white",
          "plot_bgcolor": "white",
          "polar": {
           "angularaxis": {
            "gridcolor": "#EBF0F8",
            "linecolor": "#EBF0F8",
            "ticks": ""
           },
           "bgcolor": "white",
           "radialaxis": {
            "gridcolor": "#EBF0F8",
            "linecolor": "#EBF0F8",
            "ticks": ""
           }
          },
          "scene": {
           "xaxis": {
            "backgroundcolor": "white",
            "gridcolor": "#DFE8F3",
            "gridwidth": 2,
            "linecolor": "#EBF0F8",
            "showbackground": true,
            "ticks": "",
            "zerolinecolor": "#EBF0F8"
           },
           "yaxis": {
            "backgroundcolor": "white",
            "gridcolor": "#DFE8F3",
            "gridwidth": 2,
            "linecolor": "#EBF0F8",
            "showbackground": true,
            "ticks": "",
            "zerolinecolor": "#EBF0F8"
           },
           "zaxis": {
            "backgroundcolor": "white",
            "gridcolor": "#DFE8F3",
            "gridwidth": 2,
            "linecolor": "#EBF0F8",
            "showbackground": true,
            "ticks": "",
            "zerolinecolor": "#EBF0F8"
           }
          },
          "shapedefaults": {
           "line": {
            "color": "#2a3f5f"
           }
          },
          "ternary": {
           "aaxis": {
            "gridcolor": "#DFE8F3",
            "linecolor": "#A2B1C6",
            "ticks": ""
           },
           "baxis": {
            "gridcolor": "#DFE8F3",
            "linecolor": "#A2B1C6",
            "ticks": ""
           },
           "bgcolor": "white",
           "caxis": {
            "gridcolor": "#DFE8F3",
            "linecolor": "#A2B1C6",
            "ticks": ""
           }
          },
          "title": {
           "x": 0.05
          },
          "xaxis": {
           "automargin": true,
           "gridcolor": "#EBF0F8",
           "linecolor": "#EBF0F8",
           "ticks": "",
           "title": {
            "standoff": 15
           },
           "zerolinecolor": "#EBF0F8",
           "zerolinewidth": 2
          },
          "yaxis": {
           "automargin": true,
           "gridcolor": "#EBF0F8",
           "linecolor": "#EBF0F8",
           "ticks": "",
           "title": {
            "standoff": 15
           },
           "zerolinecolor": "#EBF0F8",
           "zerolinewidth": 2
          }
         }
        },
        "title": {
         "text": "Quantity of AGM Meals"
        },
        "xaxis": {
         "anchor": "y",
         "domain": [
          0,
          1
         ],
         "title": {
          "text": "quantity"
         }
        },
        "yaxis": {
         "anchor": "x",
         "domain": [
          0,
          1
         ],
         "title": {
          "text": "meal"
         }
        }
       }
      },
      "text/html": [
       "<div>                            <div id=\"a8997e1a-c43d-443d-8092-109918201202\" class=\"plotly-graph-div\" style=\"height:525px; width:100%;\"></div>            <script type=\"text/javascript\">                require([\"plotly\"], function(Plotly) {                    window.PLOTLYENV=window.PLOTLYENV || {};                                    if (document.getElementById(\"a8997e1a-c43d-443d-8092-109918201202\")) {                    Plotly.newPlot(                        \"a8997e1a-c43d-443d-8092-109918201202\",                        [{\"alignmentgroup\":\"True\",\"hovertemplate\":\"quantity=%{x}<br>meal=%{y}<extra></extra>\",\"legendgroup\":\"\",\"marker\":{\"color\":\"#636efa\",\"pattern\":{\"shape\":\"\"}},\"name\":\"\",\"offsetgroup\":\"\",\"orientation\":\"h\",\"showlegend\":false,\"textposition\":\"auto\",\"texttemplate\":\"%{x:.2s}\",\"x\":[228561,456769,687237,913984,1145013,1368884,1599058,1828778],\"xaxis\":\"x\",\"y\":[\"Chicken Salad\",\"Spinach Orzo\",\"Tilapia Piccata\",\"Brocolli Stir Fry\",\"Teriyaki Chicken\",\"Curry Chicken\",\"Eggplant Lasagna\",\"Pistachio Salmon\"],\"yaxis\":\"y\",\"type\":\"bar\"}],                        {\"template\":{\"data\":{\"barpolar\":[{\"marker\":{\"line\":{\"color\":\"white\",\"width\":0.5},\"pattern\":{\"fillmode\":\"overlay\",\"size\":10,\"solidity\":0.2}},\"type\":\"barpolar\"}],\"bar\":[{\"error_x\":{\"color\":\"#2a3f5f\"},\"error_y\":{\"color\":\"#2a3f5f\"},\"marker\":{\"line\":{\"color\":\"white\",\"width\":0.5},\"pattern\":{\"fillmode\":\"overlay\",\"size\":10,\"solidity\":0.2}},\"type\":\"bar\"}],\"carpet\":[{\"aaxis\":{\"endlinecolor\":\"#2a3f5f\",\"gridcolor\":\"#C8D4E3\",\"linecolor\":\"#C8D4E3\",\"minorgridcolor\":\"#C8D4E3\",\"startlinecolor\":\"#2a3f5f\"},\"baxis\":{\"endlinecolor\":\"#2a3f5f\",\"gridcolor\":\"#C8D4E3\",\"linecolor\":\"#C8D4E3\",\"minorgridcolor\":\"#C8D4E3\",\"startlinecolor\":\"#2a3f5f\"},\"type\":\"carpet\"}],\"choropleth\":[{\"colorbar\":{\"outlinewidth\":0,\"ticks\":\"\"},\"type\":\"choropleth\"}],\"contourcarpet\":[{\"colorbar\":{\"outlinewidth\":0,\"ticks\":\"\"},\"type\":\"contourcarpet\"}],\"contour\":[{\"colorbar\":{\"outlinewidth\":0,\"ticks\":\"\"},\"colorscale\":[[0.0,\"#0d0887\"],[0.1111111111111111,\"#46039f\"],[0.2222222222222222,\"#7201a8\"],[0.3333333333333333,\"#9c179e\"],[0.4444444444444444,\"#bd3786\"],[0.5555555555555556,\"#d8576b\"],[0.6666666666666666,\"#ed7953\"],[0.7777777777777778,\"#fb9f3a\"],[0.8888888888888888,\"#fdca26\"],[1.0,\"#f0f921\"]],\"type\":\"contour\"}],\"heatmapgl\":[{\"colorbar\":{\"outlinewidth\":0,\"ticks\":\"\"},\"colorscale\":[[0.0,\"#0d0887\"],[0.1111111111111111,\"#46039f\"],[0.2222222222222222,\"#7201a8\"],[0.3333333333333333,\"#9c179e\"],[0.4444444444444444,\"#bd3786\"],[0.5555555555555556,\"#d8576b\"],[0.6666666666666666,\"#ed7953\"],[0.7777777777777778,\"#fb9f3a\"],[0.8888888888888888,\"#fdca26\"],[1.0,\"#f0f921\"]],\"type\":\"heatmapgl\"}],\"heatmap\":[{\"colorbar\":{\"outlinewidth\":0,\"ticks\":\"\"},\"colorscale\":[[0.0,\"#0d0887\"],[0.1111111111111111,\"#46039f\"],[0.2222222222222222,\"#7201a8\"],[0.3333333333333333,\"#9c179e\"],[0.4444444444444444,\"#bd3786\"],[0.5555555555555556,\"#d8576b\"],[0.6666666666666666,\"#ed7953\"],[0.7777777777777778,\"#fb9f3a\"],[0.8888888888888888,\"#fdca26\"],[1.0,\"#f0f921\"]],\"type\":\"heatmap\"}],\"histogram2dcontour\":[{\"colorbar\":{\"outlinewidth\":0,\"ticks\":\"\"},\"colorscale\":[[0.0,\"#0d0887\"],[0.1111111111111111,\"#46039f\"],[0.2222222222222222,\"#7201a8\"],[0.3333333333333333,\"#9c179e\"],[0.4444444444444444,\"#bd3786\"],[0.5555555555555556,\"#d8576b\"],[0.6666666666666666,\"#ed7953\"],[0.7777777777777778,\"#fb9f3a\"],[0.8888888888888888,\"#fdca26\"],[1.0,\"#f0f921\"]],\"type\":\"histogram2dcontour\"}],\"histogram2d\":[{\"colorbar\":{\"outlinewidth\":0,\"ticks\":\"\"},\"colorscale\":[[0.0,\"#0d0887\"],[0.1111111111111111,\"#46039f\"],[0.2222222222222222,\"#7201a8\"],[0.3333333333333333,\"#9c179e\"],[0.4444444444444444,\"#bd3786\"],[0.5555555555555556,\"#d8576b\"],[0.6666666666666666,\"#ed7953\"],[0.7777777777777778,\"#fb9f3a\"],[0.8888888888888888,\"#fdca26\"],[1.0,\"#f0f921\"]],\"type\":\"histogram2d\"}],\"histogram\":[{\"marker\":{\"pattern\":{\"fillmode\":\"overlay\",\"size\":10,\"solidity\":0.2}},\"type\":\"histogram\"}],\"mesh3d\":[{\"colorbar\":{\"outlinewidth\":0,\"ticks\":\"\"},\"type\":\"mesh3d\"}],\"parcoords\":[{\"line\":{\"colorbar\":{\"outlinewidth\":0,\"ticks\":\"\"}},\"type\":\"parcoords\"}],\"pie\":[{\"automargin\":true,\"type\":\"pie\"}],\"scatter3d\":[{\"line\":{\"colorbar\":{\"outlinewidth\":0,\"ticks\":\"\"}},\"marker\":{\"colorbar\":{\"outlinewidth\":0,\"ticks\":\"\"}},\"type\":\"scatter3d\"}],\"scattercarpet\":[{\"marker\":{\"colorbar\":{\"outlinewidth\":0,\"ticks\":\"\"}},\"type\":\"scattercarpet\"}],\"scattergeo\":[{\"marker\":{\"colorbar\":{\"outlinewidth\":0,\"ticks\":\"\"}},\"type\":\"scattergeo\"}],\"scattergl\":[{\"marker\":{\"colorbar\":{\"outlinewidth\":0,\"ticks\":\"\"}},\"type\":\"scattergl\"}],\"scattermapbox\":[{\"marker\":{\"colorbar\":{\"outlinewidth\":0,\"ticks\":\"\"}},\"type\":\"scattermapbox\"}],\"scatterpolargl\":[{\"marker\":{\"colorbar\":{\"outlinewidth\":0,\"ticks\":\"\"}},\"type\":\"scatterpolargl\"}],\"scatterpolar\":[{\"marker\":{\"colorbar\":{\"outlinewidth\":0,\"ticks\":\"\"}},\"type\":\"scatterpolar\"}],\"scatter\":[{\"marker\":{\"colorbar\":{\"outlinewidth\":0,\"ticks\":\"\"}},\"type\":\"scatter\"}],\"scatterternary\":[{\"marker\":{\"colorbar\":{\"outlinewidth\":0,\"ticks\":\"\"}},\"type\":\"scatterternary\"}],\"surface\":[{\"colorbar\":{\"outlinewidth\":0,\"ticks\":\"\"},\"colorscale\":[[0.0,\"#0d0887\"],[0.1111111111111111,\"#46039f\"],[0.2222222222222222,\"#7201a8\"],[0.3333333333333333,\"#9c179e\"],[0.4444444444444444,\"#bd3786\"],[0.5555555555555556,\"#d8576b\"],[0.6666666666666666,\"#ed7953\"],[0.7777777777777778,\"#fb9f3a\"],[0.8888888888888888,\"#fdca26\"],[1.0,\"#f0f921\"]],\"type\":\"surface\"}],\"table\":[{\"cells\":{\"fill\":{\"color\":\"#EBF0F8\"},\"line\":{\"color\":\"white\"}},\"header\":{\"fill\":{\"color\":\"#C8D4E3\"},\"line\":{\"color\":\"white\"}},\"type\":\"table\"}]},\"layout\":{\"annotationdefaults\":{\"arrowcolor\":\"#2a3f5f\",\"arrowhead\":0,\"arrowwidth\":1},\"autotypenumbers\":\"strict\",\"coloraxis\":{\"colorbar\":{\"outlinewidth\":0,\"ticks\":\"\"}},\"colorscale\":{\"diverging\":[[0,\"#8e0152\"],[0.1,\"#c51b7d\"],[0.2,\"#de77ae\"],[0.3,\"#f1b6da\"],[0.4,\"#fde0ef\"],[0.5,\"#f7f7f7\"],[0.6,\"#e6f5d0\"],[0.7,\"#b8e186\"],[0.8,\"#7fbc41\"],[0.9,\"#4d9221\"],[1,\"#276419\"]],\"sequential\":[[0.0,\"#0d0887\"],[0.1111111111111111,\"#46039f\"],[0.2222222222222222,\"#7201a8\"],[0.3333333333333333,\"#9c179e\"],[0.4444444444444444,\"#bd3786\"],[0.5555555555555556,\"#d8576b\"],[0.6666666666666666,\"#ed7953\"],[0.7777777777777778,\"#fb9f3a\"],[0.8888888888888888,\"#fdca26\"],[1.0,\"#f0f921\"]],\"sequentialminus\":[[0.0,\"#0d0887\"],[0.1111111111111111,\"#46039f\"],[0.2222222222222222,\"#7201a8\"],[0.3333333333333333,\"#9c179e\"],[0.4444444444444444,\"#bd3786\"],[0.5555555555555556,\"#d8576b\"],[0.6666666666666666,\"#ed7953\"],[0.7777777777777778,\"#fb9f3a\"],[0.8888888888888888,\"#fdca26\"],[1.0,\"#f0f921\"]]},\"colorway\":[\"#636efa\",\"#EF553B\",\"#00cc96\",\"#ab63fa\",\"#FFA15A\",\"#19d3f3\",\"#FF6692\",\"#B6E880\",\"#FF97FF\",\"#FECB52\"],\"font\":{\"color\":\"#2a3f5f\"},\"geo\":{\"bgcolor\":\"white\",\"lakecolor\":\"white\",\"landcolor\":\"white\",\"showlakes\":true,\"showland\":true,\"subunitcolor\":\"#C8D4E3\"},\"hoverlabel\":{\"align\":\"left\"},\"hovermode\":\"closest\",\"mapbox\":{\"style\":\"light\"},\"paper_bgcolor\":\"white\",\"plot_bgcolor\":\"white\",\"polar\":{\"angularaxis\":{\"gridcolor\":\"#EBF0F8\",\"linecolor\":\"#EBF0F8\",\"ticks\":\"\"},\"bgcolor\":\"white\",\"radialaxis\":{\"gridcolor\":\"#EBF0F8\",\"linecolor\":\"#EBF0F8\",\"ticks\":\"\"}},\"scene\":{\"xaxis\":{\"backgroundcolor\":\"white\",\"gridcolor\":\"#DFE8F3\",\"gridwidth\":2,\"linecolor\":\"#EBF0F8\",\"showbackground\":true,\"ticks\":\"\",\"zerolinecolor\":\"#EBF0F8\"},\"yaxis\":{\"backgroundcolor\":\"white\",\"gridcolor\":\"#DFE8F3\",\"gridwidth\":2,\"linecolor\":\"#EBF0F8\",\"showbackground\":true,\"ticks\":\"\",\"zerolinecolor\":\"#EBF0F8\"},\"zaxis\":{\"backgroundcolor\":\"white\",\"gridcolor\":\"#DFE8F3\",\"gridwidth\":2,\"linecolor\":\"#EBF0F8\",\"showbackground\":true,\"ticks\":\"\",\"zerolinecolor\":\"#EBF0F8\"}},\"shapedefaults\":{\"line\":{\"color\":\"#2a3f5f\"}},\"ternary\":{\"aaxis\":{\"gridcolor\":\"#DFE8F3\",\"linecolor\":\"#A2B1C6\",\"ticks\":\"\"},\"baxis\":{\"gridcolor\":\"#DFE8F3\",\"linecolor\":\"#A2B1C6\",\"ticks\":\"\"},\"bgcolor\":\"white\",\"caxis\":{\"gridcolor\":\"#DFE8F3\",\"linecolor\":\"#A2B1C6\",\"ticks\":\"\"}},\"title\":{\"x\":0.05},\"xaxis\":{\"automargin\":true,\"gridcolor\":\"#EBF0F8\",\"linecolor\":\"#EBF0F8\",\"ticks\":\"\",\"title\":{\"standoff\":15},\"zerolinecolor\":\"#EBF0F8\",\"zerolinewidth\":2},\"yaxis\":{\"automargin\":true,\"gridcolor\":\"#EBF0F8\",\"linecolor\":\"#EBF0F8\",\"ticks\":\"\",\"title\":{\"standoff\":15},\"zerolinecolor\":\"#EBF0F8\",\"zerolinewidth\":2}}},\"xaxis\":{\"anchor\":\"y\",\"domain\":[0.0,1.0],\"title\":{\"text\":\"quantity\"}},\"yaxis\":{\"anchor\":\"x\",\"domain\":[0.0,1.0],\"title\":{\"text\":\"meal\"}},\"legend\":{\"tracegroupgap\":0},\"title\":{\"text\":\"Quantity of AGM Meals\"},\"barmode\":\"relative\"},                        {\"responsive\": true}                    ).then(function(){\n",
       "                            \n",
       "var gd = document.getElementById('a8997e1a-c43d-443d-8092-109918201202');\n",
       "var x = new MutationObserver(function (mutations, observer) {{\n",
       "        var display = window.getComputedStyle(gd).display;\n",
       "        if (!display || display === 'none') {{\n",
       "            console.log([gd, 'removed!']);\n",
       "            Plotly.purge(gd);\n",
       "            observer.disconnect();\n",
       "        }}\n",
       "}});\n",
       "\n",
       "// Listen for the removal of the full notebook cells\n",
       "var notebookContainer = gd.closest('#notebook-container');\n",
       "if (notebookContainer) {{\n",
       "    x.observe(notebookContainer, {childList: true});\n",
       "}}\n",
       "\n",
       "// Listen for the clearing of the current output cell\n",
       "var outputEl = gd.closest('.output');\n",
       "if (outputEl) {{\n",
       "    x.observe(outputEl, {childList: true});\n",
       "}}\n",
       "\n",
       "                        })                };                });            </script>        </div>"
      ]
     },
     "metadata": {},
     "output_type": "display_data"
    }
   ],
   "source": [
    "def fig_meals_by_meal():\n",
    "    # count of meals by meal ranking\n",
    "    fig = px.bar(ct_meals_by_meal().sort_values('quantity'), x='quantity', y='meal_name',\n",
    "                title='Quantity of AGM Meals',\n",
    "                template='plotly_white',\n",
    "                orientation='h',\n",
    "                labels={'meal_name':'meal'},\n",
    "                hover_data=['meal_name','quantity'],\n",
    "                text_auto='.2s')\n",
    "    fig.show()\n",
    "    return\n",
    "fig_meals_by_meal()"
   ]
  },
  {
   "cell_type": "code",
   "execution_count": null,
   "id": "03267361",
   "metadata": {},
   "outputs": [],
   "source": []
  }
 ],
 "metadata": {
  "kernelspec": {
   "display_name": "Python 3",
   "language": "python",
   "name": "python3"
  },
  "language_info": {
   "codemirror_mode": {
    "name": "ipython",
    "version": 3
   },
   "file_extension": ".py",
   "mimetype": "text/x-python",
   "name": "python",
   "nbconvert_exporter": "python",
   "pygments_lexer": "ipython3",
   "version": "3.8.8"
  }
 },
 "nbformat": 4,
 "nbformat_minor": 5
}
