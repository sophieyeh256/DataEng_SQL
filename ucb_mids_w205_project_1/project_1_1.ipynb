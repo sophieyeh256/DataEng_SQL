{
 "cells": [
  {
   "cell_type": "markdown",
   "id": "3f465500",
   "metadata": {},
   "source": [
    "# Project 1, Part 1, Executive Questions: Sales Specific Questions\n",
    "\n",
    "University of California, Berkeley\n",
    "Master of Information and Data Science (MIDS) program\n",
    "w205 - Fundamentals of Data Engineering\n",
    "\n",
    "Student: Sophie Yeh\n",
    "\n",
    "Year: 2022\n",
    "\n",
    "Semester: Spring\n",
    "\n",
    "Section: 8\n"
   ]
  },
  {
   "cell_type": "markdown",
   "id": "33c6e20e",
   "metadata": {},
   "source": [
    "# Included Modules and Packages\n",
    "\n",
    "Code cell containing your includes for modules and packages"
   ]
  },
  {
   "cell_type": "code",
   "execution_count": 15,
   "id": "530d745a",
   "metadata": {},
   "outputs": [
    {
     "name": "stdout",
     "output_type": "stream",
     "text": [
      "Requirement already satisfied: plotly in /opt/conda/lib/python3.8/site-packages (5.5.0)\r\n",
      "Requirement already satisfied: tenacity>=6.2.0 in /opt/conda/lib/python3.8/site-packages (from plotly) (8.0.1)\r\n",
      "Requirement already satisfied: six in /opt/conda/lib/python3.8/site-packages (from plotly) (1.15.0)\r\n"
     ]
    }
   ],
   "source": [
    "!pip install plotly\n",
    "import math\n",
    "import numpy as np\n",
    "import pandas as pd\n",
    "import psycopg2\n",
    "import plotly.express as px\n"
   ]
  },
  {
   "cell_type": "markdown",
   "id": "c91c8869",
   "metadata": {},
   "source": [
    "# Supporting code\n",
    "\n",
    "Code cells containing any supporting code, such as connecting to the database, any functions, etc.  Remember you can use any code from the labs."
   ]
  },
  {
   "cell_type": "code",
   "execution_count": 16,
   "id": "8e09ebb0",
   "metadata": {},
   "outputs": [],
   "source": [
    "#\n",
    "# function to run a select query and return rows in a pandas dataframe\n",
    "# pandas puts all numeric values from postgres to float\n",
    "# if it will fit in an integer, change it to integer\n",
    "#\n",
    "def my_select_query_pandas(query, rollback_before_flag, rollback_after_flag):\n",
    "    \"function to run a select query and return rows in a pandas dataframe\"\n",
    "    \n",
    "    if rollback_before_flag:\n",
    "        connection.rollback()\n",
    "    \n",
    "    df = pd.read_sql_query(query, connection)\n",
    "    \n",
    "    if rollback_after_flag:\n",
    "        connection.rollback()\n",
    "    \n",
    "    # fix the float columns that really should be integers\n",
    "    \n",
    "    for column in df:\n",
    "    \n",
    "        if df[column].dtype == \"float64\":\n",
    "\n",
    "            fraction_flag = False\n",
    "\n",
    "            for value in df[column].values:\n",
    "                \n",
    "                if not np.isnan(value):\n",
    "                    if value - math.floor(value) != 0:\n",
    "                        fraction_flag = True\n",
    "\n",
    "            if not fraction_flag:\n",
    "                df[column] = df[column].astype('Int64')\n",
    "    \n",
    "    return(df)\n",
    "#connect to postgres database\n",
    "connection = psycopg2.connect(\n",
    "    user = \"postgres\",\n",
    "    password = \"ucb\",\n",
    "    host = \"postgres\",\n",
    "    port = \"5432\",\n",
    "    database = \"postgres\"\n",
    ")\n",
    "# create cursor for connections\n",
    "cursor = connection.cursor()"
   ]
  },
  {
   "cell_type": "markdown",
   "id": "a3f3c605",
   "metadata": {},
   "source": [
    "# Instructions for Specific Questions\n",
    "\n",
    "For each specific quesion, you must write 1 and only 1 query that answers that specific question.  The results of your query must be displayed in a Pandas dataframe as demonstrated in the labs\n",
    "\n",
    "All output should be sorted.\n",
    "\n",
    "For store name, use the city name the store is located in.\n",
    "\n",
    "When sorting by store name, sort in alphabetical order.\n",
    "\n",
    "For month, use the full month name: January, February, March, etc.\n",
    "\n",
    "When sorting by month, sort in calendar order: January, February, March, etc.  You may find it useful to include a month number to help with the sort.  It's ok to leave it in the output.\n",
    "\n",
    "For day of week, use the full day of week name: Sunday, Monday, Tuesday, etc.\n",
    "\n",
    "When sorting by day of week, sort in day of week order: Sunday, Monday, Tuesday, etc. You may find it usefule to include a day of week number to help with the sort.  It's ok to leave it in the output.\n"
   ]
  },
  {
   "cell_type": "markdown",
   "id": "d2e6beed",
   "metadata": {},
   "source": [
    "# 1.1.1 Total Sales as a Dollar Amount for all of AGM"
   ]
  },
  {
   "cell_type": "code",
   "execution_count": 17,
   "id": "c5d749bc",
   "metadata": {},
   "outputs": [
    {
     "data": {
      "text/html": [
       "<style  type=\"text/css\" >\n",
       "</style><table id=\"T_e9a5a_\" ><caption>Total Sales as a Dollar Amount for all of AGM</caption><thead>    <tr>        <th class=\"blank level0\" ></th>        <th class=\"col_heading level0 col0\" >total_amount</th>    </tr></thead><tbody>\n",
       "                <tr>\n",
       "                        <th id=\"T_e9a5a_level0_row0\" class=\"row_heading level0 row0\" >0</th>\n",
       "                        <td id=\"T_e9a5a_row0_col0\" class=\"data row0 col0\" >98739408</td>\n",
       "            </tr>\n",
       "    </tbody></table>"
      ],
      "text/plain": [
       "<pandas.io.formats.style.Styler at 0x7f12744332e0>"
      ]
     },
     "execution_count": 17,
     "metadata": {},
     "output_type": "execute_result"
    }
   ],
   "source": [
    "def agm_total_sales():\n",
    "    # Total Sales as a Dollar Amount for all of AGM\n",
    "    rollback_before_flag = True\n",
    "    rollback_after_flag = True\n",
    "    query = \"\"\"\n",
    "    SELECT SUM(total_amount) as total_amount\n",
    "    FROM sales\n",
    "    \"\"\"\n",
    "    return  my_select_query_pandas(query, rollback_before_flag, rollback_after_flag)\n",
    "agm_total_sales().style.set_caption(\"Total Sales as a Dollar Amount for all of AGM\")"
   ]
  },
  {
   "cell_type": "markdown",
   "id": "967efa8b",
   "metadata": {},
   "source": [
    "# 1.1.2 Total Sales as a Dollar Amount by Store\n",
    "\n",
    "Sort by store name in alphabetical order"
   ]
  },
  {
   "cell_type": "code",
   "execution_count": 18,
   "id": "9774a990",
   "metadata": {},
   "outputs": [
    {
     "data": {
      "text/html": [
       "<style  type=\"text/css\" >\n",
       "</style><table id=\"T_b92c2_\" ><caption>Total Sales as a Dollar Amount by Store</caption><thead>    <tr>        <th class=\"blank level0\" ></th>        <th class=\"col_heading level0 col0\" >store</th>        <th class=\"col_heading level0 col1\" >total_amount</th>    </tr></thead><tbody>\n",
       "                <tr>\n",
       "                        <th id=\"T_b92c2_level0_row0\" class=\"row_heading level0 row0\" >0</th>\n",
       "                        <td id=\"T_b92c2_row0_col0\" class=\"data row0 col0\" >Nashville</td>\n",
       "                        <td id=\"T_b92c2_row0_col1\" class=\"data row0 col1\" >14573172</td>\n",
       "            </tr>\n",
       "            <tr>\n",
       "                        <th id=\"T_b92c2_level0_row1\" class=\"row_heading level0 row1\" >1</th>\n",
       "                        <td id=\"T_b92c2_row1_col0\" class=\"data row1 col0\" >Miami</td>\n",
       "                        <td id=\"T_b92c2_row1_col1\" class=\"data row1 col1\" >17692404</td>\n",
       "            </tr>\n",
       "            <tr>\n",
       "                        <th id=\"T_b92c2_level0_row2\" class=\"row_heading level0 row2\" >2</th>\n",
       "                        <td id=\"T_b92c2_row2_col0\" class=\"data row2 col0\" >Dallas</td>\n",
       "                        <td id=\"T_b92c2_row2_col1\" class=\"data row2 col1\" >19408260</td>\n",
       "            </tr>\n",
       "            <tr>\n",
       "                        <th id=\"T_b92c2_level0_row3\" class=\"row_heading level0 row3\" >3</th>\n",
       "                        <td id=\"T_b92c2_row3_col0\" class=\"data row3 col0\" >Seattle</td>\n",
       "                        <td id=\"T_b92c2_row3_col1\" class=\"data row3 col1\" >22024512</td>\n",
       "            </tr>\n",
       "            <tr>\n",
       "                        <th id=\"T_b92c2_level0_row4\" class=\"row_heading level0 row4\" >4</th>\n",
       "                        <td id=\"T_b92c2_row4_col0\" class=\"data row4 col0\" >Berkeley</td>\n",
       "                        <td id=\"T_b92c2_row4_col1\" class=\"data row4 col1\" >25041060</td>\n",
       "            </tr>\n",
       "    </tbody></table>"
      ],
      "text/plain": [
       "<pandas.io.formats.style.Styler at 0x7f12744333a0>"
      ]
     },
     "execution_count": 18,
     "metadata": {},
     "output_type": "execute_result"
    }
   ],
   "source": [
    "def sales_by_store():\n",
    "    # Total Sales as a Dollar Amount by Store\n",
    "    rollback_before_flag = True\n",
    "    rollback_after_flag = True\n",
    "    query = \"\"\"\n",
    "\n",
    "    SELECT s.city as store, sum(sa.total_amount) as total_amount\n",
    "    FROM stores as s\n",
    "        JOIN sales as sa\n",
    "            ON s.store_id = sa.store_id\n",
    "    GROUP BY store\n",
    "    ORDER BY total_amount\n",
    "\n",
    "    \"\"\"\n",
    "    return my_select_query_pandas(query, rollback_before_flag, rollback_after_flag)\n",
    "sales_by_store().style.set_caption('Total Sales as a Dollar Amount by Store')"
   ]
  },
  {
   "cell_type": "markdown",
   "id": "add38065",
   "metadata": {},
   "source": [
    "# 1.1.3 Total Sales as a Dollar Amount by Month\n",
    "\n",
    "Sort by month full name in calendar order"
   ]
  },
  {
   "cell_type": "code",
   "execution_count": 19,
   "id": "570b6f02",
   "metadata": {},
   "outputs": [
    {
     "data": {
      "text/html": [
       "<style  type=\"text/css\" >\n",
       "</style><table id=\"T_f6b5b_\" ><caption>Total Sales as a Dollar Amount by Month</caption><thead>    <tr>        <th class=\"blank level0\" ></th>        <th class=\"col_heading level0 col0\" >month_num</th>        <th class=\"col_heading level0 col1\" >month_name</th>        <th class=\"col_heading level0 col2\" >total_amount</th>    </tr></thead><tbody>\n",
       "                <tr>\n",
       "                        <th id=\"T_f6b5b_level0_row0\" class=\"row_heading level0 row0\" >0</th>\n",
       "                        <td id=\"T_f6b5b_row0_col0\" class=\"data row0 col0\" >1</td>\n",
       "                        <td id=\"T_f6b5b_row0_col1\" class=\"data row0 col1\" >JANUARY  </td>\n",
       "                        <td id=\"T_f6b5b_row0_col2\" class=\"data row0 col2\" >7803828</td>\n",
       "            </tr>\n",
       "            <tr>\n",
       "                        <th id=\"T_f6b5b_level0_row1\" class=\"row_heading level0 row1\" >1</th>\n",
       "                        <td id=\"T_f6b5b_row1_col0\" class=\"data row1 col0\" >2</td>\n",
       "                        <td id=\"T_f6b5b_row1_col1\" class=\"data row1 col1\" >FEBRUARY </td>\n",
       "                        <td id=\"T_f6b5b_row1_col2\" class=\"data row1 col2\" >7574280</td>\n",
       "            </tr>\n",
       "            <tr>\n",
       "                        <th id=\"T_f6b5b_level0_row2\" class=\"row_heading level0 row2\" >2</th>\n",
       "                        <td id=\"T_f6b5b_row2_col0\" class=\"data row2 col0\" >3</td>\n",
       "                        <td id=\"T_f6b5b_row2_col1\" class=\"data row2 col1\" >MARCH    </td>\n",
       "                        <td id=\"T_f6b5b_row2_col2\" class=\"data row2 col2\" >8779620</td>\n",
       "            </tr>\n",
       "            <tr>\n",
       "                        <th id=\"T_f6b5b_level0_row3\" class=\"row_heading level0 row3\" >3</th>\n",
       "                        <td id=\"T_f6b5b_row3_col0\" class=\"data row3 col0\" >4</td>\n",
       "                        <td id=\"T_f6b5b_row3_col1\" class=\"data row3 col1\" >APRIL    </td>\n",
       "                        <td id=\"T_f6b5b_row3_col2\" class=\"data row3 col2\" >8251284</td>\n",
       "            </tr>\n",
       "            <tr>\n",
       "                        <th id=\"T_f6b5b_level0_row4\" class=\"row_heading level0 row4\" >4</th>\n",
       "                        <td id=\"T_f6b5b_row4_col0\" class=\"data row4 col0\" >5</td>\n",
       "                        <td id=\"T_f6b5b_row4_col1\" class=\"data row4 col1\" >MAY      </td>\n",
       "                        <td id=\"T_f6b5b_row4_col2\" class=\"data row4 col2\" >7977840</td>\n",
       "            </tr>\n",
       "            <tr>\n",
       "                        <th id=\"T_f6b5b_level0_row5\" class=\"row_heading level0 row5\" >5</th>\n",
       "                        <td id=\"T_f6b5b_row5_col0\" class=\"data row5 col0\" >6</td>\n",
       "                        <td id=\"T_f6b5b_row5_col1\" class=\"data row5 col1\" >JUNE     </td>\n",
       "                        <td id=\"T_f6b5b_row5_col2\" class=\"data row5 col2\" >8124108</td>\n",
       "            </tr>\n",
       "            <tr>\n",
       "                        <th id=\"T_f6b5b_level0_row6\" class=\"row_heading level0 row6\" >6</th>\n",
       "                        <td id=\"T_f6b5b_row6_col0\" class=\"data row6 col0\" >7</td>\n",
       "                        <td id=\"T_f6b5b_row6_col1\" class=\"data row6 col1\" >JULY     </td>\n",
       "                        <td id=\"T_f6b5b_row6_col2\" class=\"data row6 col2\" >7993044</td>\n",
       "            </tr>\n",
       "            <tr>\n",
       "                        <th id=\"T_f6b5b_level0_row7\" class=\"row_heading level0 row7\" >7</th>\n",
       "                        <td id=\"T_f6b5b_row7_col0\" class=\"data row7 col0\" >8</td>\n",
       "                        <td id=\"T_f6b5b_row7_col1\" class=\"data row7 col1\" >AUGUST   </td>\n",
       "                        <td id=\"T_f6b5b_row7_col2\" class=\"data row7 col2\" >9029808</td>\n",
       "            </tr>\n",
       "            <tr>\n",
       "                        <th id=\"T_f6b5b_level0_row8\" class=\"row_heading level0 row8\" >8</th>\n",
       "                        <td id=\"T_f6b5b_row8_col0\" class=\"data row8 col0\" >9</td>\n",
       "                        <td id=\"T_f6b5b_row8_col1\" class=\"data row8 col1\" >SEPTEMBER</td>\n",
       "                        <td id=\"T_f6b5b_row8_col2\" class=\"data row8 col2\" >7578960</td>\n",
       "            </tr>\n",
       "            <tr>\n",
       "                        <th id=\"T_f6b5b_level0_row9\" class=\"row_heading level0 row9\" >9</th>\n",
       "                        <td id=\"T_f6b5b_row9_col0\" class=\"data row9 col0\" >10</td>\n",
       "                        <td id=\"T_f6b5b_row9_col1\" class=\"data row9 col1\" >OCTOBER  </td>\n",
       "                        <td id=\"T_f6b5b_row9_col2\" class=\"data row9 col2\" >8895108</td>\n",
       "            </tr>\n",
       "            <tr>\n",
       "                        <th id=\"T_f6b5b_level0_row10\" class=\"row_heading level0 row10\" >10</th>\n",
       "                        <td id=\"T_f6b5b_row10_col0\" class=\"data row10 col0\" >11</td>\n",
       "                        <td id=\"T_f6b5b_row10_col1\" class=\"data row10 col1\" >NOVEMBER </td>\n",
       "                        <td id=\"T_f6b5b_row10_col2\" class=\"data row10 col2\" >8391108</td>\n",
       "            </tr>\n",
       "            <tr>\n",
       "                        <th id=\"T_f6b5b_level0_row11\" class=\"row_heading level0 row11\" >11</th>\n",
       "                        <td id=\"T_f6b5b_row11_col0\" class=\"data row11 col0\" >12</td>\n",
       "                        <td id=\"T_f6b5b_row11_col1\" class=\"data row11 col1\" >DECEMBER </td>\n",
       "                        <td id=\"T_f6b5b_row11_col2\" class=\"data row11 col2\" >8340420</td>\n",
       "            </tr>\n",
       "    </tbody></table>"
      ],
      "text/plain": [
       "<pandas.io.formats.style.Styler at 0x7f127411c3a0>"
      ]
     },
     "execution_count": 19,
     "metadata": {},
     "output_type": "execute_result"
    }
   ],
   "source": [
    "def sales_by_month():\n",
    "    # Total Sales as a Dollar Amount by Month\n",
    "    rollback_before_flag = True\n",
    "    rollback_after_flag = True\n",
    "    query = \"\"\"\n",
    "    SELECT EXTRACT(MONTH FROM sale_date) as month_num, \n",
    "           to_char(sale_date, 'MONTH') as month_name, \n",
    "           sum(total_amount) as total_amount\n",
    "    FROM sales\n",
    "    GROUP BY month_num, month_name\n",
    "    ORDER BY month_num, month_name\n",
    "\n",
    "    \"\"\"\n",
    "    return my_select_query_pandas(query, rollback_before_flag, rollback_after_flag)\n",
    "sales_by_month().style.set_caption('Total Sales as a Dollar Amount by Month')"
   ]
  },
  {
   "cell_type": "markdown",
   "id": "18b4a43c",
   "metadata": {},
   "source": [
    "There is no consistent dollar amount sold by month. However, we can take note of peak in sales during March, August, and October. These months fall in Q1, Q2, and Q3 respectively."
   ]
  },
  {
   "cell_type": "markdown",
   "id": "a9680a1c",
   "metadata": {},
   "source": [
    "# 1.1.4 Total Sales as a Dollar Amount by Store and Month\n",
    "\n",
    "Sort by store name in alphabetical order, then by month full name in calendar order"
   ]
  },
  {
   "cell_type": "code",
   "execution_count": 20,
   "id": "453d038c",
   "metadata": {},
   "outputs": [
    {
     "data": {
      "text/html": [
       "<style  type=\"text/css\" >\n",
       "</style><table id=\"T_8b262_\" ><caption>Total Sales as a Dollar Amount by Store and Month</caption><thead>    <tr>        <th class=\"blank level0\" ></th>        <th class=\"col_heading level0 col0\" >store</th>        <th class=\"col_heading level0 col1\" >month_num</th>        <th class=\"col_heading level0 col2\" >month_name</th>        <th class=\"col_heading level0 col3\" >total_amount</th>    </tr></thead><tbody>\n",
       "                <tr>\n",
       "                        <th id=\"T_8b262_level0_row0\" class=\"row_heading level0 row0\" >0</th>\n",
       "                        <td id=\"T_8b262_row0_col0\" class=\"data row0 col0\" >Berkeley</td>\n",
       "                        <td id=\"T_8b262_row0_col1\" class=\"data row0 col1\" >1</td>\n",
       "                        <td id=\"T_8b262_row0_col2\" class=\"data row0 col2\" >JANUARY  </td>\n",
       "                        <td id=\"T_8b262_row0_col3\" class=\"data row0 col3\" >1988904</td>\n",
       "            </tr>\n",
       "            <tr>\n",
       "                        <th id=\"T_8b262_level0_row1\" class=\"row_heading level0 row1\" >1</th>\n",
       "                        <td id=\"T_8b262_row1_col0\" class=\"data row1 col0\" >Berkeley</td>\n",
       "                        <td id=\"T_8b262_row1_col1\" class=\"data row1 col1\" >2</td>\n",
       "                        <td id=\"T_8b262_row1_col2\" class=\"data row1 col2\" >FEBRUARY </td>\n",
       "                        <td id=\"T_8b262_row1_col3\" class=\"data row1 col3\" >1930272</td>\n",
       "            </tr>\n",
       "            <tr>\n",
       "                        <th id=\"T_8b262_level0_row2\" class=\"row_heading level0 row2\" >2</th>\n",
       "                        <td id=\"T_8b262_row2_col0\" class=\"data row2 col0\" >Berkeley</td>\n",
       "                        <td id=\"T_8b262_row2_col1\" class=\"data row2 col1\" >3</td>\n",
       "                        <td id=\"T_8b262_row2_col2\" class=\"data row2 col2\" >MARCH    </td>\n",
       "                        <td id=\"T_8b262_row2_col3\" class=\"data row2 col3\" >2224500</td>\n",
       "            </tr>\n",
       "            <tr>\n",
       "                        <th id=\"T_8b262_level0_row3\" class=\"row_heading level0 row3\" >3</th>\n",
       "                        <td id=\"T_8b262_row3_col0\" class=\"data row3 col0\" >Berkeley</td>\n",
       "                        <td id=\"T_8b262_row3_col1\" class=\"data row3 col1\" >4</td>\n",
       "                        <td id=\"T_8b262_row3_col2\" class=\"data row3 col2\" >APRIL    </td>\n",
       "                        <td id=\"T_8b262_row3_col3\" class=\"data row3 col3\" >2092056</td>\n",
       "            </tr>\n",
       "            <tr>\n",
       "                        <th id=\"T_8b262_level0_row4\" class=\"row_heading level0 row4\" >4</th>\n",
       "                        <td id=\"T_8b262_row4_col0\" class=\"data row4 col0\" >Berkeley</td>\n",
       "                        <td id=\"T_8b262_row4_col1\" class=\"data row4 col1\" >5</td>\n",
       "                        <td id=\"T_8b262_row4_col2\" class=\"data row4 col2\" >MAY      </td>\n",
       "                        <td id=\"T_8b262_row4_col3\" class=\"data row4 col3\" >2019264</td>\n",
       "            </tr>\n",
       "            <tr>\n",
       "                        <th id=\"T_8b262_level0_row5\" class=\"row_heading level0 row5\" >5</th>\n",
       "                        <td id=\"T_8b262_row5_col0\" class=\"data row5 col0\" >Berkeley</td>\n",
       "                        <td id=\"T_8b262_row5_col1\" class=\"data row5 col1\" >6</td>\n",
       "                        <td id=\"T_8b262_row5_col2\" class=\"data row5 col2\" >JUNE     </td>\n",
       "                        <td id=\"T_8b262_row5_col3\" class=\"data row5 col3\" >2065140</td>\n",
       "            </tr>\n",
       "            <tr>\n",
       "                        <th id=\"T_8b262_level0_row6\" class=\"row_heading level0 row6\" >6</th>\n",
       "                        <td id=\"T_8b262_row6_col0\" class=\"data row6 col0\" >Berkeley</td>\n",
       "                        <td id=\"T_8b262_row6_col1\" class=\"data row6 col1\" >7</td>\n",
       "                        <td id=\"T_8b262_row6_col2\" class=\"data row6 col2\" >JULY     </td>\n",
       "                        <td id=\"T_8b262_row6_col3\" class=\"data row6 col3\" >2034708</td>\n",
       "            </tr>\n",
       "            <tr>\n",
       "                        <th id=\"T_8b262_level0_row7\" class=\"row_heading level0 row7\" >7</th>\n",
       "                        <td id=\"T_8b262_row7_col0\" class=\"data row7 col0\" >Berkeley</td>\n",
       "                        <td id=\"T_8b262_row7_col1\" class=\"data row7 col1\" >8</td>\n",
       "                        <td id=\"T_8b262_row7_col2\" class=\"data row7 col2\" >AUGUST   </td>\n",
       "                        <td id=\"T_8b262_row7_col3\" class=\"data row7 col3\" >2286732</td>\n",
       "            </tr>\n",
       "            <tr>\n",
       "                        <th id=\"T_8b262_level0_row8\" class=\"row_heading level0 row8\" >8</th>\n",
       "                        <td id=\"T_8b262_row8_col0\" class=\"data row8 col0\" >Berkeley</td>\n",
       "                        <td id=\"T_8b262_row8_col1\" class=\"data row8 col1\" >9</td>\n",
       "                        <td id=\"T_8b262_row8_col2\" class=\"data row8 col2\" >SEPTEMBER</td>\n",
       "                        <td id=\"T_8b262_row8_col3\" class=\"data row8 col3\" >1922256</td>\n",
       "            </tr>\n",
       "            <tr>\n",
       "                        <th id=\"T_8b262_level0_row9\" class=\"row_heading level0 row9\" >9</th>\n",
       "                        <td id=\"T_8b262_row9_col0\" class=\"data row9 col0\" >Berkeley</td>\n",
       "                        <td id=\"T_8b262_row9_col1\" class=\"data row9 col1\" >10</td>\n",
       "                        <td id=\"T_8b262_row9_col2\" class=\"data row9 col2\" >OCTOBER  </td>\n",
       "                        <td id=\"T_8b262_row9_col3\" class=\"data row9 col3\" >2248008</td>\n",
       "            </tr>\n",
       "            <tr>\n",
       "                        <th id=\"T_8b262_level0_row10\" class=\"row_heading level0 row10\" >10</th>\n",
       "                        <td id=\"T_8b262_row10_col0\" class=\"data row10 col0\" >Berkeley</td>\n",
       "                        <td id=\"T_8b262_row10_col1\" class=\"data row10 col1\" >11</td>\n",
       "                        <td id=\"T_8b262_row10_col2\" class=\"data row10 col2\" >NOVEMBER </td>\n",
       "                        <td id=\"T_8b262_row10_col3\" class=\"data row10 col3\" >2127384</td>\n",
       "            </tr>\n",
       "            <tr>\n",
       "                        <th id=\"T_8b262_level0_row11\" class=\"row_heading level0 row11\" >11</th>\n",
       "                        <td id=\"T_8b262_row11_col0\" class=\"data row11 col0\" >Berkeley</td>\n",
       "                        <td id=\"T_8b262_row11_col1\" class=\"data row11 col1\" >12</td>\n",
       "                        <td id=\"T_8b262_row11_col2\" class=\"data row11 col2\" >DECEMBER </td>\n",
       "                        <td id=\"T_8b262_row11_col3\" class=\"data row11 col3\" >2101836</td>\n",
       "            </tr>\n",
       "            <tr>\n",
       "                        <th id=\"T_8b262_level0_row12\" class=\"row_heading level0 row12\" >12</th>\n",
       "                        <td id=\"T_8b262_row12_col0\" class=\"data row12 col0\" >Dallas</td>\n",
       "                        <td id=\"T_8b262_row12_col1\" class=\"data row12 col1\" >1</td>\n",
       "                        <td id=\"T_8b262_row12_col2\" class=\"data row12 col2\" >JANUARY  </td>\n",
       "                        <td id=\"T_8b262_row12_col3\" class=\"data row12 col3\" >1532232</td>\n",
       "            </tr>\n",
       "            <tr>\n",
       "                        <th id=\"T_8b262_level0_row13\" class=\"row_heading level0 row13\" >13</th>\n",
       "                        <td id=\"T_8b262_row13_col0\" class=\"data row13 col0\" >Dallas</td>\n",
       "                        <td id=\"T_8b262_row13_col1\" class=\"data row13 col1\" >2</td>\n",
       "                        <td id=\"T_8b262_row13_col2\" class=\"data row13 col2\" >FEBRUARY </td>\n",
       "                        <td id=\"T_8b262_row13_col3\" class=\"data row13 col3\" >1487076</td>\n",
       "            </tr>\n",
       "            <tr>\n",
       "                        <th id=\"T_8b262_level0_row14\" class=\"row_heading level0 row14\" >14</th>\n",
       "                        <td id=\"T_8b262_row14_col0\" class=\"data row14 col0\" >Dallas</td>\n",
       "                        <td id=\"T_8b262_row14_col1\" class=\"data row14 col1\" >3</td>\n",
       "                        <td id=\"T_8b262_row14_col2\" class=\"data row14 col2\" >MARCH    </td>\n",
       "                        <td id=\"T_8b262_row14_col3\" class=\"data row14 col3\" >1729404</td>\n",
       "            </tr>\n",
       "            <tr>\n",
       "                        <th id=\"T_8b262_level0_row15\" class=\"row_heading level0 row15\" >15</th>\n",
       "                        <td id=\"T_8b262_row15_col0\" class=\"data row15 col0\" >Dallas</td>\n",
       "                        <td id=\"T_8b262_row15_col1\" class=\"data row15 col1\" >4</td>\n",
       "                        <td id=\"T_8b262_row15_col2\" class=\"data row15 col2\" >APRIL    </td>\n",
       "                        <td id=\"T_8b262_row15_col3\" class=\"data row15 col3\" >1626900</td>\n",
       "            </tr>\n",
       "            <tr>\n",
       "                        <th id=\"T_8b262_level0_row16\" class=\"row_heading level0 row16\" >16</th>\n",
       "                        <td id=\"T_8b262_row16_col0\" class=\"data row16 col0\" >Dallas</td>\n",
       "                        <td id=\"T_8b262_row16_col1\" class=\"data row16 col1\" >5</td>\n",
       "                        <td id=\"T_8b262_row16_col2\" class=\"data row16 col2\" >MAY      </td>\n",
       "                        <td id=\"T_8b262_row16_col3\" class=\"data row16 col3\" >1567404</td>\n",
       "            </tr>\n",
       "            <tr>\n",
       "                        <th id=\"T_8b262_level0_row17\" class=\"row_heading level0 row17\" >17</th>\n",
       "                        <td id=\"T_8b262_row17_col0\" class=\"data row17 col0\" >Dallas</td>\n",
       "                        <td id=\"T_8b262_row17_col1\" class=\"data row17 col1\" >6</td>\n",
       "                        <td id=\"T_8b262_row17_col2\" class=\"data row17 col2\" >JUNE     </td>\n",
       "                        <td id=\"T_8b262_row17_col3\" class=\"data row17 col3\" >1596660</td>\n",
       "            </tr>\n",
       "            <tr>\n",
       "                        <th id=\"T_8b262_level0_row18\" class=\"row_heading level0 row18\" >18</th>\n",
       "                        <td id=\"T_8b262_row18_col0\" class=\"data row18 col0\" >Dallas</td>\n",
       "                        <td id=\"T_8b262_row18_col1\" class=\"data row18 col1\" >7</td>\n",
       "                        <td id=\"T_8b262_row18_col2\" class=\"data row18 col2\" >JULY     </td>\n",
       "                        <td id=\"T_8b262_row18_col3\" class=\"data row18 col3\" >1569072</td>\n",
       "            </tr>\n",
       "            <tr>\n",
       "                        <th id=\"T_8b262_level0_row19\" class=\"row_heading level0 row19\" >19</th>\n",
       "                        <td id=\"T_8b262_row19_col0\" class=\"data row19 col0\" >Dallas</td>\n",
       "                        <td id=\"T_8b262_row19_col1\" class=\"data row19 col1\" >8</td>\n",
       "                        <td id=\"T_8b262_row19_col2\" class=\"data row19 col2\" >AUGUST   </td>\n",
       "                        <td id=\"T_8b262_row19_col3\" class=\"data row19 col3\" >1772712</td>\n",
       "            </tr>\n",
       "            <tr>\n",
       "                        <th id=\"T_8b262_level0_row20\" class=\"row_heading level0 row20\" >20</th>\n",
       "                        <td id=\"T_8b262_row20_col0\" class=\"data row20 col0\" >Dallas</td>\n",
       "                        <td id=\"T_8b262_row20_col1\" class=\"data row20 col1\" >9</td>\n",
       "                        <td id=\"T_8b262_row20_col2\" class=\"data row20 col2\" >SEPTEMBER</td>\n",
       "                        <td id=\"T_8b262_row20_col3\" class=\"data row20 col3\" >1489092</td>\n",
       "            </tr>\n",
       "            <tr>\n",
       "                        <th id=\"T_8b262_level0_row21\" class=\"row_heading level0 row21\" >21</th>\n",
       "                        <td id=\"T_8b262_row21_col0\" class=\"data row21 col0\" >Dallas</td>\n",
       "                        <td id=\"T_8b262_row21_col1\" class=\"data row21 col1\" >10</td>\n",
       "                        <td id=\"T_8b262_row21_col2\" class=\"data row21 col2\" >OCTOBER  </td>\n",
       "                        <td id=\"T_8b262_row21_col3\" class=\"data row21 col3\" >1754220</td>\n",
       "            </tr>\n",
       "            <tr>\n",
       "                        <th id=\"T_8b262_level0_row22\" class=\"row_heading level0 row22\" >22</th>\n",
       "                        <td id=\"T_8b262_row22_col0\" class=\"data row22 col0\" >Dallas</td>\n",
       "                        <td id=\"T_8b262_row22_col1\" class=\"data row22 col1\" >11</td>\n",
       "                        <td id=\"T_8b262_row22_col2\" class=\"data row22 col2\" >NOVEMBER </td>\n",
       "                        <td id=\"T_8b262_row22_col3\" class=\"data row22 col3\" >1646436</td>\n",
       "            </tr>\n",
       "            <tr>\n",
       "                        <th id=\"T_8b262_level0_row23\" class=\"row_heading level0 row23\" >23</th>\n",
       "                        <td id=\"T_8b262_row23_col0\" class=\"data row23 col0\" >Dallas</td>\n",
       "                        <td id=\"T_8b262_row23_col1\" class=\"data row23 col1\" >12</td>\n",
       "                        <td id=\"T_8b262_row23_col2\" class=\"data row23 col2\" >DECEMBER </td>\n",
       "                        <td id=\"T_8b262_row23_col3\" class=\"data row23 col3\" >1637052</td>\n",
       "            </tr>\n",
       "            <tr>\n",
       "                        <th id=\"T_8b262_level0_row24\" class=\"row_heading level0 row24\" >24</th>\n",
       "                        <td id=\"T_8b262_row24_col0\" class=\"data row24 col0\" >Miami</td>\n",
       "                        <td id=\"T_8b262_row24_col1\" class=\"data row24 col1\" >1</td>\n",
       "                        <td id=\"T_8b262_row24_col2\" class=\"data row24 col2\" >JANUARY  </td>\n",
       "                        <td id=\"T_8b262_row24_col3\" class=\"data row24 col3\" >1391916</td>\n",
       "            </tr>\n",
       "            <tr>\n",
       "                        <th id=\"T_8b262_level0_row25\" class=\"row_heading level0 row25\" >25</th>\n",
       "                        <td id=\"T_8b262_row25_col0\" class=\"data row25 col0\" >Miami</td>\n",
       "                        <td id=\"T_8b262_row25_col1\" class=\"data row25 col1\" >2</td>\n",
       "                        <td id=\"T_8b262_row25_col2\" class=\"data row25 col2\" >FEBRUARY </td>\n",
       "                        <td id=\"T_8b262_row25_col3\" class=\"data row25 col3\" >1352136</td>\n",
       "            </tr>\n",
       "            <tr>\n",
       "                        <th id=\"T_8b262_level0_row26\" class=\"row_heading level0 row26\" >26</th>\n",
       "                        <td id=\"T_8b262_row26_col0\" class=\"data row26 col0\" >Miami</td>\n",
       "                        <td id=\"T_8b262_row26_col1\" class=\"data row26 col1\" >3</td>\n",
       "                        <td id=\"T_8b262_row26_col2\" class=\"data row26 col2\" >MARCH    </td>\n",
       "                        <td id=\"T_8b262_row26_col3\" class=\"data row26 col3\" >1579920</td>\n",
       "            </tr>\n",
       "            <tr>\n",
       "                        <th id=\"T_8b262_level0_row27\" class=\"row_heading level0 row27\" >27</th>\n",
       "                        <td id=\"T_8b262_row27_col0\" class=\"data row27 col0\" >Miami</td>\n",
       "                        <td id=\"T_8b262_row27_col1\" class=\"data row27 col1\" >4</td>\n",
       "                        <td id=\"T_8b262_row27_col2\" class=\"data row27 col2\" >APRIL    </td>\n",
       "                        <td id=\"T_8b262_row27_col3\" class=\"data row27 col3\" >1482600</td>\n",
       "            </tr>\n",
       "            <tr>\n",
       "                        <th id=\"T_8b262_level0_row28\" class=\"row_heading level0 row28\" >28</th>\n",
       "                        <td id=\"T_8b262_row28_col0\" class=\"data row28 col0\" >Miami</td>\n",
       "                        <td id=\"T_8b262_row28_col1\" class=\"data row28 col1\" >5</td>\n",
       "                        <td id=\"T_8b262_row28_col2\" class=\"data row28 col2\" >MAY      </td>\n",
       "                        <td id=\"T_8b262_row28_col3\" class=\"data row28 col3\" >1430916</td>\n",
       "            </tr>\n",
       "            <tr>\n",
       "                        <th id=\"T_8b262_level0_row29\" class=\"row_heading level0 row29\" >29</th>\n",
       "                        <td id=\"T_8b262_row29_col0\" class=\"data row29 col0\" >Miami</td>\n",
       "                        <td id=\"T_8b262_row29_col1\" class=\"data row29 col1\" >6</td>\n",
       "                        <td id=\"T_8b262_row29_col2\" class=\"data row29 col2\" >JUNE     </td>\n",
       "                        <td id=\"T_8b262_row29_col3\" class=\"data row29 col3\" >1455804</td>\n",
       "            </tr>\n",
       "            <tr>\n",
       "                        <th id=\"T_8b262_level0_row30\" class=\"row_heading level0 row30\" >30</th>\n",
       "                        <td id=\"T_8b262_row30_col0\" class=\"data row30 col0\" >Miami</td>\n",
       "                        <td id=\"T_8b262_row30_col1\" class=\"data row30 col1\" >7</td>\n",
       "                        <td id=\"T_8b262_row30_col2\" class=\"data row30 col2\" >JULY     </td>\n",
       "                        <td id=\"T_8b262_row30_col3\" class=\"data row30 col3\" >1431048</td>\n",
       "            </tr>\n",
       "            <tr>\n",
       "                        <th id=\"T_8b262_level0_row31\" class=\"row_heading level0 row31\" >31</th>\n",
       "                        <td id=\"T_8b262_row31_col0\" class=\"data row31 col0\" >Miami</td>\n",
       "                        <td id=\"T_8b262_row31_col1\" class=\"data row31 col1\" >8</td>\n",
       "                        <td id=\"T_8b262_row31_col2\" class=\"data row31 col2\" >AUGUST   </td>\n",
       "                        <td id=\"T_8b262_row31_col3\" class=\"data row31 col3\" >1632324</td>\n",
       "            </tr>\n",
       "            <tr>\n",
       "                        <th id=\"T_8b262_level0_row32\" class=\"row_heading level0 row32\" >32</th>\n",
       "                        <td id=\"T_8b262_row32_col0\" class=\"data row32 col0\" >Miami</td>\n",
       "                        <td id=\"T_8b262_row32_col1\" class=\"data row32 col1\" >9</td>\n",
       "                        <td id=\"T_8b262_row32_col2\" class=\"data row32 col2\" >SEPTEMBER</td>\n",
       "                        <td id=\"T_8b262_row32_col3\" class=\"data row32 col3\" >1352496</td>\n",
       "            </tr>\n",
       "            <tr>\n",
       "                        <th id=\"T_8b262_level0_row33\" class=\"row_heading level0 row33\" >33</th>\n",
       "                        <td id=\"T_8b262_row33_col0\" class=\"data row33 col0\" >Miami</td>\n",
       "                        <td id=\"T_8b262_row33_col1\" class=\"data row33 col1\" >10</td>\n",
       "                        <td id=\"T_8b262_row33_col2\" class=\"data row33 col2\" >OCTOBER  </td>\n",
       "                        <td id=\"T_8b262_row33_col3\" class=\"data row33 col3\" >1590708</td>\n",
       "            </tr>\n",
       "            <tr>\n",
       "                        <th id=\"T_8b262_level0_row34\" class=\"row_heading level0 row34\" >34</th>\n",
       "                        <td id=\"T_8b262_row34_col0\" class=\"data row34 col0\" >Miami</td>\n",
       "                        <td id=\"T_8b262_row34_col1\" class=\"data row34 col1\" >11</td>\n",
       "                        <td id=\"T_8b262_row34_col2\" class=\"data row34 col2\" >NOVEMBER </td>\n",
       "                        <td id=\"T_8b262_row34_col3\" class=\"data row34 col3\" >1494468</td>\n",
       "            </tr>\n",
       "            <tr>\n",
       "                        <th id=\"T_8b262_level0_row35\" class=\"row_heading level0 row35\" >35</th>\n",
       "                        <td id=\"T_8b262_row35_col0\" class=\"data row35 col0\" >Miami</td>\n",
       "                        <td id=\"T_8b262_row35_col1\" class=\"data row35 col1\" >12</td>\n",
       "                        <td id=\"T_8b262_row35_col2\" class=\"data row35 col2\" >DECEMBER </td>\n",
       "                        <td id=\"T_8b262_row35_col3\" class=\"data row35 col3\" >1498068</td>\n",
       "            </tr>\n",
       "            <tr>\n",
       "                        <th id=\"T_8b262_level0_row36\" class=\"row_heading level0 row36\" >36</th>\n",
       "                        <td id=\"T_8b262_row36_col0\" class=\"data row36 col0\" >Nashville</td>\n",
       "                        <td id=\"T_8b262_row36_col1\" class=\"data row36 col1\" >1</td>\n",
       "                        <td id=\"T_8b262_row36_col2\" class=\"data row36 col2\" >JANUARY  </td>\n",
       "                        <td id=\"T_8b262_row36_col3\" class=\"data row36 col3\" >1147716</td>\n",
       "            </tr>\n",
       "            <tr>\n",
       "                        <th id=\"T_8b262_level0_row37\" class=\"row_heading level0 row37\" >37</th>\n",
       "                        <td id=\"T_8b262_row37_col0\" class=\"data row37 col0\" >Nashville</td>\n",
       "                        <td id=\"T_8b262_row37_col1\" class=\"data row37 col1\" >2</td>\n",
       "                        <td id=\"T_8b262_row37_col2\" class=\"data row37 col2\" >FEBRUARY </td>\n",
       "                        <td id=\"T_8b262_row37_col3\" class=\"data row37 col3\" >1114788</td>\n",
       "            </tr>\n",
       "            <tr>\n",
       "                        <th id=\"T_8b262_level0_row38\" class=\"row_heading level0 row38\" >38</th>\n",
       "                        <td id=\"T_8b262_row38_col0\" class=\"data row38 col0\" >Nashville</td>\n",
       "                        <td id=\"T_8b262_row38_col1\" class=\"data row38 col1\" >3</td>\n",
       "                        <td id=\"T_8b262_row38_col2\" class=\"data row38 col2\" >MARCH    </td>\n",
       "                        <td id=\"T_8b262_row38_col3\" class=\"data row38 col3\" >1292100</td>\n",
       "            </tr>\n",
       "            <tr>\n",
       "                        <th id=\"T_8b262_level0_row39\" class=\"row_heading level0 row39\" >39</th>\n",
       "                        <td id=\"T_8b262_row39_col0\" class=\"data row39 col0\" >Nashville</td>\n",
       "                        <td id=\"T_8b262_row39_col1\" class=\"data row39 col1\" >4</td>\n",
       "                        <td id=\"T_8b262_row39_col2\" class=\"data row39 col2\" >APRIL    </td>\n",
       "                        <td id=\"T_8b262_row39_col3\" class=\"data row39 col3\" >1213176</td>\n",
       "            </tr>\n",
       "            <tr>\n",
       "                        <th id=\"T_8b262_level0_row40\" class=\"row_heading level0 row40\" >40</th>\n",
       "                        <td id=\"T_8b262_row40_col0\" class=\"data row40 col0\" >Nashville</td>\n",
       "                        <td id=\"T_8b262_row40_col1\" class=\"data row40 col1\" >5</td>\n",
       "                        <td id=\"T_8b262_row40_col2\" class=\"data row40 col2\" >MAY      </td>\n",
       "                        <td id=\"T_8b262_row40_col3\" class=\"data row40 col3\" >1183092</td>\n",
       "            </tr>\n",
       "            <tr>\n",
       "                        <th id=\"T_8b262_level0_row41\" class=\"row_heading level0 row41\" >41</th>\n",
       "                        <td id=\"T_8b262_row41_col0\" class=\"data row41 col0\" >Nashville</td>\n",
       "                        <td id=\"T_8b262_row41_col1\" class=\"data row41 col1\" >6</td>\n",
       "                        <td id=\"T_8b262_row41_col2\" class=\"data row41 col2\" >JUNE     </td>\n",
       "                        <td id=\"T_8b262_row41_col3\" class=\"data row41 col3\" >1215228</td>\n",
       "            </tr>\n",
       "            <tr>\n",
       "                        <th id=\"T_8b262_level0_row42\" class=\"row_heading level0 row42\" >42</th>\n",
       "                        <td id=\"T_8b262_row42_col0\" class=\"data row42 col0\" >Nashville</td>\n",
       "                        <td id=\"T_8b262_row42_col1\" class=\"data row42 col1\" >7</td>\n",
       "                        <td id=\"T_8b262_row42_col2\" class=\"data row42 col2\" >JULY     </td>\n",
       "                        <td id=\"T_8b262_row42_col3\" class=\"data row42 col3\" >1177284</td>\n",
       "            </tr>\n",
       "            <tr>\n",
       "                        <th id=\"T_8b262_level0_row43\" class=\"row_heading level0 row43\" >43</th>\n",
       "                        <td id=\"T_8b262_row43_col0\" class=\"data row43 col0\" >Nashville</td>\n",
       "                        <td id=\"T_8b262_row43_col1\" class=\"data row43 col1\" >8</td>\n",
       "                        <td id=\"T_8b262_row43_col2\" class=\"data row43 col2\" >AUGUST   </td>\n",
       "                        <td id=\"T_8b262_row43_col3\" class=\"data row43 col3\" >1320444</td>\n",
       "            </tr>\n",
       "            <tr>\n",
       "                        <th id=\"T_8b262_level0_row44\" class=\"row_heading level0 row44\" >44</th>\n",
       "                        <td id=\"T_8b262_row44_col0\" class=\"data row44 col0\" >Nashville</td>\n",
       "                        <td id=\"T_8b262_row44_col1\" class=\"data row44 col1\" >9</td>\n",
       "                        <td id=\"T_8b262_row44_col2\" class=\"data row44 col2\" >SEPTEMBER</td>\n",
       "                        <td id=\"T_8b262_row44_col3\" class=\"data row44 col3\" >1116972</td>\n",
       "            </tr>\n",
       "            <tr>\n",
       "                        <th id=\"T_8b262_level0_row45\" class=\"row_heading level0 row45\" >45</th>\n",
       "                        <td id=\"T_8b262_row45_col0\" class=\"data row45 col0\" >Nashville</td>\n",
       "                        <td id=\"T_8b262_row45_col1\" class=\"data row45 col1\" >10</td>\n",
       "                        <td id=\"T_8b262_row45_col2\" class=\"data row45 col2\" >OCTOBER  </td>\n",
       "                        <td id=\"T_8b262_row45_col3\" class=\"data row45 col3\" >1317600</td>\n",
       "            </tr>\n",
       "            <tr>\n",
       "                        <th id=\"T_8b262_level0_row46\" class=\"row_heading level0 row46\" >46</th>\n",
       "                        <td id=\"T_8b262_row46_col0\" class=\"data row46 col0\" >Nashville</td>\n",
       "                        <td id=\"T_8b262_row46_col1\" class=\"data row46 col1\" >11</td>\n",
       "                        <td id=\"T_8b262_row46_col2\" class=\"data row46 col2\" >NOVEMBER </td>\n",
       "                        <td id=\"T_8b262_row46_col3\" class=\"data row46 col3\" >1247364</td>\n",
       "            </tr>\n",
       "            <tr>\n",
       "                        <th id=\"T_8b262_level0_row47\" class=\"row_heading level0 row47\" >47</th>\n",
       "                        <td id=\"T_8b262_row47_col0\" class=\"data row47 col0\" >Nashville</td>\n",
       "                        <td id=\"T_8b262_row47_col1\" class=\"data row47 col1\" >12</td>\n",
       "                        <td id=\"T_8b262_row47_col2\" class=\"data row47 col2\" >DECEMBER </td>\n",
       "                        <td id=\"T_8b262_row47_col3\" class=\"data row47 col3\" >1227408</td>\n",
       "            </tr>\n",
       "            <tr>\n",
       "                        <th id=\"T_8b262_level0_row48\" class=\"row_heading level0 row48\" >48</th>\n",
       "                        <td id=\"T_8b262_row48_col0\" class=\"data row48 col0\" >Seattle</td>\n",
       "                        <td id=\"T_8b262_row48_col1\" class=\"data row48 col1\" >1</td>\n",
       "                        <td id=\"T_8b262_row48_col2\" class=\"data row48 col2\" >JANUARY  </td>\n",
       "                        <td id=\"T_8b262_row48_col3\" class=\"data row48 col3\" >1743060</td>\n",
       "            </tr>\n",
       "            <tr>\n",
       "                        <th id=\"T_8b262_level0_row49\" class=\"row_heading level0 row49\" >49</th>\n",
       "                        <td id=\"T_8b262_row49_col0\" class=\"data row49 col0\" >Seattle</td>\n",
       "                        <td id=\"T_8b262_row49_col1\" class=\"data row49 col1\" >2</td>\n",
       "                        <td id=\"T_8b262_row49_col2\" class=\"data row49 col2\" >FEBRUARY </td>\n",
       "                        <td id=\"T_8b262_row49_col3\" class=\"data row49 col3\" >1690008</td>\n",
       "            </tr>\n",
       "            <tr>\n",
       "                        <th id=\"T_8b262_level0_row50\" class=\"row_heading level0 row50\" >50</th>\n",
       "                        <td id=\"T_8b262_row50_col0\" class=\"data row50 col0\" >Seattle</td>\n",
       "                        <td id=\"T_8b262_row50_col1\" class=\"data row50 col1\" >3</td>\n",
       "                        <td id=\"T_8b262_row50_col2\" class=\"data row50 col2\" >MARCH    </td>\n",
       "                        <td id=\"T_8b262_row50_col3\" class=\"data row50 col3\" >1953696</td>\n",
       "            </tr>\n",
       "            <tr>\n",
       "                        <th id=\"T_8b262_level0_row51\" class=\"row_heading level0 row51\" >51</th>\n",
       "                        <td id=\"T_8b262_row51_col0\" class=\"data row51 col0\" >Seattle</td>\n",
       "                        <td id=\"T_8b262_row51_col1\" class=\"data row51 col1\" >4</td>\n",
       "                        <td id=\"T_8b262_row51_col2\" class=\"data row51 col2\" >APRIL    </td>\n",
       "                        <td id=\"T_8b262_row51_col3\" class=\"data row51 col3\" >1836552</td>\n",
       "            </tr>\n",
       "            <tr>\n",
       "                        <th id=\"T_8b262_level0_row52\" class=\"row_heading level0 row52\" >52</th>\n",
       "                        <td id=\"T_8b262_row52_col0\" class=\"data row52 col0\" >Seattle</td>\n",
       "                        <td id=\"T_8b262_row52_col1\" class=\"data row52 col1\" >5</td>\n",
       "                        <td id=\"T_8b262_row52_col2\" class=\"data row52 col2\" >MAY      </td>\n",
       "                        <td id=\"T_8b262_row52_col3\" class=\"data row52 col3\" >1777164</td>\n",
       "            </tr>\n",
       "            <tr>\n",
       "                        <th id=\"T_8b262_level0_row53\" class=\"row_heading level0 row53\" >53</th>\n",
       "                        <td id=\"T_8b262_row53_col0\" class=\"data row53 col0\" >Seattle</td>\n",
       "                        <td id=\"T_8b262_row53_col1\" class=\"data row53 col1\" >6</td>\n",
       "                        <td id=\"T_8b262_row53_col2\" class=\"data row53 col2\" >JUNE     </td>\n",
       "                        <td id=\"T_8b262_row53_col3\" class=\"data row53 col3\" >1791276</td>\n",
       "            </tr>\n",
       "            <tr>\n",
       "                        <th id=\"T_8b262_level0_row54\" class=\"row_heading level0 row54\" >54</th>\n",
       "                        <td id=\"T_8b262_row54_col0\" class=\"data row54 col0\" >Seattle</td>\n",
       "                        <td id=\"T_8b262_row54_col1\" class=\"data row54 col1\" >7</td>\n",
       "                        <td id=\"T_8b262_row54_col2\" class=\"data row54 col2\" >JULY     </td>\n",
       "                        <td id=\"T_8b262_row54_col3\" class=\"data row54 col3\" >1780932</td>\n",
       "            </tr>\n",
       "            <tr>\n",
       "                        <th id=\"T_8b262_level0_row55\" class=\"row_heading level0 row55\" >55</th>\n",
       "                        <td id=\"T_8b262_row55_col0\" class=\"data row55 col0\" >Seattle</td>\n",
       "                        <td id=\"T_8b262_row55_col1\" class=\"data row55 col1\" >8</td>\n",
       "                        <td id=\"T_8b262_row55_col2\" class=\"data row55 col2\" >AUGUST   </td>\n",
       "                        <td id=\"T_8b262_row55_col3\" class=\"data row55 col3\" >2017596</td>\n",
       "            </tr>\n",
       "            <tr>\n",
       "                        <th id=\"T_8b262_level0_row56\" class=\"row_heading level0 row56\" >56</th>\n",
       "                        <td id=\"T_8b262_row56_col0\" class=\"data row56 col0\" >Seattle</td>\n",
       "                        <td id=\"T_8b262_row56_col1\" class=\"data row56 col1\" >9</td>\n",
       "                        <td id=\"T_8b262_row56_col2\" class=\"data row56 col2\" >SEPTEMBER</td>\n",
       "                        <td id=\"T_8b262_row56_col3\" class=\"data row56 col3\" >1698144</td>\n",
       "            </tr>\n",
       "            <tr>\n",
       "                        <th id=\"T_8b262_level0_row57\" class=\"row_heading level0 row57\" >57</th>\n",
       "                        <td id=\"T_8b262_row57_col0\" class=\"data row57 col0\" >Seattle</td>\n",
       "                        <td id=\"T_8b262_row57_col1\" class=\"data row57 col1\" >10</td>\n",
       "                        <td id=\"T_8b262_row57_col2\" class=\"data row57 col2\" >OCTOBER  </td>\n",
       "                        <td id=\"T_8b262_row57_col3\" class=\"data row57 col3\" >1984572</td>\n",
       "            </tr>\n",
       "            <tr>\n",
       "                        <th id=\"T_8b262_level0_row58\" class=\"row_heading level0 row58\" >58</th>\n",
       "                        <td id=\"T_8b262_row58_col0\" class=\"data row58 col0\" >Seattle</td>\n",
       "                        <td id=\"T_8b262_row58_col1\" class=\"data row58 col1\" >11</td>\n",
       "                        <td id=\"T_8b262_row58_col2\" class=\"data row58 col2\" >NOVEMBER </td>\n",
       "                        <td id=\"T_8b262_row58_col3\" class=\"data row58 col3\" >1875456</td>\n",
       "            </tr>\n",
       "            <tr>\n",
       "                        <th id=\"T_8b262_level0_row59\" class=\"row_heading level0 row59\" >59</th>\n",
       "                        <td id=\"T_8b262_row59_col0\" class=\"data row59 col0\" >Seattle</td>\n",
       "                        <td id=\"T_8b262_row59_col1\" class=\"data row59 col1\" >12</td>\n",
       "                        <td id=\"T_8b262_row59_col2\" class=\"data row59 col2\" >DECEMBER </td>\n",
       "                        <td id=\"T_8b262_row59_col3\" class=\"data row59 col3\" >1876056</td>\n",
       "            </tr>\n",
       "    </tbody></table>"
      ],
      "text/plain": [
       "<pandas.io.formats.style.Styler at 0x7f127411c7c0>"
      ]
     },
     "execution_count": 20,
     "metadata": {},
     "output_type": "execute_result"
    }
   ],
   "source": [
    "def sales_by_store_month():\n",
    "    # Total Sales as a Dollar Amount by Store and Month\n",
    "    rollback_before_flag = True\n",
    "    rollback_after_flag = True\n",
    "    query = \"\"\"\n",
    "\n",
    "    SELECT s.city as store, \n",
    "           EXTRACT(MONTH FROM sa.sale_date) as month_num, \n",
    "           to_char(sa.sale_date, 'MONTH') as month_name, \n",
    "           sum(sa.total_amount) as total_amount\n",
    "    FROM stores as s\n",
    "        JOIN sales as sa\n",
    "            ON s.store_id = sa.store_id\n",
    "    GROUP BY store, month_num, month_name\n",
    "    ORDER BY store, month_num, month_name\n",
    "\n",
    "    \"\"\"\n",
    "    return my_select_query_pandas(query, rollback_before_flag, rollback_after_flag)\n",
    "\n",
    "sales_by_store_month().style.set_caption('Total Sales as a Dollar Amount by Store and Month')\n"
   ]
  },
  {
   "cell_type": "markdown",
   "id": "f3e49416",
   "metadata": {},
   "source": [
    "Breaking up total amount by month into stores show that all stores follow the same pattern."
   ]
  },
  {
   "cell_type": "markdown",
   "id": "3481ef2a",
   "metadata": {},
   "source": [
    "# 1.1.5 Total Sales as a Dollar Amount by Day of Week\n",
    "\n",
    "Sort by day of week in day of week order."
   ]
  },
  {
   "cell_type": "code",
   "execution_count": 21,
   "id": "a0fbfd70",
   "metadata": {},
   "outputs": [
    {
     "data": {
      "text/html": [
       "<style  type=\"text/css\" >\n",
       "</style><table id=\"T_7cc9a_\" ><caption>Total Sales as a Dollar Amount by Day of Week</caption><thead>    <tr>        <th class=\"blank level0\" ></th>        <th class=\"col_heading level0 col0\" >dow</th>        <th class=\"col_heading level0 col1\" >day_of_week</th>        <th class=\"col_heading level0 col2\" >total_amount</th>    </tr></thead><tbody>\n",
       "                <tr>\n",
       "                        <th id=\"T_7cc9a_level0_row0\" class=\"row_heading level0 row0\" >0</th>\n",
       "                        <td id=\"T_7cc9a_row0_col0\" class=\"data row0 col0\" >0</td>\n",
       "                        <td id=\"T_7cc9a_row0_col1\" class=\"data row0 col1\" >Sunday   </td>\n",
       "                        <td id=\"T_7cc9a_row0_col2\" class=\"data row0 col2\" >18589068</td>\n",
       "            </tr>\n",
       "            <tr>\n",
       "                        <th id=\"T_7cc9a_level0_row1\" class=\"row_heading level0 row1\" >1</th>\n",
       "                        <td id=\"T_7cc9a_row1_col0\" class=\"data row1 col0\" >1</td>\n",
       "                        <td id=\"T_7cc9a_row1_col1\" class=\"data row1 col1\" >Monday   </td>\n",
       "                        <td id=\"T_7cc9a_row1_col2\" class=\"data row1 col2\" >13167720</td>\n",
       "            </tr>\n",
       "            <tr>\n",
       "                        <th id=\"T_7cc9a_level0_row2\" class=\"row_heading level0 row2\" >2</th>\n",
       "                        <td id=\"T_7cc9a_row2_col0\" class=\"data row2 col0\" >2</td>\n",
       "                        <td id=\"T_7cc9a_row2_col1\" class=\"data row2 col1\" >Tuesday  </td>\n",
       "                        <td id=\"T_7cc9a_row2_col2\" class=\"data row2 col2\" >6895332</td>\n",
       "            </tr>\n",
       "            <tr>\n",
       "                        <th id=\"T_7cc9a_level0_row3\" class=\"row_heading level0 row3\" >3</th>\n",
       "                        <td id=\"T_7cc9a_row3_col0\" class=\"data row3 col0\" >3</td>\n",
       "                        <td id=\"T_7cc9a_row3_col1\" class=\"data row3 col1\" >Wednesday</td>\n",
       "                        <td id=\"T_7cc9a_row3_col2\" class=\"data row3 col2\" >13952556</td>\n",
       "            </tr>\n",
       "            <tr>\n",
       "                        <th id=\"T_7cc9a_level0_row4\" class=\"row_heading level0 row4\" >4</th>\n",
       "                        <td id=\"T_7cc9a_row4_col0\" class=\"data row4 col0\" >4</td>\n",
       "                        <td id=\"T_7cc9a_row4_col1\" class=\"data row4 col1\" >Thursday </td>\n",
       "                        <td id=\"T_7cc9a_row4_col2\" class=\"data row4 col2\" >13834644</td>\n",
       "            </tr>\n",
       "            <tr>\n",
       "                        <th id=\"T_7cc9a_level0_row5\" class=\"row_heading level0 row5\" >5</th>\n",
       "                        <td id=\"T_7cc9a_row5_col0\" class=\"data row5 col0\" >5</td>\n",
       "                        <td id=\"T_7cc9a_row5_col1\" class=\"data row5 col1\" >Friday   </td>\n",
       "                        <td id=\"T_7cc9a_row5_col2\" class=\"data row5 col2\" >12878628</td>\n",
       "            </tr>\n",
       "            <tr>\n",
       "                        <th id=\"T_7cc9a_level0_row6\" class=\"row_heading level0 row6\" >6</th>\n",
       "                        <td id=\"T_7cc9a_row6_col0\" class=\"data row6 col0\" >6</td>\n",
       "                        <td id=\"T_7cc9a_row6_col1\" class=\"data row6 col1\" >Saturday </td>\n",
       "                        <td id=\"T_7cc9a_row6_col2\" class=\"data row6 col2\" >19421460</td>\n",
       "            </tr>\n",
       "    </tbody></table>"
      ],
      "text/plain": [
       "<pandas.io.formats.style.Styler at 0x7f12743750d0>"
      ]
     },
     "execution_count": 21,
     "metadata": {},
     "output_type": "execute_result"
    }
   ],
   "source": [
    "def sales_by_dow():\n",
    "    # Total Sales as a Dollar Amount by Day of Week\n",
    "    rollback_before_flag = True\n",
    "    rollback_after_flag = True\n",
    "    query = \"\"\"\n",
    "\n",
    "    SELECT \n",
    "        EXTRACT(dow FROM sale_date) as dow, \n",
    "        to_char(sale_date, 'Day') as day_of_week, \n",
    "        sum(total_amount) as total_amount\n",
    "    FROM sales\n",
    "    GROUP BY dow, day_of_week\n",
    "    ORDER By dow, day_of_week\n",
    "\n",
    "    \"\"\"\n",
    "    return my_select_query_pandas(query, rollback_before_flag, rollback_after_flag)\n",
    "\n",
    "sales_by_dow().style.set_caption('Total Sales as a Dollar Amount by Day of Week')\n"
   ]
  },
  {
   "cell_type": "markdown",
   "id": "cdd5456a",
   "metadata": {},
   "source": [
    "Sales are highest on Saturday followed by Sunday. There is a dip in sales on Tuesdays."
   ]
  },
  {
   "cell_type": "markdown",
   "id": "dfe1a9e9",
   "metadata": {},
   "source": [
    "# 1.1.6 Total Sales as a Dollar Amount by Store and Day of Week\n",
    "\n",
    "Sort by store name in alphabetical order, then by day of week in day of week order."
   ]
  },
  {
   "cell_type": "code",
   "execution_count": 22,
   "id": "52f8a73c",
   "metadata": {},
   "outputs": [
    {
     "data": {
      "text/html": [
       "<style  type=\"text/css\" >\n",
       "</style><table id=\"T_5fcb8_\" ><caption>Total Sales as a Dollar Amount by Store and Day of Week</caption><thead>    <tr>        <th class=\"blank level0\" ></th>        <th class=\"col_heading level0 col0\" >store</th>        <th class=\"col_heading level0 col1\" >dow</th>        <th class=\"col_heading level0 col2\" >day_of_week</th>        <th class=\"col_heading level0 col3\" >total_amount</th>    </tr></thead><tbody>\n",
       "                <tr>\n",
       "                        <th id=\"T_5fcb8_level0_row0\" class=\"row_heading level0 row0\" >0</th>\n",
       "                        <td id=\"T_5fcb8_row0_col0\" class=\"data row0 col0\" >Berkeley</td>\n",
       "                        <td id=\"T_5fcb8_row0_col1\" class=\"data row0 col1\" >0</td>\n",
       "                        <td id=\"T_5fcb8_row0_col2\" class=\"data row0 col2\" >Sunday   </td>\n",
       "                        <td id=\"T_5fcb8_row0_col3\" class=\"data row0 col3\" >4694640</td>\n",
       "            </tr>\n",
       "            <tr>\n",
       "                        <th id=\"T_5fcb8_level0_row1\" class=\"row_heading level0 row1\" >1</th>\n",
       "                        <td id=\"T_5fcb8_row1_col0\" class=\"data row1 col0\" >Berkeley</td>\n",
       "                        <td id=\"T_5fcb8_row1_col1\" class=\"data row1 col1\" >1</td>\n",
       "                        <td id=\"T_5fcb8_row1_col2\" class=\"data row1 col2\" >Monday   </td>\n",
       "                        <td id=\"T_5fcb8_row1_col3\" class=\"data row1 col3\" >3340116</td>\n",
       "            </tr>\n",
       "            <tr>\n",
       "                        <th id=\"T_5fcb8_level0_row2\" class=\"row_heading level0 row2\" >2</th>\n",
       "                        <td id=\"T_5fcb8_row2_col0\" class=\"data row2 col0\" >Berkeley</td>\n",
       "                        <td id=\"T_5fcb8_row2_col1\" class=\"data row2 col1\" >2</td>\n",
       "                        <td id=\"T_5fcb8_row2_col2\" class=\"data row2 col2\" >Tuesday  </td>\n",
       "                        <td id=\"T_5fcb8_row2_col3\" class=\"data row2 col3\" >1752036</td>\n",
       "            </tr>\n",
       "            <tr>\n",
       "                        <th id=\"T_5fcb8_level0_row3\" class=\"row_heading level0 row3\" >3</th>\n",
       "                        <td id=\"T_5fcb8_row3_col0\" class=\"data row3 col0\" >Berkeley</td>\n",
       "                        <td id=\"T_5fcb8_row3_col1\" class=\"data row3 col1\" >3</td>\n",
       "                        <td id=\"T_5fcb8_row3_col2\" class=\"data row3 col2\" >Wednesday</td>\n",
       "                        <td id=\"T_5fcb8_row3_col3\" class=\"data row3 col3\" >3546144</td>\n",
       "            </tr>\n",
       "            <tr>\n",
       "                        <th id=\"T_5fcb8_level0_row4\" class=\"row_heading level0 row4\" >4</th>\n",
       "                        <td id=\"T_5fcb8_row4_col0\" class=\"data row4 col0\" >Berkeley</td>\n",
       "                        <td id=\"T_5fcb8_row4_col1\" class=\"data row4 col1\" >4</td>\n",
       "                        <td id=\"T_5fcb8_row4_col2\" class=\"data row4 col2\" >Thursday </td>\n",
       "                        <td id=\"T_5fcb8_row4_col3\" class=\"data row4 col3\" >3507660</td>\n",
       "            </tr>\n",
       "            <tr>\n",
       "                        <th id=\"T_5fcb8_level0_row5\" class=\"row_heading level0 row5\" >5</th>\n",
       "                        <td id=\"T_5fcb8_row5_col0\" class=\"data row5 col0\" >Berkeley</td>\n",
       "                        <td id=\"T_5fcb8_row5_col1\" class=\"data row5 col1\" >5</td>\n",
       "                        <td id=\"T_5fcb8_row5_col2\" class=\"data row5 col2\" >Friday   </td>\n",
       "                        <td id=\"T_5fcb8_row5_col3\" class=\"data row5 col3\" >3273240</td>\n",
       "            </tr>\n",
       "            <tr>\n",
       "                        <th id=\"T_5fcb8_level0_row6\" class=\"row_heading level0 row6\" >6</th>\n",
       "                        <td id=\"T_5fcb8_row6_col0\" class=\"data row6 col0\" >Berkeley</td>\n",
       "                        <td id=\"T_5fcb8_row6_col1\" class=\"data row6 col1\" >6</td>\n",
       "                        <td id=\"T_5fcb8_row6_col2\" class=\"data row6 col2\" >Saturday </td>\n",
       "                        <td id=\"T_5fcb8_row6_col3\" class=\"data row6 col3\" >4927224</td>\n",
       "            </tr>\n",
       "            <tr>\n",
       "                        <th id=\"T_5fcb8_level0_row7\" class=\"row_heading level0 row7\" >7</th>\n",
       "                        <td id=\"T_5fcb8_row7_col0\" class=\"data row7 col0\" >Dallas</td>\n",
       "                        <td id=\"T_5fcb8_row7_col1\" class=\"data row7 col1\" >0</td>\n",
       "                        <td id=\"T_5fcb8_row7_col2\" class=\"data row7 col2\" >Sunday   </td>\n",
       "                        <td id=\"T_5fcb8_row7_col3\" class=\"data row7 col3\" >3650748</td>\n",
       "            </tr>\n",
       "            <tr>\n",
       "                        <th id=\"T_5fcb8_level0_row8\" class=\"row_heading level0 row8\" >8</th>\n",
       "                        <td id=\"T_5fcb8_row8_col0\" class=\"data row8 col0\" >Dallas</td>\n",
       "                        <td id=\"T_5fcb8_row8_col1\" class=\"data row8 col1\" >1</td>\n",
       "                        <td id=\"T_5fcb8_row8_col2\" class=\"data row8 col2\" >Monday   </td>\n",
       "                        <td id=\"T_5fcb8_row8_col3\" class=\"data row8 col3\" >2602980</td>\n",
       "            </tr>\n",
       "            <tr>\n",
       "                        <th id=\"T_5fcb8_level0_row9\" class=\"row_heading level0 row9\" >9</th>\n",
       "                        <td id=\"T_5fcb8_row9_col0\" class=\"data row9 col0\" >Dallas</td>\n",
       "                        <td id=\"T_5fcb8_row9_col1\" class=\"data row9 col1\" >2</td>\n",
       "                        <td id=\"T_5fcb8_row9_col2\" class=\"data row9 col2\" >Tuesday  </td>\n",
       "                        <td id=\"T_5fcb8_row9_col3\" class=\"data row9 col3\" >1352760</td>\n",
       "            </tr>\n",
       "            <tr>\n",
       "                        <th id=\"T_5fcb8_level0_row10\" class=\"row_heading level0 row10\" >10</th>\n",
       "                        <td id=\"T_5fcb8_row10_col0\" class=\"data row10 col0\" >Dallas</td>\n",
       "                        <td id=\"T_5fcb8_row10_col1\" class=\"data row10 col1\" >3</td>\n",
       "                        <td id=\"T_5fcb8_row10_col2\" class=\"data row10 col2\" >Wednesday</td>\n",
       "                        <td id=\"T_5fcb8_row10_col3\" class=\"data row10 col3\" >2749956</td>\n",
       "            </tr>\n",
       "            <tr>\n",
       "                        <th id=\"T_5fcb8_level0_row11\" class=\"row_heading level0 row11\" >11</th>\n",
       "                        <td id=\"T_5fcb8_row11_col0\" class=\"data row11 col0\" >Dallas</td>\n",
       "                        <td id=\"T_5fcb8_row11_col1\" class=\"data row11 col1\" >4</td>\n",
       "                        <td id=\"T_5fcb8_row11_col2\" class=\"data row11 col2\" >Thursday </td>\n",
       "                        <td id=\"T_5fcb8_row11_col3\" class=\"data row11 col3\" >2722356</td>\n",
       "            </tr>\n",
       "            <tr>\n",
       "                        <th id=\"T_5fcb8_level0_row12\" class=\"row_heading level0 row12\" >12</th>\n",
       "                        <td id=\"T_5fcb8_row12_col0\" class=\"data row12 col0\" >Dallas</td>\n",
       "                        <td id=\"T_5fcb8_row12_col1\" class=\"data row12 col1\" >5</td>\n",
       "                        <td id=\"T_5fcb8_row12_col2\" class=\"data row12 col2\" >Friday   </td>\n",
       "                        <td id=\"T_5fcb8_row12_col3\" class=\"data row12 col3\" >2517408</td>\n",
       "            </tr>\n",
       "            <tr>\n",
       "                        <th id=\"T_5fcb8_level0_row13\" class=\"row_heading level0 row13\" >13</th>\n",
       "                        <td id=\"T_5fcb8_row13_col0\" class=\"data row13 col0\" >Dallas</td>\n",
       "                        <td id=\"T_5fcb8_row13_col1\" class=\"data row13 col1\" >6</td>\n",
       "                        <td id=\"T_5fcb8_row13_col2\" class=\"data row13 col2\" >Saturday </td>\n",
       "                        <td id=\"T_5fcb8_row13_col3\" class=\"data row13 col3\" >3812052</td>\n",
       "            </tr>\n",
       "            <tr>\n",
       "                        <th id=\"T_5fcb8_level0_row14\" class=\"row_heading level0 row14\" >14</th>\n",
       "                        <td id=\"T_5fcb8_row14_col0\" class=\"data row14 col0\" >Miami</td>\n",
       "                        <td id=\"T_5fcb8_row14_col1\" class=\"data row14 col1\" >0</td>\n",
       "                        <td id=\"T_5fcb8_row14_col2\" class=\"data row14 col2\" >Sunday   </td>\n",
       "                        <td id=\"T_5fcb8_row14_col3\" class=\"data row14 col3\" >3331680</td>\n",
       "            </tr>\n",
       "            <tr>\n",
       "                        <th id=\"T_5fcb8_level0_row15\" class=\"row_heading level0 row15\" >15</th>\n",
       "                        <td id=\"T_5fcb8_row15_col0\" class=\"data row15 col0\" >Miami</td>\n",
       "                        <td id=\"T_5fcb8_row15_col1\" class=\"data row15 col1\" >1</td>\n",
       "                        <td id=\"T_5fcb8_row15_col2\" class=\"data row15 col2\" >Monday   </td>\n",
       "                        <td id=\"T_5fcb8_row15_col3\" class=\"data row15 col3\" >2364624</td>\n",
       "            </tr>\n",
       "            <tr>\n",
       "                        <th id=\"T_5fcb8_level0_row16\" class=\"row_heading level0 row16\" >16</th>\n",
       "                        <td id=\"T_5fcb8_row16_col0\" class=\"data row16 col0\" >Miami</td>\n",
       "                        <td id=\"T_5fcb8_row16_col1\" class=\"data row16 col1\" >2</td>\n",
       "                        <td id=\"T_5fcb8_row16_col2\" class=\"data row16 col2\" >Tuesday  </td>\n",
       "                        <td id=\"T_5fcb8_row16_col3\" class=\"data row16 col3\" >1232220</td>\n",
       "            </tr>\n",
       "            <tr>\n",
       "                        <th id=\"T_5fcb8_level0_row17\" class=\"row_heading level0 row17\" >17</th>\n",
       "                        <td id=\"T_5fcb8_row17_col0\" class=\"data row17 col0\" >Miami</td>\n",
       "                        <td id=\"T_5fcb8_row17_col1\" class=\"data row17 col1\" >3</td>\n",
       "                        <td id=\"T_5fcb8_row17_col2\" class=\"data row17 col2\" >Wednesday</td>\n",
       "                        <td id=\"T_5fcb8_row17_col3\" class=\"data row17 col3\" >2484180</td>\n",
       "            </tr>\n",
       "            <tr>\n",
       "                        <th id=\"T_5fcb8_level0_row18\" class=\"row_heading level0 row18\" >18</th>\n",
       "                        <td id=\"T_5fcb8_row18_col0\" class=\"data row18 col0\" >Miami</td>\n",
       "                        <td id=\"T_5fcb8_row18_col1\" class=\"data row18 col1\" >4</td>\n",
       "                        <td id=\"T_5fcb8_row18_col2\" class=\"data row18 col2\" >Thursday </td>\n",
       "                        <td id=\"T_5fcb8_row18_col3\" class=\"data row18 col3\" >2478768</td>\n",
       "            </tr>\n",
       "            <tr>\n",
       "                        <th id=\"T_5fcb8_level0_row19\" class=\"row_heading level0 row19\" >19</th>\n",
       "                        <td id=\"T_5fcb8_row19_col0\" class=\"data row19 col0\" >Miami</td>\n",
       "                        <td id=\"T_5fcb8_row19_col1\" class=\"data row19 col1\" >5</td>\n",
       "                        <td id=\"T_5fcb8_row19_col2\" class=\"data row19 col2\" >Friday   </td>\n",
       "                        <td id=\"T_5fcb8_row19_col3\" class=\"data row19 col3\" >2321196</td>\n",
       "            </tr>\n",
       "            <tr>\n",
       "                        <th id=\"T_5fcb8_level0_row20\" class=\"row_heading level0 row20\" >20</th>\n",
       "                        <td id=\"T_5fcb8_row20_col0\" class=\"data row20 col0\" >Miami</td>\n",
       "                        <td id=\"T_5fcb8_row20_col1\" class=\"data row20 col1\" >6</td>\n",
       "                        <td id=\"T_5fcb8_row20_col2\" class=\"data row20 col2\" >Saturday </td>\n",
       "                        <td id=\"T_5fcb8_row20_col3\" class=\"data row20 col3\" >3479736</td>\n",
       "            </tr>\n",
       "            <tr>\n",
       "                        <th id=\"T_5fcb8_level0_row21\" class=\"row_heading level0 row21\" >21</th>\n",
       "                        <td id=\"T_5fcb8_row21_col0\" class=\"data row21 col0\" >Nashville</td>\n",
       "                        <td id=\"T_5fcb8_row21_col1\" class=\"data row21 col1\" >0</td>\n",
       "                        <td id=\"T_5fcb8_row21_col2\" class=\"data row21 col2\" >Sunday   </td>\n",
       "                        <td id=\"T_5fcb8_row21_col3\" class=\"data row21 col3\" >2743644</td>\n",
       "            </tr>\n",
       "            <tr>\n",
       "                        <th id=\"T_5fcb8_level0_row22\" class=\"row_heading level0 row22\" >22</th>\n",
       "                        <td id=\"T_5fcb8_row22_col0\" class=\"data row22 col0\" >Nashville</td>\n",
       "                        <td id=\"T_5fcb8_row22_col1\" class=\"data row22 col1\" >1</td>\n",
       "                        <td id=\"T_5fcb8_row22_col2\" class=\"data row22 col2\" >Monday   </td>\n",
       "                        <td id=\"T_5fcb8_row22_col3\" class=\"data row22 col3\" >1946532</td>\n",
       "            </tr>\n",
       "            <tr>\n",
       "                        <th id=\"T_5fcb8_level0_row23\" class=\"row_heading level0 row23\" >23</th>\n",
       "                        <td id=\"T_5fcb8_row23_col0\" class=\"data row23 col0\" >Nashville</td>\n",
       "                        <td id=\"T_5fcb8_row23_col1\" class=\"data row23 col1\" >2</td>\n",
       "                        <td id=\"T_5fcb8_row23_col2\" class=\"data row23 col2\" >Tuesday  </td>\n",
       "                        <td id=\"T_5fcb8_row23_col3\" class=\"data row23 col3\" >1015344</td>\n",
       "            </tr>\n",
       "            <tr>\n",
       "                        <th id=\"T_5fcb8_level0_row24\" class=\"row_heading level0 row24\" >24</th>\n",
       "                        <td id=\"T_5fcb8_row24_col0\" class=\"data row24 col0\" >Nashville</td>\n",
       "                        <td id=\"T_5fcb8_row24_col1\" class=\"data row24 col1\" >3</td>\n",
       "                        <td id=\"T_5fcb8_row24_col2\" class=\"data row24 col2\" >Wednesday</td>\n",
       "                        <td id=\"T_5fcb8_row24_col3\" class=\"data row24 col3\" >2061324</td>\n",
       "            </tr>\n",
       "            <tr>\n",
       "                        <th id=\"T_5fcb8_level0_row25\" class=\"row_heading level0 row25\" >25</th>\n",
       "                        <td id=\"T_5fcb8_row25_col0\" class=\"data row25 col0\" >Nashville</td>\n",
       "                        <td id=\"T_5fcb8_row25_col1\" class=\"data row25 col1\" >4</td>\n",
       "                        <td id=\"T_5fcb8_row25_col2\" class=\"data row25 col2\" >Thursday </td>\n",
       "                        <td id=\"T_5fcb8_row25_col3\" class=\"data row25 col3\" >2031072</td>\n",
       "            </tr>\n",
       "            <tr>\n",
       "                        <th id=\"T_5fcb8_level0_row26\" class=\"row_heading level0 row26\" >26</th>\n",
       "                        <td id=\"T_5fcb8_row26_col0\" class=\"data row26 col0\" >Nashville</td>\n",
       "                        <td id=\"T_5fcb8_row26_col1\" class=\"data row26 col1\" >5</td>\n",
       "                        <td id=\"T_5fcb8_row26_col2\" class=\"data row26 col2\" >Friday   </td>\n",
       "                        <td id=\"T_5fcb8_row26_col3\" class=\"data row26 col3\" >1909512</td>\n",
       "            </tr>\n",
       "            <tr>\n",
       "                        <th id=\"T_5fcb8_level0_row27\" class=\"row_heading level0 row27\" >27</th>\n",
       "                        <td id=\"T_5fcb8_row27_col0\" class=\"data row27 col0\" >Nashville</td>\n",
       "                        <td id=\"T_5fcb8_row27_col1\" class=\"data row27 col1\" >6</td>\n",
       "                        <td id=\"T_5fcb8_row27_col2\" class=\"data row27 col2\" >Saturday </td>\n",
       "                        <td id=\"T_5fcb8_row27_col3\" class=\"data row27 col3\" >2865744</td>\n",
       "            </tr>\n",
       "            <tr>\n",
       "                        <th id=\"T_5fcb8_level0_row28\" class=\"row_heading level0 row28\" >28</th>\n",
       "                        <td id=\"T_5fcb8_row28_col0\" class=\"data row28 col0\" >Seattle</td>\n",
       "                        <td id=\"T_5fcb8_row28_col1\" class=\"data row28 col1\" >0</td>\n",
       "                        <td id=\"T_5fcb8_row28_col2\" class=\"data row28 col2\" >Sunday   </td>\n",
       "                        <td id=\"T_5fcb8_row28_col3\" class=\"data row28 col3\" >4168356</td>\n",
       "            </tr>\n",
       "            <tr>\n",
       "                        <th id=\"T_5fcb8_level0_row29\" class=\"row_heading level0 row29\" >29</th>\n",
       "                        <td id=\"T_5fcb8_row29_col0\" class=\"data row29 col0\" >Seattle</td>\n",
       "                        <td id=\"T_5fcb8_row29_col1\" class=\"data row29 col1\" >1</td>\n",
       "                        <td id=\"T_5fcb8_row29_col2\" class=\"data row29 col2\" >Monday   </td>\n",
       "                        <td id=\"T_5fcb8_row29_col3\" class=\"data row29 col3\" >2913468</td>\n",
       "            </tr>\n",
       "            <tr>\n",
       "                        <th id=\"T_5fcb8_level0_row30\" class=\"row_heading level0 row30\" >30</th>\n",
       "                        <td id=\"T_5fcb8_row30_col0\" class=\"data row30 col0\" >Seattle</td>\n",
       "                        <td id=\"T_5fcb8_row30_col1\" class=\"data row30 col1\" >2</td>\n",
       "                        <td id=\"T_5fcb8_row30_col2\" class=\"data row30 col2\" >Tuesday  </td>\n",
       "                        <td id=\"T_5fcb8_row30_col3\" class=\"data row30 col3\" >1542972</td>\n",
       "            </tr>\n",
       "            <tr>\n",
       "                        <th id=\"T_5fcb8_level0_row31\" class=\"row_heading level0 row31\" >31</th>\n",
       "                        <td id=\"T_5fcb8_row31_col0\" class=\"data row31 col0\" >Seattle</td>\n",
       "                        <td id=\"T_5fcb8_row31_col1\" class=\"data row31 col1\" >3</td>\n",
       "                        <td id=\"T_5fcb8_row31_col2\" class=\"data row31 col2\" >Wednesday</td>\n",
       "                        <td id=\"T_5fcb8_row31_col3\" class=\"data row31 col3\" >3110952</td>\n",
       "            </tr>\n",
       "            <tr>\n",
       "                        <th id=\"T_5fcb8_level0_row32\" class=\"row_heading level0 row32\" >32</th>\n",
       "                        <td id=\"T_5fcb8_row32_col0\" class=\"data row32 col0\" >Seattle</td>\n",
       "                        <td id=\"T_5fcb8_row32_col1\" class=\"data row32 col1\" >4</td>\n",
       "                        <td id=\"T_5fcb8_row32_col2\" class=\"data row32 col2\" >Thursday </td>\n",
       "                        <td id=\"T_5fcb8_row32_col3\" class=\"data row32 col3\" >3094788</td>\n",
       "            </tr>\n",
       "            <tr>\n",
       "                        <th id=\"T_5fcb8_level0_row33\" class=\"row_heading level0 row33\" >33</th>\n",
       "                        <td id=\"T_5fcb8_row33_col0\" class=\"data row33 col0\" >Seattle</td>\n",
       "                        <td id=\"T_5fcb8_row33_col1\" class=\"data row33 col1\" >5</td>\n",
       "                        <td id=\"T_5fcb8_row33_col2\" class=\"data row33 col2\" >Friday   </td>\n",
       "                        <td id=\"T_5fcb8_row33_col3\" class=\"data row33 col3\" >2857272</td>\n",
       "            </tr>\n",
       "            <tr>\n",
       "                        <th id=\"T_5fcb8_level0_row34\" class=\"row_heading level0 row34\" >34</th>\n",
       "                        <td id=\"T_5fcb8_row34_col0\" class=\"data row34 col0\" >Seattle</td>\n",
       "                        <td id=\"T_5fcb8_row34_col1\" class=\"data row34 col1\" >6</td>\n",
       "                        <td id=\"T_5fcb8_row34_col2\" class=\"data row34 col2\" >Saturday </td>\n",
       "                        <td id=\"T_5fcb8_row34_col3\" class=\"data row34 col3\" >4336704</td>\n",
       "            </tr>\n",
       "    </tbody></table>"
      ],
      "text/plain": [
       "<pandas.io.formats.style.Styler at 0x7f12743757c0>"
      ]
     },
     "execution_count": 22,
     "metadata": {},
     "output_type": "execute_result"
    }
   ],
   "source": [
    "def sales_by_store_dow():\n",
    "    # Total Sales as a Dollar Amount by Store and Day of Week\n",
    "    rollback_before_flag = True\n",
    "    rollback_after_flag = True\n",
    "    query = \"\"\"\n",
    "\n",
    "    SELECT \n",
    "        s.city as store,\n",
    "        EXTRACT(dow FROM sa.sale_date) as dow, \n",
    "        to_char(sa.sale_date, 'Day') as day_of_week, \n",
    "        sum(sa.total_amount) as total_amount\n",
    "    FROM stores as s\n",
    "        JOIN sales as sa\n",
    "            ON s.store_id = sa.store_id\n",
    "    GROUP BY store, dow, day_of_week\n",
    "    ORDER By store, dow, day_of_week\n",
    "\n",
    "    \"\"\" \n",
    "    return my_select_query_pandas(query, rollback_before_flag, rollback_after_flag)\n",
    "\n",
    "sales_by_store_dow().style.set_caption('Total Sales as a Dollar Amount by Store and Day of Week')"
   ]
  },
  {
   "cell_type": "markdown",
   "id": "9408dcfe",
   "metadata": {},
   "source": [
    "Breaking up total amount by day of the week into stores show that all stores follow the same pattern."
   ]
  },
  {
   "cell_type": "markdown",
   "id": "03ae0bc7",
   "metadata": {},
   "source": [
    "# 1.1.7 Total Number of Sales for all of AGM"
   ]
  },
  {
   "cell_type": "code",
   "execution_count": 23,
   "id": "df7fc367",
   "metadata": {},
   "outputs": [
    {
     "data": {
      "text/html": [
       "<style  type=\"text/css\" >\n",
       "</style><table id=\"T_ddb93_\" ><caption>Total Number of Sales for all of AGM</caption><thead>    <tr>        <th class=\"blank level0\" ></th>        <th class=\"col_heading level0 col0\" >count_sales</th>    </tr></thead><tbody>\n",
       "                <tr>\n",
       "                        <th id=\"T_ddb93_level0_row0\" class=\"row_heading level0 row0\" >0</th>\n",
       "                        <td id=\"T_ddb93_row0_col0\" class=\"data row0 col0\" >1537617</td>\n",
       "            </tr>\n",
       "    </tbody></table>"
      ],
      "text/plain": [
       "<pandas.io.formats.style.Styler at 0x7f1275ec5d90>"
      ]
     },
     "execution_count": 23,
     "metadata": {},
     "output_type": "execute_result"
    }
   ],
   "source": [
    "def sales_ct_agm():\n",
    "    rollback_before_flag = True\n",
    "    rollback_after_flag = True\n",
    "    query = \"\"\"\n",
    "\n",
    "    SELECT COUNT(total_amount) as count_sales\n",
    "    FROM sales\n",
    "\n",
    "    \"\"\"\n",
    "    return my_select_query_pandas(query, rollback_before_flag, rollback_after_flag)\n",
    "sales_ct_agm().style.set_caption('Total Number of Sales for all of AGM')"
   ]
  },
  {
   "cell_type": "markdown",
   "id": "36a6a8f9",
   "metadata": {},
   "source": [
    "# 1.1.8 Total Number of Sales by Store\n",
    "\n",
    "Sort by store name in alphabetical order"
   ]
  },
  {
   "cell_type": "code",
   "execution_count": 24,
   "id": "017045da",
   "metadata": {},
   "outputs": [
    {
     "data": {
      "text/html": [
       "<style  type=\"text/css\" >\n",
       "</style><table id=\"T_bbd80_\" ><caption>Total Number of Sales by Store</caption><thead>    <tr>        <th class=\"blank level0\" ></th>        <th class=\"col_heading level0 col0\" >store</th>        <th class=\"col_heading level0 col1\" >sale_count</th>    </tr></thead><tbody>\n",
       "                <tr>\n",
       "                        <th id=\"T_bbd80_level0_row0\" class=\"row_heading level0 row0\" >0</th>\n",
       "                        <td id=\"T_bbd80_row0_col0\" class=\"data row0 col0\" >Berkeley</td>\n",
       "                        <td id=\"T_bbd80_row0_col1\" class=\"data row0 col1\" >390375</td>\n",
       "            </tr>\n",
       "            <tr>\n",
       "                        <th id=\"T_bbd80_level0_row1\" class=\"row_heading level0 row1\" >1</th>\n",
       "                        <td id=\"T_bbd80_row1_col0\" class=\"data row1 col0\" >Dallas</td>\n",
       "                        <td id=\"T_bbd80_row1_col1\" class=\"data row1 col1\" >302120</td>\n",
       "            </tr>\n",
       "            <tr>\n",
       "                        <th id=\"T_bbd80_level0_row2\" class=\"row_heading level0 row2\" >2</th>\n",
       "                        <td id=\"T_bbd80_row2_col0\" class=\"data row2 col0\" >Miami</td>\n",
       "                        <td id=\"T_bbd80_row2_col1\" class=\"data row2 col1\" >275074</td>\n",
       "            </tr>\n",
       "            <tr>\n",
       "                        <th id=\"T_bbd80_level0_row3\" class=\"row_heading level0 row3\" >3</th>\n",
       "                        <td id=\"T_bbd80_row3_col0\" class=\"data row3 col0\" >Nashville</td>\n",
       "                        <td id=\"T_bbd80_row3_col1\" class=\"data row3 col1\" >227721</td>\n",
       "            </tr>\n",
       "            <tr>\n",
       "                        <th id=\"T_bbd80_level0_row4\" class=\"row_heading level0 row4\" >4</th>\n",
       "                        <td id=\"T_bbd80_row4_col0\" class=\"data row4 col0\" >Seattle</td>\n",
       "                        <td id=\"T_bbd80_row4_col1\" class=\"data row4 col1\" >342327</td>\n",
       "            </tr>\n",
       "    </tbody></table>"
      ],
      "text/plain": [
       "<pandas.io.formats.style.Styler at 0x7f12743755e0>"
      ]
     },
     "execution_count": 24,
     "metadata": {},
     "output_type": "execute_result"
    }
   ],
   "source": [
    "def sales_ct_store():\n",
    "    rollback_before_flag = True\n",
    "    rollback_after_flag = True\n",
    "    query = \"\"\"\n",
    "\n",
    "    SELECT s.city as store, COUNT(sa.sale_id) as sale_count\n",
    "    FROM stores as s\n",
    "        JOIN sales as sa\n",
    "            ON s.store_id = sa.store_id\n",
    "    GROUP BY store\n",
    "    ORDER BY store\n",
    "\n",
    "    \"\"\"\n",
    "    return my_select_query_pandas(query, rollback_before_flag, rollback_after_flag)\n",
    "sales_ct_store().style.set_caption('Total Number of Sales by Store')"
   ]
  },
  {
   "cell_type": "markdown",
   "id": "12ed48aa",
   "metadata": {},
   "source": [
    "Number of sales by store has the same ranking as total dollar amount by store."
   ]
  },
  {
   "cell_type": "markdown",
   "id": "81901cac",
   "metadata": {},
   "source": [
    "# 1.1.9 Average Dollar Amount per Sale "
   ]
  },
  {
   "cell_type": "code",
   "execution_count": 25,
   "id": "34106b56",
   "metadata": {},
   "outputs": [
    {
     "data": {
      "text/html": [
       "<style  type=\"text/css\" >\n",
       "</style><table id=\"T_4ae8d_\" ><caption>Average Dollar Amount per Sale</caption><thead>    <tr>        <th class=\"blank level0\" ></th>        <th class=\"col_heading level0 col0\" >avg_amt</th>    </tr></thead><tbody>\n",
       "                <tr>\n",
       "                        <th id=\"T_4ae8d_level0_row0\" class=\"row_heading level0 row0\" >0</th>\n",
       "                        <td id=\"T_4ae8d_row0_col0\" class=\"data row0 col0\" >64.215866</td>\n",
       "            </tr>\n",
       "    </tbody></table>"
      ],
      "text/plain": [
       "<pandas.io.formats.style.Styler at 0x7f1274115eb0>"
      ]
     },
     "execution_count": 25,
     "metadata": {},
     "output_type": "execute_result"
    }
   ],
   "source": [
    "def avg_amount_per_sale():\n",
    "    rollback_before_flag = True\n",
    "    rollback_after_flag = True\n",
    "    query = \"\"\"\n",
    "\n",
    "    SELECT AVG(total_amount) as avg_amt\n",
    "    FROM sales\n",
    "\n",
    "    \"\"\"\n",
    "    return my_select_query_pandas(query, rollback_before_flag, rollback_after_flag)\n",
    "avg_amount_per_sale().style.set_caption('Average Dollar Amount per Sale')"
   ]
  },
  {
   "cell_type": "markdown",
   "id": "97a9094d",
   "metadata": {},
   "source": [
    "# 1.1.10 Average Dollar Amount per Sale by Store\n",
    "\n",
    "Sort by store name in alphabetical order"
   ]
  },
  {
   "cell_type": "code",
   "execution_count": 26,
   "id": "8976a83b",
   "metadata": {},
   "outputs": [
    {
     "data": {
      "text/html": [
       "<style  type=\"text/css\" >\n",
       "</style><table id=\"T_6a1ca_\" ><caption>Average Dollar Amount per Sale by Store</caption><thead>    <tr>        <th class=\"blank level0\" ></th>        <th class=\"col_heading level0 col0\" >store</th>        <th class=\"col_heading level0 col1\" >avg_amt</th>    </tr></thead><tbody>\n",
       "                <tr>\n",
       "                        <th id=\"T_6a1ca_level0_row0\" class=\"row_heading level0 row0\" >0</th>\n",
       "                        <td id=\"T_6a1ca_row0_col0\" class=\"data row0 col0\" >Berkeley</td>\n",
       "                        <td id=\"T_6a1ca_row0_col1\" class=\"data row0 col1\" >64.146167</td>\n",
       "            </tr>\n",
       "            <tr>\n",
       "                        <th id=\"T_6a1ca_level0_row1\" class=\"row_heading level0 row1\" >1</th>\n",
       "                        <td id=\"T_6a1ca_row1_col0\" class=\"data row1 col0\" >Dallas</td>\n",
       "                        <td id=\"T_6a1ca_row1_col1\" class=\"data row1 col1\" >64.240236</td>\n",
       "            </tr>\n",
       "            <tr>\n",
       "                        <th id=\"T_6a1ca_level0_row2\" class=\"row_heading level0 row2\" >2</th>\n",
       "                        <td id=\"T_6a1ca_row2_col0\" class=\"data row2 col0\" >Miami</td>\n",
       "                        <td id=\"T_6a1ca_row2_col1\" class=\"data row2 col1\" >64.318707</td>\n",
       "            </tr>\n",
       "            <tr>\n",
       "                        <th id=\"T_6a1ca_level0_row3\" class=\"row_heading level0 row3\" >3</th>\n",
       "                        <td id=\"T_6a1ca_row3_col0\" class=\"data row3 col0\" >Nashville</td>\n",
       "                        <td id=\"T_6a1ca_row3_col1\" class=\"data row3 col1\" >63.995732</td>\n",
       "            </tr>\n",
       "            <tr>\n",
       "                        <th id=\"T_6a1ca_level0_row4\" class=\"row_heading level0 row4\" >4</th>\n",
       "                        <td id=\"T_6a1ca_row4_col0\" class=\"data row4 col0\" >Seattle</td>\n",
       "                        <td id=\"T_6a1ca_row4_col1\" class=\"data row4 col1\" >64.337642</td>\n",
       "            </tr>\n",
       "    </tbody></table>"
      ],
      "text/plain": [
       "<pandas.io.formats.style.Styler at 0x7f1274115670>"
      ]
     },
     "execution_count": 26,
     "metadata": {},
     "output_type": "execute_result"
    }
   ],
   "source": [
    "def avg_amount_per_sale_store():\n",
    "    rollback_before_flag = True\n",
    "    rollback_after_flag = True\n",
    "    query = \"\"\"\n",
    "\n",
    "    SELECT s.city as store, AVG(sa.total_amount) as avg_amt\n",
    "    FROM stores as s\n",
    "        JOIN sales as sa\n",
    "            ON s.store_id = sa.store_id\n",
    "    GROUP BY store\n",
    "    ORDER BY store\n",
    "\n",
    "    \"\"\"\n",
    "    return my_select_query_pandas(query, rollback_before_flag, rollback_after_flag)\n",
    "avg_amount_per_sale_store().style.set_caption('Average Dollar Amount per Sale by Store')"
   ]
  },
  {
   "cell_type": "markdown",
   "id": "ff273ba2",
   "metadata": {},
   "source": [
    "# 1.1.11 The Executives have also asked you to provide your best example of a data visualization for one of the above queries\n",
    "\n",
    "You may choose any one of the above queries. \n",
    "\n",
    "It's best to select the one that you think will provide the most interesting data visualization.  \n",
    "\n",
    "You are allowed to add a pivot as demonstrated in the labs if it is needed for your data visualization. "
   ]
  },
  {
   "cell_type": "code",
   "execution_count": 28,
   "id": "89c76a91",
   "metadata": {},
   "outputs": [
    {
     "data": {
      "application/vnd.plotly.v1+json": {
       "config": {
        "plotlyServerURL": "https://plot.ly"
       },
       "data": [
        {
         "hovertemplate": "day of week=%{x}<br>total amount USD=%{y}<extra></extra>",
         "legendgroup": "",
         "line": {
          "color": "#636efa",
          "dash": "solid"
         },
         "marker": {
          "symbol": "circle"
         },
         "mode": "markers+lines",
         "name": "",
         "orientation": "v",
         "showlegend": false,
         "type": "scatter",
         "x": [
          "Sunday   ",
          "Monday   ",
          "Tuesday  ",
          "Wednesday",
          "Thursday ",
          "Friday   ",
          "Saturday "
         ],
         "xaxis": "x",
         "y": [
          18589068,
          13167720,
          6895332,
          13952556,
          13834644,
          12878628,
          19421460
         ],
         "yaxis": "y"
        }
       ],
       "layout": {
        "legend": {
         "tracegroupgap": 0
        },
        "template": {
         "data": {
          "bar": [
           {
            "error_x": {
             "color": "#2a3f5f"
            },
            "error_y": {
             "color": "#2a3f5f"
            },
            "marker": {
             "line": {
              "color": "white",
              "width": 0.5
             },
             "pattern": {
              "fillmode": "overlay",
              "size": 10,
              "solidity": 0.2
             }
            },
            "type": "bar"
           }
          ],
          "barpolar": [
           {
            "marker": {
             "line": {
              "color": "white",
              "width": 0.5
             },
             "pattern": {
              "fillmode": "overlay",
              "size": 10,
              "solidity": 0.2
             }
            },
            "type": "barpolar"
           }
          ],
          "carpet": [
           {
            "aaxis": {
             "endlinecolor": "#2a3f5f",
             "gridcolor": "#C8D4E3",
             "linecolor": "#C8D4E3",
             "minorgridcolor": "#C8D4E3",
             "startlinecolor": "#2a3f5f"
            },
            "baxis": {
             "endlinecolor": "#2a3f5f",
             "gridcolor": "#C8D4E3",
             "linecolor": "#C8D4E3",
             "minorgridcolor": "#C8D4E3",
             "startlinecolor": "#2a3f5f"
            },
            "type": "carpet"
           }
          ],
          "choropleth": [
           {
            "colorbar": {
             "outlinewidth": 0,
             "ticks": ""
            },
            "type": "choropleth"
           }
          ],
          "contour": [
           {
            "colorbar": {
             "outlinewidth": 0,
             "ticks": ""
            },
            "colorscale": [
             [
              0,
              "#0d0887"
             ],
             [
              0.1111111111111111,
              "#46039f"
             ],
             [
              0.2222222222222222,
              "#7201a8"
             ],
             [
              0.3333333333333333,
              "#9c179e"
             ],
             [
              0.4444444444444444,
              "#bd3786"
             ],
             [
              0.5555555555555556,
              "#d8576b"
             ],
             [
              0.6666666666666666,
              "#ed7953"
             ],
             [
              0.7777777777777778,
              "#fb9f3a"
             ],
             [
              0.8888888888888888,
              "#fdca26"
             ],
             [
              1,
              "#f0f921"
             ]
            ],
            "type": "contour"
           }
          ],
          "contourcarpet": [
           {
            "colorbar": {
             "outlinewidth": 0,
             "ticks": ""
            },
            "type": "contourcarpet"
           }
          ],
          "heatmap": [
           {
            "colorbar": {
             "outlinewidth": 0,
             "ticks": ""
            },
            "colorscale": [
             [
              0,
              "#0d0887"
             ],
             [
              0.1111111111111111,
              "#46039f"
             ],
             [
              0.2222222222222222,
              "#7201a8"
             ],
             [
              0.3333333333333333,
              "#9c179e"
             ],
             [
              0.4444444444444444,
              "#bd3786"
             ],
             [
              0.5555555555555556,
              "#d8576b"
             ],
             [
              0.6666666666666666,
              "#ed7953"
             ],
             [
              0.7777777777777778,
              "#fb9f3a"
             ],
             [
              0.8888888888888888,
              "#fdca26"
             ],
             [
              1,
              "#f0f921"
             ]
            ],
            "type": "heatmap"
           }
          ],
          "heatmapgl": [
           {
            "colorbar": {
             "outlinewidth": 0,
             "ticks": ""
            },
            "colorscale": [
             [
              0,
              "#0d0887"
             ],
             [
              0.1111111111111111,
              "#46039f"
             ],
             [
              0.2222222222222222,
              "#7201a8"
             ],
             [
              0.3333333333333333,
              "#9c179e"
             ],
             [
              0.4444444444444444,
              "#bd3786"
             ],
             [
              0.5555555555555556,
              "#d8576b"
             ],
             [
              0.6666666666666666,
              "#ed7953"
             ],
             [
              0.7777777777777778,
              "#fb9f3a"
             ],
             [
              0.8888888888888888,
              "#fdca26"
             ],
             [
              1,
              "#f0f921"
             ]
            ],
            "type": "heatmapgl"
           }
          ],
          "histogram": [
           {
            "marker": {
             "pattern": {
              "fillmode": "overlay",
              "size": 10,
              "solidity": 0.2
             }
            },
            "type": "histogram"
           }
          ],
          "histogram2d": [
           {
            "colorbar": {
             "outlinewidth": 0,
             "ticks": ""
            },
            "colorscale": [
             [
              0,
              "#0d0887"
             ],
             [
              0.1111111111111111,
              "#46039f"
             ],
             [
              0.2222222222222222,
              "#7201a8"
             ],
             [
              0.3333333333333333,
              "#9c179e"
             ],
             [
              0.4444444444444444,
              "#bd3786"
             ],
             [
              0.5555555555555556,
              "#d8576b"
             ],
             [
              0.6666666666666666,
              "#ed7953"
             ],
             [
              0.7777777777777778,
              "#fb9f3a"
             ],
             [
              0.8888888888888888,
              "#fdca26"
             ],
             [
              1,
              "#f0f921"
             ]
            ],
            "type": "histogram2d"
           }
          ],
          "histogram2dcontour": [
           {
            "colorbar": {
             "outlinewidth": 0,
             "ticks": ""
            },
            "colorscale": [
             [
              0,
              "#0d0887"
             ],
             [
              0.1111111111111111,
              "#46039f"
             ],
             [
              0.2222222222222222,
              "#7201a8"
             ],
             [
              0.3333333333333333,
              "#9c179e"
             ],
             [
              0.4444444444444444,
              "#bd3786"
             ],
             [
              0.5555555555555556,
              "#d8576b"
             ],
             [
              0.6666666666666666,
              "#ed7953"
             ],
             [
              0.7777777777777778,
              "#fb9f3a"
             ],
             [
              0.8888888888888888,
              "#fdca26"
             ],
             [
              1,
              "#f0f921"
             ]
            ],
            "type": "histogram2dcontour"
           }
          ],
          "mesh3d": [
           {
            "colorbar": {
             "outlinewidth": 0,
             "ticks": ""
            },
            "type": "mesh3d"
           }
          ],
          "parcoords": [
           {
            "line": {
             "colorbar": {
              "outlinewidth": 0,
              "ticks": ""
             }
            },
            "type": "parcoords"
           }
          ],
          "pie": [
           {
            "automargin": true,
            "type": "pie"
           }
          ],
          "scatter": [
           {
            "marker": {
             "colorbar": {
              "outlinewidth": 0,
              "ticks": ""
             }
            },
            "type": "scatter"
           }
          ],
          "scatter3d": [
           {
            "line": {
             "colorbar": {
              "outlinewidth": 0,
              "ticks": ""
             }
            },
            "marker": {
             "colorbar": {
              "outlinewidth": 0,
              "ticks": ""
             }
            },
            "type": "scatter3d"
           }
          ],
          "scattercarpet": [
           {
            "marker": {
             "colorbar": {
              "outlinewidth": 0,
              "ticks": ""
             }
            },
            "type": "scattercarpet"
           }
          ],
          "scattergeo": [
           {
            "marker": {
             "colorbar": {
              "outlinewidth": 0,
              "ticks": ""
             }
            },
            "type": "scattergeo"
           }
          ],
          "scattergl": [
           {
            "marker": {
             "colorbar": {
              "outlinewidth": 0,
              "ticks": ""
             }
            },
            "type": "scattergl"
           }
          ],
          "scattermapbox": [
           {
            "marker": {
             "colorbar": {
              "outlinewidth": 0,
              "ticks": ""
             }
            },
            "type": "scattermapbox"
           }
          ],
          "scatterpolar": [
           {
            "marker": {
             "colorbar": {
              "outlinewidth": 0,
              "ticks": ""
             }
            },
            "type": "scatterpolar"
           }
          ],
          "scatterpolargl": [
           {
            "marker": {
             "colorbar": {
              "outlinewidth": 0,
              "ticks": ""
             }
            },
            "type": "scatterpolargl"
           }
          ],
          "scatterternary": [
           {
            "marker": {
             "colorbar": {
              "outlinewidth": 0,
              "ticks": ""
             }
            },
            "type": "scatterternary"
           }
          ],
          "surface": [
           {
            "colorbar": {
             "outlinewidth": 0,
             "ticks": ""
            },
            "colorscale": [
             [
              0,
              "#0d0887"
             ],
             [
              0.1111111111111111,
              "#46039f"
             ],
             [
              0.2222222222222222,
              "#7201a8"
             ],
             [
              0.3333333333333333,
              "#9c179e"
             ],
             [
              0.4444444444444444,
              "#bd3786"
             ],
             [
              0.5555555555555556,
              "#d8576b"
             ],
             [
              0.6666666666666666,
              "#ed7953"
             ],
             [
              0.7777777777777778,
              "#fb9f3a"
             ],
             [
              0.8888888888888888,
              "#fdca26"
             ],
             [
              1,
              "#f0f921"
             ]
            ],
            "type": "surface"
           }
          ],
          "table": [
           {
            "cells": {
             "fill": {
              "color": "#EBF0F8"
             },
             "line": {
              "color": "white"
             }
            },
            "header": {
             "fill": {
              "color": "#C8D4E3"
             },
             "line": {
              "color": "white"
             }
            },
            "type": "table"
           }
          ]
         },
         "layout": {
          "annotationdefaults": {
           "arrowcolor": "#2a3f5f",
           "arrowhead": 0,
           "arrowwidth": 1
          },
          "autotypenumbers": "strict",
          "coloraxis": {
           "colorbar": {
            "outlinewidth": 0,
            "ticks": ""
           }
          },
          "colorscale": {
           "diverging": [
            [
             0,
             "#8e0152"
            ],
            [
             0.1,
             "#c51b7d"
            ],
            [
             0.2,
             "#de77ae"
            ],
            [
             0.3,
             "#f1b6da"
            ],
            [
             0.4,
             "#fde0ef"
            ],
            [
             0.5,
             "#f7f7f7"
            ],
            [
             0.6,
             "#e6f5d0"
            ],
            [
             0.7,
             "#b8e186"
            ],
            [
             0.8,
             "#7fbc41"
            ],
            [
             0.9,
             "#4d9221"
            ],
            [
             1,
             "#276419"
            ]
           ],
           "sequential": [
            [
             0,
             "#0d0887"
            ],
            [
             0.1111111111111111,
             "#46039f"
            ],
            [
             0.2222222222222222,
             "#7201a8"
            ],
            [
             0.3333333333333333,
             "#9c179e"
            ],
            [
             0.4444444444444444,
             "#bd3786"
            ],
            [
             0.5555555555555556,
             "#d8576b"
            ],
            [
             0.6666666666666666,
             "#ed7953"
            ],
            [
             0.7777777777777778,
             "#fb9f3a"
            ],
            [
             0.8888888888888888,
             "#fdca26"
            ],
            [
             1,
             "#f0f921"
            ]
           ],
           "sequentialminus": [
            [
             0,
             "#0d0887"
            ],
            [
             0.1111111111111111,
             "#46039f"
            ],
            [
             0.2222222222222222,
             "#7201a8"
            ],
            [
             0.3333333333333333,
             "#9c179e"
            ],
            [
             0.4444444444444444,
             "#bd3786"
            ],
            [
             0.5555555555555556,
             "#d8576b"
            ],
            [
             0.6666666666666666,
             "#ed7953"
            ],
            [
             0.7777777777777778,
             "#fb9f3a"
            ],
            [
             0.8888888888888888,
             "#fdca26"
            ],
            [
             1,
             "#f0f921"
            ]
           ]
          },
          "colorway": [
           "#636efa",
           "#EF553B",
           "#00cc96",
           "#ab63fa",
           "#FFA15A",
           "#19d3f3",
           "#FF6692",
           "#B6E880",
           "#FF97FF",
           "#FECB52"
          ],
          "font": {
           "color": "#2a3f5f"
          },
          "geo": {
           "bgcolor": "white",
           "lakecolor": "white",
           "landcolor": "white",
           "showlakes": true,
           "showland": true,
           "subunitcolor": "#C8D4E3"
          },
          "hoverlabel": {
           "align": "left"
          },
          "hovermode": "closest",
          "mapbox": {
           "style": "light"
          },
          "paper_bgcolor": "white",
          "plot_bgcolor": "white",
          "polar": {
           "angularaxis": {
            "gridcolor": "#EBF0F8",
            "linecolor": "#EBF0F8",
            "ticks": ""
           },
           "bgcolor": "white",
           "radialaxis": {
            "gridcolor": "#EBF0F8",
            "linecolor": "#EBF0F8",
            "ticks": ""
           }
          },
          "scene": {
           "xaxis": {
            "backgroundcolor": "white",
            "gridcolor": "#DFE8F3",
            "gridwidth": 2,
            "linecolor": "#EBF0F8",
            "showbackground": true,
            "ticks": "",
            "zerolinecolor": "#EBF0F8"
           },
           "yaxis": {
            "backgroundcolor": "white",
            "gridcolor": "#DFE8F3",
            "gridwidth": 2,
            "linecolor": "#EBF0F8",
            "showbackground": true,
            "ticks": "",
            "zerolinecolor": "#EBF0F8"
           },
           "zaxis": {
            "backgroundcolor": "white",
            "gridcolor": "#DFE8F3",
            "gridwidth": 2,
            "linecolor": "#EBF0F8",
            "showbackground": true,
            "ticks": "",
            "zerolinecolor": "#EBF0F8"
           }
          },
          "shapedefaults": {
           "line": {
            "color": "#2a3f5f"
           }
          },
          "ternary": {
           "aaxis": {
            "gridcolor": "#DFE8F3",
            "linecolor": "#A2B1C6",
            "ticks": ""
           },
           "baxis": {
            "gridcolor": "#DFE8F3",
            "linecolor": "#A2B1C6",
            "ticks": ""
           },
           "bgcolor": "white",
           "caxis": {
            "gridcolor": "#DFE8F3",
            "linecolor": "#A2B1C6",
            "ticks": ""
           }
          },
          "title": {
           "x": 0.05
          },
          "xaxis": {
           "automargin": true,
           "gridcolor": "#EBF0F8",
           "linecolor": "#EBF0F8",
           "ticks": "",
           "title": {
            "standoff": 15
           },
           "zerolinecolor": "#EBF0F8",
           "zerolinewidth": 2
          },
          "yaxis": {
           "automargin": true,
           "gridcolor": "#EBF0F8",
           "linecolor": "#EBF0F8",
           "ticks": "",
           "title": {
            "standoff": 15
           },
           "zerolinecolor": "#EBF0F8",
           "zerolinewidth": 2
          }
         }
        },
        "title": {
         "text": "Total Sales as a Dollar Amount by Day of Week"
        },
        "xaxis": {
         "anchor": "y",
         "domain": [
          0,
          1
         ],
         "title": {
          "text": "day of week"
         }
        },
        "yaxis": {
         "anchor": "x",
         "domain": [
          0,
          1
         ],
         "title": {
          "text": "total amount USD"
         }
        }
       }
      },
      "text/html": [
       "<div>                            <div id=\"c1cc7cbb-0866-40b5-91ef-3a86c6efa819\" class=\"plotly-graph-div\" style=\"height:525px; width:100%;\"></div>            <script type=\"text/javascript\">                require([\"plotly\"], function(Plotly) {                    window.PLOTLYENV=window.PLOTLYENV || {};                                    if (document.getElementById(\"c1cc7cbb-0866-40b5-91ef-3a86c6efa819\")) {                    Plotly.newPlot(                        \"c1cc7cbb-0866-40b5-91ef-3a86c6efa819\",                        [{\"hovertemplate\":\"day of week=%{x}<br>total amount USD=%{y}<extra></extra>\",\"legendgroup\":\"\",\"line\":{\"color\":\"#636efa\",\"dash\":\"solid\"},\"marker\":{\"symbol\":\"circle\"},\"mode\":\"markers+lines\",\"name\":\"\",\"orientation\":\"v\",\"showlegend\":false,\"x\":[\"Sunday   \",\"Monday   \",\"Tuesday  \",\"Wednesday\",\"Thursday \",\"Friday   \",\"Saturday \"],\"xaxis\":\"x\",\"y\":[18589068,13167720,6895332,13952556,13834644,12878628,19421460],\"yaxis\":\"y\",\"type\":\"scatter\"}],                        {\"template\":{\"data\":{\"barpolar\":[{\"marker\":{\"line\":{\"color\":\"white\",\"width\":0.5},\"pattern\":{\"fillmode\":\"overlay\",\"size\":10,\"solidity\":0.2}},\"type\":\"barpolar\"}],\"bar\":[{\"error_x\":{\"color\":\"#2a3f5f\"},\"error_y\":{\"color\":\"#2a3f5f\"},\"marker\":{\"line\":{\"color\":\"white\",\"width\":0.5},\"pattern\":{\"fillmode\":\"overlay\",\"size\":10,\"solidity\":0.2}},\"type\":\"bar\"}],\"carpet\":[{\"aaxis\":{\"endlinecolor\":\"#2a3f5f\",\"gridcolor\":\"#C8D4E3\",\"linecolor\":\"#C8D4E3\",\"minorgridcolor\":\"#C8D4E3\",\"startlinecolor\":\"#2a3f5f\"},\"baxis\":{\"endlinecolor\":\"#2a3f5f\",\"gridcolor\":\"#C8D4E3\",\"linecolor\":\"#C8D4E3\",\"minorgridcolor\":\"#C8D4E3\",\"startlinecolor\":\"#2a3f5f\"},\"type\":\"carpet\"}],\"choropleth\":[{\"colorbar\":{\"outlinewidth\":0,\"ticks\":\"\"},\"type\":\"choropleth\"}],\"contourcarpet\":[{\"colorbar\":{\"outlinewidth\":0,\"ticks\":\"\"},\"type\":\"contourcarpet\"}],\"contour\":[{\"colorbar\":{\"outlinewidth\":0,\"ticks\":\"\"},\"colorscale\":[[0.0,\"#0d0887\"],[0.1111111111111111,\"#46039f\"],[0.2222222222222222,\"#7201a8\"],[0.3333333333333333,\"#9c179e\"],[0.4444444444444444,\"#bd3786\"],[0.5555555555555556,\"#d8576b\"],[0.6666666666666666,\"#ed7953\"],[0.7777777777777778,\"#fb9f3a\"],[0.8888888888888888,\"#fdca26\"],[1.0,\"#f0f921\"]],\"type\":\"contour\"}],\"heatmapgl\":[{\"colorbar\":{\"outlinewidth\":0,\"ticks\":\"\"},\"colorscale\":[[0.0,\"#0d0887\"],[0.1111111111111111,\"#46039f\"],[0.2222222222222222,\"#7201a8\"],[0.3333333333333333,\"#9c179e\"],[0.4444444444444444,\"#bd3786\"],[0.5555555555555556,\"#d8576b\"],[0.6666666666666666,\"#ed7953\"],[0.7777777777777778,\"#fb9f3a\"],[0.8888888888888888,\"#fdca26\"],[1.0,\"#f0f921\"]],\"type\":\"heatmapgl\"}],\"heatmap\":[{\"colorbar\":{\"outlinewidth\":0,\"ticks\":\"\"},\"colorscale\":[[0.0,\"#0d0887\"],[0.1111111111111111,\"#46039f\"],[0.2222222222222222,\"#7201a8\"],[0.3333333333333333,\"#9c179e\"],[0.4444444444444444,\"#bd3786\"],[0.5555555555555556,\"#d8576b\"],[0.6666666666666666,\"#ed7953\"],[0.7777777777777778,\"#fb9f3a\"],[0.8888888888888888,\"#fdca26\"],[1.0,\"#f0f921\"]],\"type\":\"heatmap\"}],\"histogram2dcontour\":[{\"colorbar\":{\"outlinewidth\":0,\"ticks\":\"\"},\"colorscale\":[[0.0,\"#0d0887\"],[0.1111111111111111,\"#46039f\"],[0.2222222222222222,\"#7201a8\"],[0.3333333333333333,\"#9c179e\"],[0.4444444444444444,\"#bd3786\"],[0.5555555555555556,\"#d8576b\"],[0.6666666666666666,\"#ed7953\"],[0.7777777777777778,\"#fb9f3a\"],[0.8888888888888888,\"#fdca26\"],[1.0,\"#f0f921\"]],\"type\":\"histogram2dcontour\"}],\"histogram2d\":[{\"colorbar\":{\"outlinewidth\":0,\"ticks\":\"\"},\"colorscale\":[[0.0,\"#0d0887\"],[0.1111111111111111,\"#46039f\"],[0.2222222222222222,\"#7201a8\"],[0.3333333333333333,\"#9c179e\"],[0.4444444444444444,\"#bd3786\"],[0.5555555555555556,\"#d8576b\"],[0.6666666666666666,\"#ed7953\"],[0.7777777777777778,\"#fb9f3a\"],[0.8888888888888888,\"#fdca26\"],[1.0,\"#f0f921\"]],\"type\":\"histogram2d\"}],\"histogram\":[{\"marker\":{\"pattern\":{\"fillmode\":\"overlay\",\"size\":10,\"solidity\":0.2}},\"type\":\"histogram\"}],\"mesh3d\":[{\"colorbar\":{\"outlinewidth\":0,\"ticks\":\"\"},\"type\":\"mesh3d\"}],\"parcoords\":[{\"line\":{\"colorbar\":{\"outlinewidth\":0,\"ticks\":\"\"}},\"type\":\"parcoords\"}],\"pie\":[{\"automargin\":true,\"type\":\"pie\"}],\"scatter3d\":[{\"line\":{\"colorbar\":{\"outlinewidth\":0,\"ticks\":\"\"}},\"marker\":{\"colorbar\":{\"outlinewidth\":0,\"ticks\":\"\"}},\"type\":\"scatter3d\"}],\"scattercarpet\":[{\"marker\":{\"colorbar\":{\"outlinewidth\":0,\"ticks\":\"\"}},\"type\":\"scattercarpet\"}],\"scattergeo\":[{\"marker\":{\"colorbar\":{\"outlinewidth\":0,\"ticks\":\"\"}},\"type\":\"scattergeo\"}],\"scattergl\":[{\"marker\":{\"colorbar\":{\"outlinewidth\":0,\"ticks\":\"\"}},\"type\":\"scattergl\"}],\"scattermapbox\":[{\"marker\":{\"colorbar\":{\"outlinewidth\":0,\"ticks\":\"\"}},\"type\":\"scattermapbox\"}],\"scatterpolargl\":[{\"marker\":{\"colorbar\":{\"outlinewidth\":0,\"ticks\":\"\"}},\"type\":\"scatterpolargl\"}],\"scatterpolar\":[{\"marker\":{\"colorbar\":{\"outlinewidth\":0,\"ticks\":\"\"}},\"type\":\"scatterpolar\"}],\"scatter\":[{\"marker\":{\"colorbar\":{\"outlinewidth\":0,\"ticks\":\"\"}},\"type\":\"scatter\"}],\"scatterternary\":[{\"marker\":{\"colorbar\":{\"outlinewidth\":0,\"ticks\":\"\"}},\"type\":\"scatterternary\"}],\"surface\":[{\"colorbar\":{\"outlinewidth\":0,\"ticks\":\"\"},\"colorscale\":[[0.0,\"#0d0887\"],[0.1111111111111111,\"#46039f\"],[0.2222222222222222,\"#7201a8\"],[0.3333333333333333,\"#9c179e\"],[0.4444444444444444,\"#bd3786\"],[0.5555555555555556,\"#d8576b\"],[0.6666666666666666,\"#ed7953\"],[0.7777777777777778,\"#fb9f3a\"],[0.8888888888888888,\"#fdca26\"],[1.0,\"#f0f921\"]],\"type\":\"surface\"}],\"table\":[{\"cells\":{\"fill\":{\"color\":\"#EBF0F8\"},\"line\":{\"color\":\"white\"}},\"header\":{\"fill\":{\"color\":\"#C8D4E3\"},\"line\":{\"color\":\"white\"}},\"type\":\"table\"}]},\"layout\":{\"annotationdefaults\":{\"arrowcolor\":\"#2a3f5f\",\"arrowhead\":0,\"arrowwidth\":1},\"autotypenumbers\":\"strict\",\"coloraxis\":{\"colorbar\":{\"outlinewidth\":0,\"ticks\":\"\"}},\"colorscale\":{\"diverging\":[[0,\"#8e0152\"],[0.1,\"#c51b7d\"],[0.2,\"#de77ae\"],[0.3,\"#f1b6da\"],[0.4,\"#fde0ef\"],[0.5,\"#f7f7f7\"],[0.6,\"#e6f5d0\"],[0.7,\"#b8e186\"],[0.8,\"#7fbc41\"],[0.9,\"#4d9221\"],[1,\"#276419\"]],\"sequential\":[[0.0,\"#0d0887\"],[0.1111111111111111,\"#46039f\"],[0.2222222222222222,\"#7201a8\"],[0.3333333333333333,\"#9c179e\"],[0.4444444444444444,\"#bd3786\"],[0.5555555555555556,\"#d8576b\"],[0.6666666666666666,\"#ed7953\"],[0.7777777777777778,\"#fb9f3a\"],[0.8888888888888888,\"#fdca26\"],[1.0,\"#f0f921\"]],\"sequentialminus\":[[0.0,\"#0d0887\"],[0.1111111111111111,\"#46039f\"],[0.2222222222222222,\"#7201a8\"],[0.3333333333333333,\"#9c179e\"],[0.4444444444444444,\"#bd3786\"],[0.5555555555555556,\"#d8576b\"],[0.6666666666666666,\"#ed7953\"],[0.7777777777777778,\"#fb9f3a\"],[0.8888888888888888,\"#fdca26\"],[1.0,\"#f0f921\"]]},\"colorway\":[\"#636efa\",\"#EF553B\",\"#00cc96\",\"#ab63fa\",\"#FFA15A\",\"#19d3f3\",\"#FF6692\",\"#B6E880\",\"#FF97FF\",\"#FECB52\"],\"font\":{\"color\":\"#2a3f5f\"},\"geo\":{\"bgcolor\":\"white\",\"lakecolor\":\"white\",\"landcolor\":\"white\",\"showlakes\":true,\"showland\":true,\"subunitcolor\":\"#C8D4E3\"},\"hoverlabel\":{\"align\":\"left\"},\"hovermode\":\"closest\",\"mapbox\":{\"style\":\"light\"},\"paper_bgcolor\":\"white\",\"plot_bgcolor\":\"white\",\"polar\":{\"angularaxis\":{\"gridcolor\":\"#EBF0F8\",\"linecolor\":\"#EBF0F8\",\"ticks\":\"\"},\"bgcolor\":\"white\",\"radialaxis\":{\"gridcolor\":\"#EBF0F8\",\"linecolor\":\"#EBF0F8\",\"ticks\":\"\"}},\"scene\":{\"xaxis\":{\"backgroundcolor\":\"white\",\"gridcolor\":\"#DFE8F3\",\"gridwidth\":2,\"linecolor\":\"#EBF0F8\",\"showbackground\":true,\"ticks\":\"\",\"zerolinecolor\":\"#EBF0F8\"},\"yaxis\":{\"backgroundcolor\":\"white\",\"gridcolor\":\"#DFE8F3\",\"gridwidth\":2,\"linecolor\":\"#EBF0F8\",\"showbackground\":true,\"ticks\":\"\",\"zerolinecolor\":\"#EBF0F8\"},\"zaxis\":{\"backgroundcolor\":\"white\",\"gridcolor\":\"#DFE8F3\",\"gridwidth\":2,\"linecolor\":\"#EBF0F8\",\"showbackground\":true,\"ticks\":\"\",\"zerolinecolor\":\"#EBF0F8\"}},\"shapedefaults\":{\"line\":{\"color\":\"#2a3f5f\"}},\"ternary\":{\"aaxis\":{\"gridcolor\":\"#DFE8F3\",\"linecolor\":\"#A2B1C6\",\"ticks\":\"\"},\"baxis\":{\"gridcolor\":\"#DFE8F3\",\"linecolor\":\"#A2B1C6\",\"ticks\":\"\"},\"bgcolor\":\"white\",\"caxis\":{\"gridcolor\":\"#DFE8F3\",\"linecolor\":\"#A2B1C6\",\"ticks\":\"\"}},\"title\":{\"x\":0.05},\"xaxis\":{\"automargin\":true,\"gridcolor\":\"#EBF0F8\",\"linecolor\":\"#EBF0F8\",\"ticks\":\"\",\"title\":{\"standoff\":15},\"zerolinecolor\":\"#EBF0F8\",\"zerolinewidth\":2},\"yaxis\":{\"automargin\":true,\"gridcolor\":\"#EBF0F8\",\"linecolor\":\"#EBF0F8\",\"ticks\":\"\",\"title\":{\"standoff\":15},\"zerolinecolor\":\"#EBF0F8\",\"zerolinewidth\":2}}},\"xaxis\":{\"anchor\":\"y\",\"domain\":[0.0,1.0],\"title\":{\"text\":\"day of week\"}},\"yaxis\":{\"anchor\":\"x\",\"domain\":[0.0,1.0],\"title\":{\"text\":\"total amount USD\"}},\"legend\":{\"tracegroupgap\":0},\"title\":{\"text\":\"Total Sales as a Dollar Amount by Day of Week\"}},                        {\"responsive\": true}                    ).then(function(){\n",
       "                            \n",
       "var gd = document.getElementById('c1cc7cbb-0866-40b5-91ef-3a86c6efa819');\n",
       "var x = new MutationObserver(function (mutations, observer) {{\n",
       "        var display = window.getComputedStyle(gd).display;\n",
       "        if (!display || display === 'none') {{\n",
       "            console.log([gd, 'removed!']);\n",
       "            Plotly.purge(gd);\n",
       "            observer.disconnect();\n",
       "        }}\n",
       "}});\n",
       "\n",
       "// Listen for the removal of the full notebook cells\n",
       "var notebookContainer = gd.closest('#notebook-container');\n",
       "if (notebookContainer) {{\n",
       "    x.observe(notebookContainer, {childList: true});\n",
       "}}\n",
       "\n",
       "// Listen for the clearing of the current output cell\n",
       "var outputEl = gd.closest('.output');\n",
       "if (outputEl) {{\n",
       "    x.observe(outputEl, {childList: true});\n",
       "}}\n",
       "\n",
       "                        })                };                });            </script>        </div>"
      ]
     },
     "metadata": {},
     "output_type": "display_data"
    }
   ],
   "source": [
    "def fig_sales_by_dow():\n",
    "    fig = px.line(sales_by_dow(), x='day_of_week', y='total_amount',\n",
    "                 title='Total Sales as a Dollar Amount by Day of Week',\n",
    "                 labels={'day_of_week': 'day of week',\n",
    "                        'total_amount':'total amount USD'},\n",
    "                 template='plotly_white',\n",
    "                 markers=True)\n",
    "    fig.show()\n",
    "    return\n",
    "fig_sales_by_dow()"
   ]
  },
  {
   "cell_type": "code",
   "execution_count": null,
   "id": "61ec0a42",
   "metadata": {},
   "outputs": [],
   "source": []
  }
 ],
 "metadata": {
  "kernelspec": {
   "display_name": "Python 3",
   "language": "python",
   "name": "python3"
  },
  "language_info": {
   "codemirror_mode": {
    "name": "ipython",
    "version": 3
   },
   "file_extension": ".py",
   "mimetype": "text/x-python",
   "name": "python",
   "nbconvert_exporter": "python",
   "pygments_lexer": "ipython3",
   "version": "3.8.8"
  }
 },
 "nbformat": 4,
 "nbformat_minor": 5
}
